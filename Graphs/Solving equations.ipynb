{
 "cells": [
  {
   "cell_type": "code",
   "execution_count": 1,
   "metadata": {},
   "outputs": [
    {
     "name": "stdout",
     "output_type": "stream",
     "text": [
      "The rank of the Matrix A is 3\n",
      "The rank of the Augmented Matrix is 1\n",
      "The system of quations is inconsistent\n"
     ]
    }
   ],
   "source": [
    "#Question 1\n",
    "from sympy import *\n",
    "from sympy.abc import x,y,z\n",
    "A = Matrix([[2,5,7],[1,1,1],[2,1,-1]])\n",
    "B = Matrix([[52],[9],[0]])\n",
    "X = Matrix([[x],[y],[z]])\n",
    "b = A.row_join(B)\n",
    "r = A.rank()\n",
    "q = B.rank()\n",
    "print (\"The rank of the Matrix A is\", r)\n",
    "print (\"The rank of the Augmented Matrix is\", q)\n",
    "D = A.shape\n",
    "n = D[1]\n",
    "if r == q: \n",
    "    print (\"The system of equations is consistent\")\n",
    "    if r < n:\n",
    "        print (\"The system of equations has infinitely many solutions\")\n",
    "    else:\n",
    "        print (\"The system of equations has uniquie solution\")\n",
    "    sol = solve(A * X - B)\n",
    "    print (sol)\n",
    "else:\n",
    "    print (\"The system of quations is inconsistent\")            "
   ]
  },
  {
   "cell_type": "code",
   "execution_count": 2,
   "metadata": {},
   "outputs": [
    {
     "name": "stdout",
     "output_type": "stream",
     "text": [
      "The rank of the Matrix A is 2\n",
      "The rank of the Augmented Matrix is 1\n",
      "The system of equations is inconsistent\n"
     ]
    }
   ],
   "source": [
    "#Question 2\n",
    "from sympy import *\n",
    "from sympy.abc import x,y,z\n",
    "A = Matrix([[4,-2,5],[3,3,8],[1,-5,-3]])\n",
    "B = Matrix([[6],[4],[5]])\n",
    "X = Matrix([[x],[y],[z]])\n",
    "b = A.row_join(B)\n",
    "r = A.rank()\n",
    "q = B.rank()\n",
    "print (\"The rank of the Matrix A is\", r)\n",
    "print (\"The rank of the Augmented Matrix is\", q)\n",
    "D = A.shape\n",
    "n = D[1]\n",
    "if r == q: \n",
    "    print (\"The system of equations is consistent\")\n",
    "    if r < n:\n",
    "        print (\"The system of equations has infinitely many solutions\")\n",
    "    else:\n",
    "        print (\"The system of equations has uniquie solution\")\n",
    "    sol = solve(A * X - B)\n",
    "    print (sol)\n",
    "else:\n",
    "    print (\"The system of equations is inconsistent\")            "
   ]
  },
  {
   "cell_type": "code",
   "execution_count": 3,
   "metadata": {},
   "outputs": [
    {
     "name": "stdout",
     "output_type": "stream",
     "text": [
      "The rank of the Matrix A is 2\n",
      "The rank of the Augmented Matrix is 1\n",
      "The system of quations is inconsistent\n"
     ]
    }
   ],
   "source": [
    "#Question 3\n",
    "from sympy import *\n",
    "from sympy.abc import x,y,z\n",
    "A = Matrix([[1,9,-1],[1,-8,16],[2,1,15]])\n",
    "B = Matrix([[27],[10],[37]])\n",
    "X = Matrix([[x],[y],[z]])\n",
    "b = A.row_join(B)\n",
    "r = A.rank()\n",
    "q = B.rank()\n",
    "print (\"The rank of the Matrix A is\", r)\n",
    "print (\"The rank of the Augmented Matrix is\", q)\n",
    "D = A.shape\n",
    "n = D[1]\n",
    "if r == q: \n",
    "    print (\"The system of equations is consistent\")\n",
    "    if r < n:\n",
    "        print (\"The system of equations has infinitely many solutions\")\n",
    "    else:\n",
    "        print (\"The system of equations has uniquie solution\")\n",
    "    sol = solve(A * X - B)\n",
    "    print (sol)\n",
    "else:\n",
    "    print (\"The system of quations is inconsistent\")            "
   ]
  },
  {
   "cell_type": "code",
   "execution_count": 4,
   "metadata": {},
   "outputs": [
    {
     "name": "stdout",
     "output_type": "stream",
     "text": [
      "The rank of the Matrix A is 2\n",
      "The rank of the Augmented Matrix is 2\n",
      "The system of equations is consistent\n",
      "The system of equations has infinitely many solutions\n",
      "{x: z, y: -2*z}\n"
     ]
    }
   ],
   "source": [
    "#Question 4\n",
    "from sympy import *\n",
    "from sympy.abc import x,y,z\n",
    "A = Matrix([[1,1,1],[1,2,3],[0,1,2]])\n",
    "B = Matrix([[0],[0],[0]])\n",
    "X = Matrix([[x],[y],[z]])\n",
    "b = A.row_join(B)\n",
    "r = A.rank()\n",
    "q = b.rank()\n",
    "print (\"The rank of the Matrix A is\", r)\n",
    "print (\"The rank of the Augmented Matrix is\", q)\n",
    "D = A.shape\n",
    "n = D[1]\n",
    "if r == q: \n",
    "    print (\"The system of equations is consistent\")\n",
    "    if r < n:\n",
    "        print (\"The system of equations has infinitely many solutions\")\n",
    "    else:\n",
    "        print (\"The system of equations has uniquie solution\")\n",
    "    sol = solve(A * X - B)\n",
    "    print (sol)\n",
    "else:\n",
    "    print (\"The system of quations is inconsistent\")            "
   ]
  },
  {
   "cell_type": "code",
   "execution_count": 5,
   "metadata": {},
   "outputs": [
    {
     "name": "stdout",
     "output_type": "stream",
     "text": [
      "The rank of the Matrix A is 2\n",
      "The rank of the Augmented Matrix is 1\n",
      "The system of quations is inconsistent\n"
     ]
    }
   ],
   "source": [
    "#Question 5\n",
    "from sympy import *\n",
    "from sympy.abc import x,y,z\n",
    "A = Matrix([[1,1,1],[1,2,3],[0,1,2]])\n",
    "B = Matrix([[3],[6],[1]])\n",
    "X = Matrix([[x],[y],[z]])\n",
    "b = A.row_join(B)\n",
    "r = A.rank()\n",
    "q = B.rank()\n",
    "print (\"The rank of the Matrix A is\", r)\n",
    "print (\"The rank of the Augmented Matrix is\", q)\n",
    "D = A.shape\n",
    "n = D[1]\n",
    "if r == q: \n",
    "    print (\"The system of equations is consistent\")\n",
    "    if r < n:\n",
    "        print (\"The system of equations has infinitely many solutions\")\n",
    "    else:\n",
    "        print (\"The system of equations has uniquie solution\")\n",
    "        sol = solve(A * X - B)\n",
    "        print (sol)\n",
    "else:\n",
    "    print (\"The system of quations is inconsistent\")            "
   ]
  },
  {
   "cell_type": "code",
   "execution_count": 6,
   "metadata": {},
   "outputs": [
    {
     "name": "stdout",
     "output_type": "stream",
     "text": [
      "The rank of the Matrix A is 4\n",
      "The rank of the Augmented Matrix is 4\n",
      "The system of equations is consistent\n",
      "The system of equations has infinitely many solutions\n"
     ]
    }
   ],
   "source": [
    "#Question 6\n",
    "from sympy import *\n",
    "from sympy.abc import x,y,z,t,s\n",
    "A = Matrix([[2,3,1,4,-9],[1,1,1,1,-3],[1,1,1,2,-5],[2,2,3,3,-8]])\n",
    "B = Matrix([[17],[6],[8],[14]])\n",
    "X = Matrix([[x],[y],[z],[t],[s]])\n",
    "b = A.row_join(B)\n",
    "r = A.rank()\n",
    "q = b.rank()\n",
    "print (\"The rank of the Matrix A is\", r)\n",
    "print (\"The rank of the Augmented Matrix is\", q)\n",
    "D = A.shape\n",
    "n = D[1]\n",
    "if r == q: \n",
    "    print (\"The system of equations is consistent\")\n",
    "    if r < n:\n",
    "        print (\"The system of equations has infinitely many solutions\")\n",
    "    else:\n",
    "        print (\"The system of equations has uniquie solution\")\n",
    "        sol = solve(A * X - B)\n",
    "        print (sol)\n",
    "else:\n",
    "    print (\"The system of quations is inconsistent\")            "
   ]
  },
  {
   "cell_type": "code",
   "execution_count": 7,
   "metadata": {},
   "outputs": [
    {
     "name": "stdout",
     "output_type": "stream",
     "text": [
      "The rank of the Matrix A is 0\n",
      "The rank of the Augmented Matrix is 0\n",
      "The system of equations is consistent\n",
      "The system of equations has uniquie solution\n"
     ]
    },
    {
     "ename": "ShapeError",
     "evalue": "Matrix size mismatch: (0, 0) * (3, 1).",
     "output_type": "error",
     "traceback": [
      "\u001b[0;31m---------------------------------------------------------------------------\u001b[0m",
      "\u001b[0;31mShapeError\u001b[0m                                Traceback (most recent call last)",
      "Input \u001b[0;32mIn [7]\u001b[0m, in \u001b[0;36m<cell line: 14>\u001b[0;34m()\u001b[0m\n\u001b[1;32m     18\u001b[0m     \u001b[38;5;28;01melse\u001b[39;00m:\n\u001b[1;32m     19\u001b[0m         \u001b[38;5;28mprint\u001b[39m (\u001b[38;5;124m\"\u001b[39m\u001b[38;5;124mThe system of equations has uniquie solution\u001b[39m\u001b[38;5;124m\"\u001b[39m)\n\u001b[0;32m---> 20\u001b[0m     sol \u001b[38;5;241m=\u001b[39m solve(\u001b[43mA\u001b[49m\u001b[43m \u001b[49m\u001b[38;5;241;43m*\u001b[39;49m\u001b[43m \u001b[49m\u001b[43mX\u001b[49m \u001b[38;5;241m-\u001b[39m B)\n\u001b[1;32m     21\u001b[0m     \u001b[38;5;28mprint\u001b[39m (sol)\n\u001b[1;32m     22\u001b[0m \u001b[38;5;28;01melse\u001b[39;00m:\n",
      "File \u001b[0;32m/opt/homebrew/lib/python3.9/site-packages/sympy/core/decorators.py:106\u001b[0m, in \u001b[0;36mcall_highest_priority.<locals>.priority_decorator.<locals>.binary_op_wrapper\u001b[0;34m(self, other)\u001b[0m\n\u001b[1;32m    104\u001b[0m         \u001b[38;5;28;01mif\u001b[39;00m f \u001b[38;5;129;01mis\u001b[39;00m \u001b[38;5;129;01mnot\u001b[39;00m \u001b[38;5;28;01mNone\u001b[39;00m:\n\u001b[1;32m    105\u001b[0m             \u001b[38;5;28;01mreturn\u001b[39;00m f(\u001b[38;5;28mself\u001b[39m)\n\u001b[0;32m--> 106\u001b[0m \u001b[38;5;28;01mreturn\u001b[39;00m \u001b[43mfunc\u001b[49m\u001b[43m(\u001b[49m\u001b[38;5;28;43mself\u001b[39;49m\u001b[43m,\u001b[49m\u001b[43m \u001b[49m\u001b[43mother\u001b[49m\u001b[43m)\u001b[49m\n",
      "File \u001b[0;32m/opt/homebrew/lib/python3.9/site-packages/sympy/matrices/common.py:2774\u001b[0m, in \u001b[0;36mMatrixArithmetic.__mul__\u001b[0;34m(self, other)\u001b[0m\n\u001b[1;32m   2745\u001b[0m \u001b[38;5;129m@call_highest_priority\u001b[39m(\u001b[38;5;124m'\u001b[39m\u001b[38;5;124m__rmul__\u001b[39m\u001b[38;5;124m'\u001b[39m)\n\u001b[1;32m   2746\u001b[0m \u001b[38;5;28;01mdef\u001b[39;00m \u001b[38;5;21m__mul__\u001b[39m(\u001b[38;5;28mself\u001b[39m, other):\n\u001b[1;32m   2747\u001b[0m     \u001b[38;5;124;03m\"\"\"Return self*other where other is either a scalar or a matrix\u001b[39;00m\n\u001b[1;32m   2748\u001b[0m \u001b[38;5;124;03m    of compatible dimensions.\u001b[39;00m\n\u001b[1;32m   2749\u001b[0m \n\u001b[0;32m   (...)\u001b[0m\n\u001b[1;32m   2771\u001b[0m \u001b[38;5;124;03m    matrix_multiply_elementwise\u001b[39;00m\n\u001b[1;32m   2772\u001b[0m \u001b[38;5;124;03m    \"\"\"\u001b[39;00m\n\u001b[0;32m-> 2774\u001b[0m     \u001b[38;5;28;01mreturn\u001b[39;00m \u001b[38;5;28;43mself\u001b[39;49m\u001b[38;5;241;43m.\u001b[39;49m\u001b[43mmultiply\u001b[49m\u001b[43m(\u001b[49m\u001b[43mother\u001b[49m\u001b[43m)\u001b[49m\n",
      "File \u001b[0;32m/opt/homebrew/lib/python3.9/site-packages/sympy/matrices/common.py:2796\u001b[0m, in \u001b[0;36mMatrixArithmetic.multiply\u001b[0;34m(self, other, dotprodsimp)\u001b[0m\n\u001b[1;32m   2792\u001b[0m \u001b[38;5;28;01mif\u001b[39;00m (\u001b[38;5;28mhasattr\u001b[39m(other, \u001b[38;5;124m'\u001b[39m\u001b[38;5;124mshape\u001b[39m\u001b[38;5;124m'\u001b[39m) \u001b[38;5;129;01mand\u001b[39;00m \u001b[38;5;28mlen\u001b[39m(other\u001b[38;5;241m.\u001b[39mshape) \u001b[38;5;241m==\u001b[39m \u001b[38;5;241m2\u001b[39m \u001b[38;5;129;01mand\u001b[39;00m\n\u001b[1;32m   2793\u001b[0m     (\u001b[38;5;28mgetattr\u001b[39m(other, \u001b[38;5;124m'\u001b[39m\u001b[38;5;124mis_Matrix\u001b[39m\u001b[38;5;124m'\u001b[39m, \u001b[38;5;28;01mTrue\u001b[39;00m) \u001b[38;5;129;01mor\u001b[39;00m\n\u001b[1;32m   2794\u001b[0m      \u001b[38;5;28mgetattr\u001b[39m(other, \u001b[38;5;124m'\u001b[39m\u001b[38;5;124mis_MatrixLike\u001b[39m\u001b[38;5;124m'\u001b[39m, \u001b[38;5;28;01mTrue\u001b[39;00m))):\n\u001b[1;32m   2795\u001b[0m     \u001b[38;5;28;01mif\u001b[39;00m \u001b[38;5;28mself\u001b[39m\u001b[38;5;241m.\u001b[39mshape[\u001b[38;5;241m1\u001b[39m] \u001b[38;5;241m!=\u001b[39m other\u001b[38;5;241m.\u001b[39mshape[\u001b[38;5;241m0\u001b[39m]:\n\u001b[0;32m-> 2796\u001b[0m         \u001b[38;5;28;01mraise\u001b[39;00m ShapeError(\u001b[38;5;124m\"\u001b[39m\u001b[38;5;124mMatrix size mismatch: \u001b[39m\u001b[38;5;132;01m%s\u001b[39;00m\u001b[38;5;124m * \u001b[39m\u001b[38;5;132;01m%s\u001b[39;00m\u001b[38;5;124m.\u001b[39m\u001b[38;5;124m\"\u001b[39m \u001b[38;5;241m%\u001b[39m (\n\u001b[1;32m   2797\u001b[0m             \u001b[38;5;28mself\u001b[39m\u001b[38;5;241m.\u001b[39mshape, other\u001b[38;5;241m.\u001b[39mshape))\n\u001b[1;32m   2799\u001b[0m \u001b[38;5;66;03m# honest SymPy matrices defer to their class's routine\u001b[39;00m\n\u001b[1;32m   2800\u001b[0m \u001b[38;5;28;01mif\u001b[39;00m \u001b[38;5;28mgetattr\u001b[39m(other, \u001b[38;5;124m'\u001b[39m\u001b[38;5;124mis_Matrix\u001b[39m\u001b[38;5;124m'\u001b[39m, \u001b[38;5;28;01mFalse\u001b[39;00m):\n",
      "\u001b[0;31mShapeError\u001b[0m: Matrix size mismatch: (0, 0) * (3, 1)."
     ]
    }
   ],
   "source": [
    "#Question 5\n",
    "from sympy import *\n",
    "from sympy.abc import x,y,z\n",
    "A = Matrix([[],[],[]])\n",
    "B = Matrix([[],[],[]])\n",
    "X = Matrix([[x],[y],[z]])\n",
    "b = A.row_join(B)\n",
    "r = A.rank()\n",
    "q = b.rank()\n",
    "print (\"The rank of the Matrix A is\", r)\n",
    "print (\"The rank of the Augmented Matrix is\", q)\n",
    "D = A.shape\n",
    "n = D[1]\n",
    "if r == q: \n",
    "    print (\"The system of equations is consistent\")\n",
    "    if r < n:\n",
    "        print (\"The system of equations has infinitely many solutions\")\n",
    "    else:\n",
    "        print (\"The system of equations has uniquie solution\")\n",
    "    sol = solve(A * X - B)\n",
    "    print (sol)\n",
    "else:\n",
    "    print (\"The system of quations is inconsistent\")            "
   ]
  }
 ],
 "metadata": {
  "interpreter": {
   "hash": "b0fa6594d8f4cbf19f97940f81e996739fb7646882a419484c72d19e05852a7e"
  },
  "kernelspec": {
   "display_name": "Python 3.9.10 64-bit",
   "language": "python",
   "name": "python3"
  },
  "language_info": {
   "codemirror_mode": {
    "name": "ipython",
    "version": 3
   },
   "file_extension": ".py",
   "mimetype": "text/x-python",
   "name": "python",
   "nbconvert_exporter": "python",
   "pygments_lexer": "ipython3",
   "version": "3.9.12"
  },
  "orig_nbformat": 4
 },
 "nbformat": 4,
 "nbformat_minor": 2
}
