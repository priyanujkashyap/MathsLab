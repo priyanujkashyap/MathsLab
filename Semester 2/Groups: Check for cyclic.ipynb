{
 "cells": [
  {
   "cell_type": "code",
   "execution_count": 23,
   "metadata": {},
   "outputs": [],
   "source": [
    "def is_cyclic(G,op,n):\n",
    "    generators=[]\n",
    "    for i in G:\n",
    "        if op=='+':\n",
    "            gtd_i=[(k*i)%n for k in range (1,len(G)+1)]\n",
    "        else:\n",
    "            gtd_i=[(i**k)%n for k in range (1,len(G)+1)]\n",
    "        if set (gtd_i)==set(G):\n",
    "            generators.append(i)\n",
    "    if generators==[]:\n",
    "        print(\"The group\",set(G),\"is not cyclic\")\n",
    "    else:    \n",
    "        print(\"The group\",set(G),\"is cyclic and the set of generators is\",set(generators))\n",
    "           "
   ]
  },
  {
   "cell_type": "code",
   "execution_count": 24,
   "metadata": {},
   "outputs": [
    {
     "name": "stdout",
     "output_type": "stream",
     "text": [
      "The group {0, 1, 2, 3, 4, 5} is cyclic and the set of generators is {1, 5}\n"
     ]
    }
   ],
   "source": [
    "#Question 1\n",
    "is_cyclic([0,1,2,3,4,5],'+',6)"
   ]
  },
  {
   "cell_type": "code",
   "execution_count": 25,
   "metadata": {},
   "outputs": [
    {
     "name": "stdout",
     "output_type": "stream",
     "text": [
      "The group {1, 3, 5, 7} is not cyclic\n"
     ]
    }
   ],
   "source": [
    "#Question 2\n",
    "is_cyclic([1,3,5,7],'*',8)"
   ]
  },
  {
   "cell_type": "code",
   "execution_count": 26,
   "metadata": {},
   "outputs": [
    {
     "name": "stdout",
     "output_type": "stream",
     "text": [
      "The group {8, 16, 4, 12} is cyclic and the set of generators is {8, 12}\n"
     ]
    }
   ],
   "source": [
    "#Question 3\n",
    "is_cyclic([4,8,12,16],'*',20)"
   ]
  }
 ],
 "metadata": {
  "interpreter": {
   "hash": "aee8b7b246df8f9039afb4144a1f6fd8d2ca17a180786b69acc140d282b71a49"
  },
  "kernelspec": {
   "display_name": "Python 3.10.4 64-bit",
   "language": "python",
   "name": "python3"
  },
  "language_info": {
   "codemirror_mode": {
    "name": "ipython",
    "version": 3
   },
   "file_extension": ".py",
   "mimetype": "text/x-python",
   "name": "python",
   "nbconvert_exporter": "python",
   "pygments_lexer": "ipython3",
   "version": "3.10.4"
  },
  "orig_nbformat": 4
 },
 "nbformat": 4,
 "nbformat_minor": 2
}
