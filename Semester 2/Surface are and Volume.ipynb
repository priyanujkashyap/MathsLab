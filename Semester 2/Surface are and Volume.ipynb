{
 "cells": [
  {
   "cell_type": "code",
   "execution_count": 1,
   "metadata": {},
   "outputs": [
    {
     "name": "stdout",
     "output_type": "stream",
     "text": [
      "The surface area of revolution is, 203.0436015537515\n"
     ]
    }
   ],
   "source": [
    "from sympy import Symbol,diff,Integral,pi\n",
    "y=Symbol('y')\n",
    "x=y**3\n",
    "arcl= (1+(diff(x,y))**2)**(1/2)\n",
    "u=float(2*pi*Integral(y**3*arcl,(y,0,2)))\n",
    "print(\"The surface area of revolution is = \",u)"
   ]
  },
  {
   "cell_type": "code",
   "execution_count": 2,
   "metadata": {},
   "outputs": [
    {
     "name": "stdout",
     "output_type": "stream",
     "text": [
      "The surface area of revolution is, 80.4247719318987\n"
     ]
    }
   ],
   "source": [
    "from sympy import *\n",
    "t=Symbol('t')\n",
    "a=2\n",
    "r=a*(1+cos(t))\n",
    "arcl=(r**2+(diff(r,t))**2)**(1/2)\n",
    "u=float(2*pi*Integral(r*sin(t)*arcl,(t,0,pi)))\n",
    "print(\"The surface area of revolution is,\",u)"
   ]
  },
  {
   "cell_type": "code",
   "execution_count": 3,
   "metadata": {},
   "outputs": [
    {
     "name": "stdout",
     "output_type": "stream",
     "text": [
      "The surface area of revolution is, 445.04965850101104\n"
     ]
    }
   ],
   "source": [
    "from sympy import *\n",
    "t=Symbol('t')\n",
    "a=2\n",
    "x=a*(t-sin(t))\n",
    "y=a*(1-cos(t))\n",
    "arcl=((diff(x,t))**2+(diff(y,t)**2)**(1/2))\n",
    "u=float(2*pi*Integral(y*arcl,(t,0,pi)))\n",
    "print(\"The surface area of revolution is,\",u)"
   ]
  },
  {
   "cell_type": "code",
   "execution_count": 4,
   "metadata": {},
   "outputs": [
    {
     "name": "stdout",
     "output_type": "stream",
     "text": [
      "The volume of revolution is  8.377580409572783\n"
     ]
    }
   ],
   "source": [
    "from sympy import *\n",
    "x=Symbol('x')\n",
    "a,b=2,1\n",
    "y_sq=b**2*(1-x**2/a**2)\n",
    "u=float(2*pi*Integral(y_sq,(x,0,a)))\n",
    "print(\"The volume of revolution is \",u)"
   ]
  },
  {
   "cell_type": "code",
   "execution_count": 10,
   "metadata": {},
   "outputs": [
    {
     "name": "stdout",
     "output_type": "stream",
     "text": [
      "The volume of revolution is  226.1946710584651\n"
     ]
    }
   ],
   "source": [
    "from sympy import *\n",
    "t=Symbol('t')\n",
    "a=3\n",
    "r=a*(1+cos(t))\n",
    "r_c=(r**3)*sin(t)\n",
    "u=float(2*pi/3*Integral(r_c,(t,0,pi)))\n",
    "print(\"The volume of revolution is \",u)"
   ]
  },
  {
   "cell_type": "code",
   "execution_count": 13,
   "metadata": {},
   "outputs": [
    {
     "name": "stdout",
     "output_type": "stream",
     "text": [
      "The volume of revolution is  3158.273408348595\n"
     ]
    }
   ],
   "source": [
    "from sympy import *\n",
    "t=Symbol('t')\n",
    "a=4\n",
    "x=a*(t-sin(t))\n",
    "y=a*(1-cos(t))\n",
    "dx=(diff(x,t))\n",
    "y_sq=y**2*dx\n",
    "u=float(pi*Integral(y_sq,(t,0,2*pi)))\n",
    "print(\"The volume of revolution is \",u)"
   ]
  }
 ],
 "metadata": {
  "kernelspec": {
   "display_name": "Python 3.10.4 64-bit",
   "language": "python",
   "name": "python3"
  },
  "language_info": {
   "codemirror_mode": {
    "name": "ipython",
    "version": 3
   },
   "file_extension": ".py",
   "mimetype": "text/x-python",
   "name": "python",
   "nbconvert_exporter": "python",
   "pygments_lexer": "ipython3",
   "version": "3.10.4"
  },
  "orig_nbformat": 4,
  "vscode": {
   "interpreter": {
    "hash": "aee8b7b246df8f9039afb4144a1f6fd8d2ca17a180786b69acc140d282b71a49"
   }
  }
 },
 "nbformat": 4,
 "nbformat_minor": 2
}
