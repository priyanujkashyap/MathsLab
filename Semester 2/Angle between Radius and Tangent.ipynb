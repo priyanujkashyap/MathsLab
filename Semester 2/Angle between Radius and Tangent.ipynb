{
 "cells": [
  {
   "cell_type": "code",
   "execution_count": 10,
   "metadata": {},
   "outputs": [],
   "source": [
    "#from numpy import pi\n",
    "#from sympy import atan, tan, cos, pi\n",
    "from sympy import *\n",
    "from sympy.abc import t, a, e, l, m\n",
    "def angle_slope(r,theta):\n",
    "    tanphi=(r/r.diff(t)).subs(t,theta)\n",
    "    phi=atan(tanphi)\n",
    "    slope=tan(phi+theta)\n",
    "    print(phi)\n",
    "    print(slope)"
   ]
  },
  {
   "cell_type": "code",
   "execution_count": 11,
   "metadata": {},
   "outputs": [
    {
     "name": "stdout",
     "output_type": "stream",
     "text": [
      "5*pi/12\n",
      "-1\n"
     ]
    }
   ],
   "source": [
    "#Question 1\n",
    "angle_slope(a*(1+sin(t)),pi/3)"
   ]
  },
  {
   "cell_type": "code",
   "execution_count": 12,
   "metadata": {},
   "outputs": [
    {
     "name": "stdout",
     "output_type": "stream",
     "text": [
      "atan(1/e)\n",
      "-e\n"
     ]
    }
   ],
   "source": [
    "#Question 2\n",
    "angle_slope(l/(1+e*cos(t)),pi/2)"
   ]
  },
  {
   "cell_type": "code",
   "execution_count": 13,
   "metadata": {},
   "outputs": [
    {
     "name": "stdout",
     "output_type": "stream",
     "text": [
      "-atan(cos(pi*m/2)/sin(pi*m/2))\n",
      "sin(pi*m/2)/cos(pi*m/2)\n"
     ]
    }
   ],
   "source": [
    "#Question 3\n",
    "angle_slope(((a**m)*cos(m*t)**(1/m)),pi/2)"
   ]
  },
  {
   "cell_type": "code",
   "execution_count": 14,
   "metadata": {},
   "outputs": [
    {
     "name": "stdout",
     "output_type": "stream",
     "text": [
      "pi/3\n",
      "sqrt(3) + 2\n"
     ]
    }
   ],
   "source": [
    "#Question 4\n",
    "angle_slope(a/(sqrt(cos(2*t))),pi/12)"
   ]
  },
  {
   "cell_type": "code",
   "execution_count": 15,
   "metadata": {},
   "outputs": [
    {
     "name": "stdout",
     "output_type": "stream",
     "text": [
      "1.04719755119660\n",
      "tan(pi/12 + 1.0471975511966)\n"
     ]
    }
   ],
   "source": [
    "angle_slope(a/(cos(2*t)**(1/2)),pi/12)"
   ]
  },
  {
   "cell_type": "code",
   "execution_count": 16,
   "metadata": {},
   "outputs": [
    {
     "name": "stdout",
     "output_type": "stream",
     "text": [
      "-5*pi/12\n",
      "-1\n"
     ]
    }
   ],
   "source": [
    "#Question 5\n",
    "angle_slope(a*(1+cos(t)),pi/6)"
   ]
  }
 ],
 "metadata": {
  "interpreter": {
   "hash": "aee8b7b246df8f9039afb4144a1f6fd8d2ca17a180786b69acc140d282b71a49"
  },
  "kernelspec": {
   "display_name": "Python 3.10.4 64-bit",
   "language": "python",
   "name": "python3"
  },
  "language_info": {
   "codemirror_mode": {
    "name": "ipython",
    "version": 3
   },
   "file_extension": ".py",
   "mimetype": "text/x-python",
   "name": "python",
   "nbconvert_exporter": "python",
   "pygments_lexer": "ipython3",
   "version": "3.10.4"
  },
  "orig_nbformat": 4
 },
 "nbformat": 4,
 "nbformat_minor": 2
}
