{
 "cells": [
  {
   "cell_type": "code",
   "execution_count": 1,
   "metadata": {},
   "outputs": [],
   "source": [
    "def order_of_elements(G,e):\n",
    "    n = len(G)\n",
    "    divisors=[]\n",
    "    for i in range (1,n+1):\n",
    "        if n%i==0:\n",
    "            divisors.append(i)\n",
    "    print(\"The divisors of\",n,\"are\",divisors)\n",
    "    for j in divisors:\n",
    "        ord_j_elts=[]\n",
    "        for a in G:\n",
    "            for k in range(1,j+1):\n",
    "                if (a*k)%n==e and k<j:\n",
    "                    break\n",
    "                elif (a*k)%n==e and k==j:\n",
    "                    print(\"The order of\",a,\"is\",j)\n",
    "                    ord_j_elts.append(a)\n",
    "        print(\"The number of elements of order\",j,\"is\",len(ord_j_elts))                 "
   ]
  },
  {
   "cell_type": "code",
   "execution_count": 2,
   "metadata": {},
   "outputs": [
    {
     "name": "stdout",
     "output_type": "stream",
     "text": [
      "The divisors of 6 are [1, 2, 3, 6]\n",
      "The order of 0 is 1\n",
      "The number of elements of order 1 is 1\n",
      "The order of 3 is 2\n",
      "The number of elements of order 2 is 1\n",
      "The order of 2 is 3\n",
      "The order of 4 is 3\n",
      "The number of elements of order 3 is 2\n",
      "The order of 1 is 6\n",
      "The order of 5 is 6\n",
      "The number of elements of order 6 is 2\n"
     ]
    }
   ],
   "source": [
    "#Question 1\n",
    "order_of_elements([0,1,2,3,4,5],0)"
   ]
  },
  {
   "cell_type": "code",
   "execution_count": 3,
   "metadata": {},
   "outputs": [
    {
     "name": "stdout",
     "output_type": "stream",
     "text": [
      "The divisors of 12 are [1, 2, 3, 4, 6, 12]\n",
      "The order of 0 is 1\n",
      "The number of elements of order 1 is 1\n",
      "The order of 6 is 2\n",
      "The number of elements of order 2 is 1\n",
      "The order of 4 is 3\n",
      "The order of 8 is 3\n",
      "The number of elements of order 3 is 2\n",
      "The order of 3 is 4\n",
      "The order of 9 is 4\n",
      "The number of elements of order 4 is 2\n",
      "The order of 2 is 6\n",
      "The order of 10 is 6\n",
      "The number of elements of order 6 is 2\n",
      "The order of 1 is 12\n",
      "The order of 5 is 12\n",
      "The order of 7 is 12\n",
      "The order of 11 is 12\n",
      "The number of elements of order 12 is 4\n"
     ]
    }
   ],
   "source": [
    "#Question 2\n",
    "order_of_elements([0,1,2,3,4,5,6,7,8,9,10,11],0)"
   ]
  }
 ],
 "metadata": {
  "interpreter": {
   "hash": "aee8b7b246df8f9039afb4144a1f6fd8d2ca17a180786b69acc140d282b71a49"
  },
  "kernelspec": {
   "display_name": "Python 3.10.4 64-bit",
   "language": "python",
   "name": "python3"
  },
  "language_info": {
   "codemirror_mode": {
    "name": "ipython",
    "version": 3
   },
   "file_extension": ".py",
   "mimetype": "text/x-python",
   "name": "python",
   "nbconvert_exporter": "python",
   "pygments_lexer": "ipython3",
   "version": "3.10.4"
  },
  "orig_nbformat": 4
 },
 "nbformat": 4,
 "nbformat_minor": 2
}
