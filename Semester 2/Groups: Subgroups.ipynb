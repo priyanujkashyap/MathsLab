{
 "cells": [
  {
   "cell_type": "code",
   "execution_count": 96,
   "metadata": {},
   "outputs": [],
   "source": [
    "def subgroup (H,n,op):\n",
    "    for i in H:\n",
    "        for j in H:\n",
    "            if op=='+':\n",
    "                if (i+j)%n not in H:\n",
    "                    print(H,\"is not a subgroup of the given group\")\n",
    "                    return\n",
    "            elif (i*j)%n not in H:\n",
    "                print (H,\"is not a subgroup of the given group\")\n",
    "                return\n",
    "    print (H,\"is a subgroup of the given group\")\n",
    "    return                "
   ]
  },
  {
   "cell_type": "code",
   "execution_count": 97,
   "metadata": {},
   "outputs": [
    {
     "name": "stdout",
     "output_type": "stream",
     "text": [
      "[0, 2, 4, 6, 8] is a subgroup of the given group\n"
     ]
    }
   ],
   "source": [
    "#Question 1\n",
    "subgroup ([0,2,4,6,8],10,'+')"
   ]
  },
  {
   "cell_type": "code",
   "execution_count": 98,
   "metadata": {},
   "outputs": [
    {
     "name": "stdout",
     "output_type": "stream",
     "text": [
      "[1, 3, 7, 9] is a subgroup of the given group\n"
     ]
    }
   ],
   "source": [
    "#Question 2\n",
    "subgroup ([1,3,7,9],20,'*')"
   ]
  },
  {
   "cell_type": "code",
   "execution_count": 99,
   "metadata": {},
   "outputs": [
    {
     "name": "stdout",
     "output_type": "stream",
     "text": [
      "[1, 3, 7, 9] is not a subgroup of the given group\n"
     ]
    }
   ],
   "source": [
    "#Question 3\n",
    "subgroup ([1,3,7,9],25,'*')"
   ]
  },
  {
   "cell_type": "code",
   "execution_count": 100,
   "metadata": {},
   "outputs": [
    {
     "name": "stdout",
     "output_type": "stream",
     "text": [
      "[0, 4, 6, 8, 10] is not a subgroup of the given group\n"
     ]
    }
   ],
   "source": [
    "#Question 4\n",
    "subgroup ([0,4,6,8,10],12,'+')"
   ]
  }
 ],
 "metadata": {
  "interpreter": {
   "hash": "b0fa6594d8f4cbf19f97940f81e996739fb7646882a419484c72d19e05852a7e"
  },
  "kernelspec": {
   "display_name": "Python 3.9.12 64-bit",
   "language": "python",
   "name": "python3"
  },
  "language_info": {
   "codemirror_mode": {
    "name": "ipython",
    "version": 3
   },
   "file_extension": ".py",
   "mimetype": "text/x-python",
   "name": "python",
   "nbconvert_exporter": "python",
   "pygments_lexer": "ipython3",
   "version": "3.9.13"
  },
  "orig_nbformat": 4
 },
 "nbformat": 4,
 "nbformat_minor": 2
}
