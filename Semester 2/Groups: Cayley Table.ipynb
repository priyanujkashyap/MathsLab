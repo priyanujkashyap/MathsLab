{
 "cells": [
  {
   "cell_type": "code",
   "execution_count": 1,
   "metadata": {},
   "outputs": [],
   "source": [
    "def addmod(a,b,n):\n",
    "    return (a+b)%n\n",
    "def multmod (a,b,n):\n",
    "    return (a*b)%n\n",
    "def cayley(G,n,op):\n",
    "    print(\"The cayley table for the group G =\",G,\"is\")\n",
    "    for i in G:\n",
    "        for j in G:\n",
    "            print(op(i,j,n),end=\"\\t\")\n",
    "        print(\"\\n\")\n",
    "def commutative(G,n,op):\n",
    "    for i in G:\n",
    "        for j in G:\n",
    "            if op(i,j,n) != op(j,i,n):\n",
    "                print(\"The given operation is not commutative on the set\",G)\n",
    "                return\n",
    "    print(\"The given operation is commutative on the set\",G)\n",
    "    return\n",
    "            "
   ]
  },
  {
   "cell_type": "code",
   "execution_count": 2,
   "metadata": {},
   "outputs": [
    {
     "name": "stdout",
     "output_type": "stream",
     "text": [
      "The cayley table for the group G = [0, 1, 2, 3, 4, 5] is\n",
      "0\t1\t2\t3\t4\t5\t\n",
      "\n",
      "1\t2\t3\t4\t5\t0\t\n",
      "\n",
      "2\t3\t4\t5\t0\t1\t\n",
      "\n",
      "3\t4\t5\t0\t1\t2\t\n",
      "\n",
      "4\t5\t0\t1\t2\t3\t\n",
      "\n",
      "5\t0\t1\t2\t3\t4\t\n",
      "\n",
      "The given operation is commutative on the set [0, 1, 2, 3, 4, 5]\n"
     ]
    }
   ],
   "source": [
    "#Question 1\n",
    "cayley([0,1,2,3,4,5],6,addmod)\n",
    "commutative([0,1,2,3,4,5],6,addmod) "
   ]
  },
  {
   "cell_type": "code",
   "execution_count": 3,
   "metadata": {},
   "outputs": [
    {
     "name": "stdout",
     "output_type": "stream",
     "text": [
      "The cayley table for the group G = [2, 4, 6, 8] is\n",
      "4\t8\t2\t6\t\n",
      "\n",
      "8\t6\t4\t2\t\n",
      "\n",
      "2\t4\t6\t8\t\n",
      "\n",
      "6\t2\t8\t4\t\n",
      "\n",
      "The given operation is commutative on the set [2, 4, 6, 8]\n"
     ]
    }
   ],
   "source": [
    "#Question 2\n",
    "cayley([2,4,6,8],10,multmod)\n",
    "commutative([2,4,6,8],10,multmod) "
   ]
  },
  {
   "cell_type": "code",
   "execution_count": 4,
   "metadata": {},
   "outputs": [
    {
     "name": "stdout",
     "output_type": "stream",
     "text": [
      "The cayley table for the group G = [1, 3, 7, 9, 11, 13, 17, 19] is\n",
      "1\t3\t7\t9\t11\t13\t17\t19\t\n",
      "\n",
      "3\t9\t1\t7\t13\t19\t11\t17\t\n",
      "\n",
      "7\t1\t9\t3\t17\t11\t19\t13\t\n",
      "\n",
      "9\t7\t3\t1\t19\t17\t13\t11\t\n",
      "\n",
      "11\t13\t17\t19\t1\t3\t7\t9\t\n",
      "\n",
      "13\t19\t11\t17\t3\t9\t1\t7\t\n",
      "\n",
      "17\t11\t19\t13\t7\t1\t9\t3\t\n",
      "\n",
      "19\t17\t13\t11\t9\t7\t3\t1\t\n",
      "\n",
      "The given operation is commutative on the set [1, 3, 7, 9, 11, 13, 17, 19]\n"
     ]
    }
   ],
   "source": [
    "#Question 3\n",
    "cayley([1,3,7,9,11,13,17,19],20,multmod)\n",
    "commutative([1,3,7,9,11,13,17,19],20,multmod) "
   ]
  },
  {
   "cell_type": "code",
   "execution_count": 5,
   "metadata": {},
   "outputs": [
    {
     "name": "stdout",
     "output_type": "stream",
     "text": [
      "The cayley table for the group G = [0, 2, 4, 6] is\n",
      "0\t0\t0\t0\t\n",
      "\n",
      "0\t4\t0\t4\t\n",
      "\n",
      "0\t0\t0\t0\t\n",
      "\n",
      "0\t4\t0\t4\t\n",
      "\n",
      "The given operation is commutative on the set [0, 2, 4, 6]\n"
     ]
    }
   ],
   "source": [
    "#Question 4\n",
    "cayley([0,2,4,6],8,multmod)\n",
    "commutative([0,2,4,6],8,multmod) "
   ]
  }
 ],
 "metadata": {
  "interpreter": {
   "hash": "b0fa6594d8f4cbf19f97940f81e996739fb7646882a419484c72d19e05852a7e"
  },
  "kernelspec": {
   "display_name": "Python 3.9.10 64-bit",
   "language": "python",
   "name": "python3"
  },
  "language_info": {
   "codemirror_mode": {
    "name": "ipython",
    "version": 3
   },
   "file_extension": ".py",
   "mimetype": "text/x-python",
   "name": "python",
   "nbconvert_exporter": "python",
   "pygments_lexer": "ipython3",
   "version": "3.9.13"
  },
  "orig_nbformat": 4
 },
 "nbformat": 4,
 "nbformat_minor": 2
}
