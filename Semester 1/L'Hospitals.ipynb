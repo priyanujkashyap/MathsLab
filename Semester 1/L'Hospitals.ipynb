{
 "cells": [
  {
   "cell_type": "code",
   "execution_count": 1,
   "metadata": {},
   "outputs": [
    {
     "name": "stdout",
     "output_type": "stream",
     "text": [
      "-6/5\n"
     ]
    }
   ],
   "source": [
    "from sympy import *\n",
    "x = Symbol('x')\n",
    "y = (x**3-7*x**2+10*x)/(x**2+x-6)\n",
    "z = (limit(y,x,2))\n",
    "print(z)"
   ]
  },
  {
   "cell_type": "code",
   "execution_count": 2,
   "metadata": {},
   "outputs": [
    {
     "name": "stdout",
     "output_type": "stream",
     "text": [
      "0\n"
     ]
    }
   ],
   "source": [
    "from sympy import *\n",
    "t = Symbol('t')\n",
    "y = (ln(3*t))/(t**2)\n",
    "z = (limit(y,t,oo))\n",
    "print(z)"
   ]
  },
  {
   "cell_type": "code",
   "execution_count": 3,
   "metadata": {},
   "outputs": [
    {
     "name": "stdout",
     "output_type": "stream",
     "text": [
      "-oo\n"
     ]
    }
   ],
   "source": [
    "from sympy import *\n",
    "z = Symbol('z')\n",
    "y = (z**2+exp(4*z))/(2*z-exp(z))\n",
    "x = (limit(y,z,oo))\n",
    "print(x)"
   ]
  },
  {
   "cell_type": "code",
   "execution_count": 4,
   "metadata": {},
   "outputs": [
    {
     "name": "stdout",
     "output_type": "stream",
     "text": [
      "3\n"
     ]
    }
   ],
   "source": [
    "from sympy import *\n",
    "t = Symbol('t')\n",
    "y = t*ln(1+(3/t))\n",
    "z = (limit(y,t,oo))\n",
    "print(z)"
   ]
  },
  {
   "cell_type": "code",
   "execution_count": 5,
   "metadata": {},
   "outputs": [
    {
     "name": "stdout",
     "output_type": "stream",
     "text": [
      "exp(-2)\n"
     ]
    }
   ],
   "source": [
    "from sympy import *\n",
    "y = Symbol('y')\n",
    "x = cos(2*y)**(1/y**2)\n",
    "z = (limit(x,y,0))\n",
    "print(z)"
   ]
  },
  {
   "cell_type": "code",
   "execution_count": 6,
   "metadata": {},
   "outputs": [
    {
     "name": "stdout",
     "output_type": "stream",
     "text": [
      "E\n"
     ]
    }
   ],
   "source": [
    "from sympy import *\n",
    "x = Symbol('x')\n",
    "y = ((exp(x)+x)**(1/x))\n",
    "z = (limit(y,x,oo))\n",
    "print(z)"
   ]
  }
 ],
 "metadata": {
  "interpreter": {
   "hash": "b0fa6594d8f4cbf19f97940f81e996739fb7646882a419484c72d19e05852a7e"
  },
  "kernelspec": {
   "display_name": "Python 3.9.10 64-bit",
   "language": "python",
   "name": "python3"
  },
  "language_info": {
   "codemirror_mode": {
    "name": "ipython",
    "version": 3
   },
   "file_extension": ".py",
   "mimetype": "text/x-python",
   "name": "python",
   "nbconvert_exporter": "python",
   "pygments_lexer": "ipython3",
   "version": "3.9.12"
  },
  "orig_nbformat": 4
 },
 "nbformat": 4,
 "nbformat_minor": 2
}
