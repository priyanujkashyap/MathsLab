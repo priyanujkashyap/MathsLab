{
 "cells": [
  {
   "cell_type": "code",
   "execution_count": 1,
   "metadata": {},
   "outputs": [
    {
     "name": "stdout",
     "output_type": "stream",
     "text": [
      "δf/δx = 1/x\n",
      "δf/δy = 1/y\n",
      "δ**2f/δx**2 = -1/x**2\n",
      "δ**2f/δy**2 = -1/y**2\n",
      "δ**2f/δxδy = 0\n",
      "δ**2f/δxδy = 0\n"
     ]
    }
   ],
   "source": [
    "#Question 1\n",
    "from sympy import *\n",
    "from sympy.abc import *\n",
    "f = log(x*y)\n",
    "print (\"δf/δx =\", diff(f,x,1))\n",
    "print (\"δf/δy =\",diff(f,y,1))\n",
    "print (\"δ**2f/δx**2 =\",diff(f,x,2))\n",
    "print (\"δ**2f/δy**2 =\",diff(f,y,2))\n",
    "print (\"δ**2f/δxδy =\",diff(f,x,y))\n",
    "print (\"δ**2f/δxδy =\",diff(f,y,x))\n",
    "\n",
    "\n",
    "\n",
    "\n"
   ]
  },
  {
   "cell_type": "code",
   "execution_count": 2,
   "metadata": {},
   "outputs": [
    {
     "name": "stdout",
     "output_type": "stream",
     "text": [
      "δf/δx = y*exp(x*y)\n",
      "δf/δy = x*exp(x*y)\n",
      "δ**2f/δx**2 = y**2*exp(x*y)\n",
      "δ**2f/δy**2 = x**2*exp(x*y)\n",
      "δ**2f/δxδy = (x*y + 1)*exp(x*y)\n",
      "δ**2f/δxδy = (x*y + 1)*exp(x*y)\n"
     ]
    }
   ],
   "source": [
    "#Question 2\n",
    "from sympy import *\n",
    "from sympy.abc import *\n",
    "f = exp(x*y)\n",
    "print (\"δf/δx =\",diff(f,x,1))\n",
    "print (\"δf/δy =\",diff(f,y,1))\n",
    "print (\"δ**2f/δx**2 =\",diff(f,x,2))\n",
    "print (\"δ**2f/δy**2 =\",diff(f,y,2))\n",
    "print (\"δ**2f/δxδy =\",diff(f,x,y))\n",
    "print (\"δ**2f/δxδy =\",diff(f,y,x))\n",
    "\n"
   ]
  },
  {
   "cell_type": "code",
   "execution_count": 3,
   "metadata": {},
   "outputs": [
    {
     "name": "stdout",
     "output_type": "stream",
     "text": [
      "δf/δx = y*cos(x*y)\n",
      "δf/δy = x*cos(x*y)\n",
      "δ**2f/δx**2 = -y**2*sin(x*y)\n",
      "δ**2f/δy**2 = -x**2*sin(x*y)\n",
      "δ**2f/δxδy = -x*y*sin(x*y) + cos(x*y)\n",
      "δ**2f/δxδy = -x*y*sin(x*y) + cos(x*y)\n"
     ]
    }
   ],
   "source": [
    "#Question 3\n",
    "from sympy import *\n",
    "from sympy.abc import *\n",
    "f = sin(x*y)\n",
    "print (\"δf/δx =\",diff(f,x,1))\n",
    "print (\"δf/δy =\",diff(f,y,1))\n",
    "print (\"δ**2f/δx**2 =\",diff(f,x,2))\n",
    "print (\"δ**2f/δy**2 =\",diff(f,y,2))\n",
    "print (\"δ**2f/δxδy =\",diff(f,x,y))\n",
    "print (\"δ**2f/δxδy =\",diff(f,y,x))\n",
    "\n"
   ]
  },
  {
   "cell_type": "code",
   "execution_count": 4,
   "metadata": {},
   "outputs": [
    {
     "name": "stdout",
     "output_type": "stream",
     "text": [
      "δf/δx = y*sin(y/x)/x**2\n",
      "δf/δy = -sin(y/x)/x\n",
      "δ**2f/δx**2 = -y*(2*sin(y/x) + y*cos(y/x)/x)/x**3\n",
      "δ**2f/δy**2 = -cos(y/x)/x**2\n",
      "δ**2f/δxδy = (sin(y/x) + y*cos(y/x)/x)/x**2\n",
      "δ**2f/δxδy = (sin(y/x) + y*cos(y/x)/x)/x**2\n"
     ]
    }
   ],
   "source": [
    "#Question 4\n",
    "from sympy import *\n",
    "from sympy.abc import *\n",
    "f = cos(y/x)\n",
    "print (\"δf/δx =\",diff(f,x,1))\n",
    "print (\"δf/δy =\",diff(f,y,1))\n",
    "print (\"δ**2f/δx**2 =\",diff(f,x,2))\n",
    "print (\"δ**2f/δy**2 =\",diff(f,y,2))\n",
    "print (\"δ**2f/δxδy =\",diff(f,x,y))\n",
    "print (\"δ**2f/δxδy =\",diff(f,y,x))\n",
    "\n"
   ]
  },
  {
   "cell_type": "code",
   "execution_count": 5,
   "metadata": {},
   "outputs": [
    {
     "name": "stdout",
     "output_type": "stream",
     "text": [
      "δf/δx = 2*x*exp(x**2 + y**2)\n",
      "δf/δy = 2*y*exp(x**2 + y**2)\n",
      "δ**2f/δx**2 = 2*(2*x**2 + 1)*exp(x**2 + y**2)\n",
      "δ**2f/δy**2 = 2*(2*y**2 + 1)*exp(x**2 + y**2)\n",
      "δ**2f/δxδy = 4*x*y*exp(x**2 + y**2)\n",
      "δ**2f/δxδy = 4*x*y*exp(x**2 + y**2)\n"
     ]
    }
   ],
   "source": [
    "#Question 5\n",
    "from sympy import *\n",
    "from sympy.abc import *\n",
    "f = exp(x**2+y**2)\n",
    "print (\"δf/δx =\",diff(f,x,1))\n",
    "print (\"δf/δy =\",diff(f,y,1))\n",
    "print (\"δ**2f/δx**2 =\",diff(f,x,2))\n",
    "print (\"δ**2f/δy**2 =\",diff(f,y,2))\n",
    "print (\"δ**2f/δxδy =\",diff(f,x,y))\n",
    "print (\"δ**2f/δxδy =\",diff(f,y,x))\n",
    "\n"
   ]
  },
  {
   "cell_type": "code",
   "execution_count": 6,
   "metadata": {},
   "outputs": [
    {
     "name": "stdout",
     "output_type": "stream",
     "text": [
      "δf/δx = -y/(x**2 + y**2)\n",
      "δf/δy = x/(x**2 + y**2)\n",
      "δ**2f/δx**2 = 2*x*y/(x**2 + y**2)**2\n",
      "δ**2f/δy**2 = -2*x*y/(x**2 + y**2)**2\n",
      "δ**2f/δxδy = (-x**2 + y**2)/(x**2 + y**2)**2\n",
      "δ**2f/δxδy = (-x**2 + y**2)/(x**2 + y**2)**2\n"
     ]
    }
   ],
   "source": [
    "#Question 6\n",
    "from sympy import *\n",
    "from sympy.abc import *\n",
    "f = atan(y/x)\n",
    "print (\"δf/δx =\",simplify(diff(f,x,1)))\n",
    "print (\"δf/δy =\",simplify(diff(f,y,1)))\n",
    "print (\"δ**2f/δx**2 =\",simplify(diff(f,x,2)))\n",
    "print (\"δ**2f/δy**2 =\",simplify(diff(f,y,2)))\n",
    "print (\"δ**2f/δxδy =\",simplify(diff(f,x,y)))\n",
    "print (\"δ**2f/δxδy =\",simplify(diff(f,y,x)))"
   ]
  },
  {
   "cell_type": "code",
   "execution_count": 7,
   "metadata": {},
   "outputs": [
    {
     "name": "stdout",
     "output_type": "stream",
     "text": [
      "J = 23\n"
     ]
    }
   ],
   "source": [
    "#Jacobian Question 1\n",
    "from sympy import *\n",
    "from sympy.abc import x,y\n",
    "u = 2*x-3*y\n",
    "v = 5*x+4*y\n",
    "f = Matrix([u,v])\n",
    "j = f.jacobian([x,y])\n",
    "print (\"J =\",simplify(j.det()))"
   ]
  },
  {
   "cell_type": "code",
   "execution_count": 8,
   "metadata": {},
   "outputs": [
    {
     "name": "stdout",
     "output_type": "stream",
     "text": [
      "J = r\n"
     ]
    }
   ],
   "source": [
    "#Jacobian Question 2\n",
    "from sympy import *\n",
    "from sympy.abc import r,theta,z\n",
    "x = r*cos(theta)\n",
    "y = r*sin(theta)\n",
    "z = z\n",
    "f = Matrix([x,y,z])\n",
    "j = f.jacobian([r,theta,z])\n",
    "print (\"J =\",simplify(j.det()))"
   ]
  },
  {
   "cell_type": "code",
   "execution_count": 9,
   "metadata": {},
   "outputs": [
    {
     "name": "stdout",
     "output_type": "stream",
     "text": [
      "J = r**2*sin(theta)\n"
     ]
    }
   ],
   "source": [
    "#Jacobian Question 3\n",
    "from sympy import *\n",
    "from sympy.abc import x, theta, phi\n",
    "x = r*sin(theta)*cos(phi)\n",
    "y = r*sin(theta)*sin(phi)\n",
    "z = r*cos(theta)\n",
    "f = Matrix([x,y,z])\n",
    "j = f.jacobian([r,theta,phi])\n",
    "print (\"J =\",simplify(j.det()))"
   ]
  },
  {
   "cell_type": "code",
   "execution_count": 10,
   "metadata": {},
   "outputs": [
    {
     "name": "stdout",
     "output_type": "stream",
     "text": [
      "δf/δx = cos(x/(y + 1))/(y + 1)\n",
      "δf/δy = -x*cos(x/(y + 1))/(y + 1)**2\n",
      "δ**2f/δx**2 = -sin(x/(y + 1))/(y + 1)**2\n",
      "δ**2f/δy**2 = -x*(x*sin(x/(y + 1)) - 2*(y + 1)*cos(x/(y + 1)))/(y + 1)**4\n",
      "δ**2f/δxδy = (x*sin(x/(y + 1)) - (y + 1)*cos(x/(y + 1)))/(y + 1)**3\n",
      "δ**2f/δxδy = (x*sin(x/(y + 1)) - (y + 1)*cos(x/(y + 1)))/(y + 1)**3\n"
     ]
    }
   ],
   "source": [
    "#Question 7\n",
    "from sympy import *\n",
    "from sympy.abc import *\n",
    "f = sin(x/(1+y))\n",
    "print (\"δf/δx =\",simplify(diff(f,x,1)))\n",
    "print (\"δf/δy =\",simplify(diff(f,y,1)))\n",
    "print (\"δ**2f/δx**2 =\",simplify(diff(f,x,2)))\n",
    "print (\"δ**2f/δy**2 =\",simplify(diff(f,y,2)))\n",
    "print (\"δ**2f/δxδy =\",simplify(diff(f,x,y)))\n",
    "print (\"δ**2f/δxδy =\",simplify(diff(f,y,x)))"
   ]
  },
  {
   "cell_type": "code",
   "execution_count": 11,
   "metadata": {},
   "outputs": [
    {
     "name": "stdout",
     "output_type": "stream",
     "text": [
      "δf/δx = 1/x\n",
      "δf/δy = 1/y\n",
      "δ**2f/δx**2 = -1/x**2\n",
      "δ**2f/δy**2 = -1/y**2\n",
      "δ**2f/δxδy = 0\n",
      "δ**2f/δxδy = 0\n"
     ]
    }
   ],
   "source": [
    "#Question 4\n",
    "from sympy import *\n",
    "from sympy.abc import *\n",
    "f = log(x*y)\n",
    "print (\"δf/δx =\",diff(f,x,1))\n",
    "print (\"δf/δy =\",diff(f,y,1))\n",
    "print (\"δ**2f/δx**2 =\",diff(f,x,2))\n",
    "print (\"δ**2f/δy**2 =\",diff(f,y,2))\n",
    "print (\"δ**2f/δxδy =\",diff(f,x,y))\n",
    "print (\"δ**2f/δxδy =\",diff(f,y,x))"
   ]
  },
  {
   "cell_type": "code",
   "execution_count": 5,
   "metadata": {},
   "outputs": [
    {
     "name": "stdout",
     "output_type": "stream",
     "text": [
      "δf/δx = 1.0*a*sin(2*x)/cos(2*x)**1.5\n"
     ]
    }
   ],
   "source": [
    "from sympy import *\n",
    "from sympy.abc import *\n",
    "f = a*(cos(2*x))**(-1/2)\n",
    "print (\"δf/δx =\", diff(f,x,1))"
   ]
  }
 ],
 "metadata": {
  "interpreter": {
   "hash": "b0fa6594d8f4cbf19f97940f81e996739fb7646882a419484c72d19e05852a7e"
  },
  "kernelspec": {
   "display_name": "Python 3.9.10 64-bit",
   "language": "python",
   "name": "python3"
  },
  "language_info": {
   "codemirror_mode": {
    "name": "ipython",
    "version": 3
   },
   "file_extension": ".py",
   "mimetype": "text/x-python",
   "name": "python",
   "nbconvert_exporter": "python",
   "pygments_lexer": "ipython3",
   "version": "3.9.13"
  },
  "orig_nbformat": 4
 },
 "nbformat": 4,
 "nbformat_minor": 2
}
