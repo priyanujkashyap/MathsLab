{
 "cells": [
  {
   "cell_type": "code",
   "execution_count": 1,
   "metadata": {},
   "outputs": [
    {
     "ename": "ValueError",
     "evalue": "invalid literal for int() with base 10: ''",
     "output_type": "error",
     "traceback": [
      "\u001b[0;31m---------------------------------------------------------------------------\u001b[0m",
      "\u001b[0;31mValueError\u001b[0m                                Traceback (most recent call last)",
      "Input \u001b[0;32mIn [1]\u001b[0m, in \u001b[0;36m<cell line: 2>\u001b[0;34m()\u001b[0m\n\u001b[1;32m      1\u001b[0m \u001b[38;5;28;01mfrom\u001b[39;00m \u001b[38;5;21;01msympy\u001b[39;00m \u001b[38;5;28;01mimport\u001b[39;00m \u001b[38;5;241m*\u001b[39m\n\u001b[0;32m----> 2\u001b[0m c \u001b[38;5;241m=\u001b[39m \u001b[38;5;28;43mint\u001b[39;49m\u001b[43m(\u001b[49m\u001b[38;5;28;43minput\u001b[39;49m\u001b[43m(\u001b[49m\u001b[38;5;124;43m\"\u001b[39;49m\u001b[38;5;124;43mEnter number of times:\u001b[39;49m\u001b[38;5;124;43m\"\u001b[39;49m\u001b[43m)\u001b[49m\u001b[43m)\u001b[49m\n\u001b[1;32m      3\u001b[0m x \u001b[38;5;241m=\u001b[39m Symbol(\u001b[38;5;124m'\u001b[39m\u001b[38;5;124mx\u001b[39m\u001b[38;5;124m'\u001b[39m)\n\u001b[1;32m      4\u001b[0m n \u001b[38;5;241m=\u001b[39m \u001b[38;5;241m0\u001b[39m\n",
      "\u001b[0;31mValueError\u001b[0m: invalid literal for int() with base 10: ''"
     ]
    }
   ],
   "source": [
    "from sympy import *\n",
    "c = int(input(\"Enter number of times:\"))\n",
    "x = Symbol('x')\n",
    "n = 0\n",
    "a = cos(2*x-3)\n",
    "d = 1\n",
    "while n<=c:\n",
    "    b = diff(a,x,n)\n",
    "    print(d,\".\",b)  \n",
    "    a = b\n",
    "    n += 1\n",
    "    d += 1\n"
   ]
  },
  {
   "cell_type": "code",
   "execution_count": null,
   "metadata": {},
   "outputs": [
    {
     "name": "stdout",
     "output_type": "stream",
     "text": [
      "1 . exp(x) + 1\n",
      "2 . exp(x)\n"
     ]
    }
   ],
   "source": [
    "from sympy import *\n",
    "c = int(input(\"Enter number of times:\"))\n",
    "x = Symbol('x')\n",
    "n = 0\n",
    "a = 1+exp(x)\n",
    "d = 1\n",
    "while n<c:\n",
    "    b = diff(a,x,n)\n",
    "    print(d,\".\",b)  \n",
    "    a = b\n",
    "    n += 1\n",
    "    d += 1\n"
   ]
  },
  {
   "cell_type": "code",
   "execution_count": null,
   "metadata": {},
   "outputs": [
    {
     "name": "stdout",
     "output_type": "stream",
     "text": [
      "6*4**x*log(4)\n",
      "6*4**x*x*log(4)**2 + 6*4**x*log(4)\n",
      "4**x*x**2*log(4)**3 + 6*4**x*x*log(4)**2 + 6*4**x*log(4)\n"
     ]
    }
   ],
   "source": [
    "from sympy import *\n",
    "x = Symbol ('x')\n",
    "u = x**2\n",
    "v = 4**x\n",
    "n = 3\n",
    "s = 0\n",
    "d = 0\n",
    "r = 1\n",
    "while r<=n:\n",
    "    s = factorial(n)/(factorial(n-r)*factorial(r))\n",
    "    a = diff(u,x,n-r)\n",
    "    b = diff(v,x,r)\n",
    "    c = s*a*b\n",
    "    d = c+d\n",
    "    print(d)\n",
    "    r +=1"
   ]
  },
  {
   "cell_type": "code",
   "execution_count": null,
   "metadata": {},
   "outputs": [
    {
     "name": "stdout",
     "output_type": "stream",
     "text": [
      "-6*exp(-x)\n",
      "6*x*exp(-x) - 6*exp(-x)\n",
      "-x**2*exp(-x) + 6*x*exp(-x) - 6*exp(-x)\n"
     ]
    }
   ],
   "source": [
    "from sympy import *\n",
    "x = Symbol ('x')\n",
    "u = x**2\n",
    "v = exp(-x)\n",
    "n = 3\n",
    "s = 0\n",
    "d = 0\n",
    "r = 1\n",
    "while r<=n:\n",
    "    s = factorial(n)/(factorial(n-r)*factorial(r))\n",
    "    a = diff(u,x,n-r)\n",
    "    b = diff(v,x,r)\n",
    "    c = s*a*b\n",
    "    d = c+d\n",
    "    print(d)\n",
    "    r +=1"
   ]
  }
 ],
 "metadata": {
  "interpreter": {
   "hash": "b0fa6594d8f4cbf19f97940f81e996739fb7646882a419484c72d19e05852a7e"
  },
  "kernelspec": {
   "display_name": "Python 3.9.10 64-bit",
   "language": "python",
   "name": "python3"
  },
  "language_info": {
   "codemirror_mode": {
    "name": "ipython",
    "version": 3
   },
   "file_extension": ".py",
   "mimetype": "text/x-python",
   "name": "python",
   "nbconvert_exporter": "python",
   "pygments_lexer": "ipython3",
   "version": "3.9.13"
  },
  "orig_nbformat": 4
 },
 "nbformat": 4,
 "nbformat_minor": 2
}
