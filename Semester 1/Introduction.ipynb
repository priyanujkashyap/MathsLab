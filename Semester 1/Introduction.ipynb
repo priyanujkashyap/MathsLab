{
 "cells": [
  {
   "cell_type": "code",
   "execution_count": 1,
   "metadata": {},
   "outputs": [
    {
     "name": "stdout",
     "output_type": "stream",
     "text": [
      "Hi\n"
     ]
    }
   ],
   "source": [
    "print (\"Hi\")"
   ]
  },
  {
   "cell_type": "code",
   "execution_count": 2,
   "metadata": {},
   "outputs": [
    {
     "name": "stdout",
     "output_type": "stream",
     "text": [
      "The sum a + b = 99\n"
     ]
    }
   ],
   "source": [
    "a = 44\n",
    "b = 55\n",
    "c = a + b\n",
    "print (\"The sum a + b =\",c)"
   ]
  },
  {
   "cell_type": "code",
   "execution_count": 3,
   "metadata": {},
   "outputs": [
    {
     "name": "stdout",
     "output_type": "stream",
     "text": [
      "44 + 55 = 99\n"
     ]
    }
   ],
   "source": [
    "a = 44\n",
    "b = 55\n",
    "c = a + b\n",
    "print (a,\"+\",b,\"=\",c)"
   ]
  },
  {
   "cell_type": "code",
   "execution_count": 4,
   "metadata": {},
   "outputs": [
    {
     "name": "stdout",
     "output_type": "stream",
     "text": [
      "44 + 55 = 99\n"
     ]
    }
   ],
   "source": [
    "a,b = 44,55\n",
    "c = a + b\n",
    "print (a,\"+\",b,\"=\",c)"
   ]
  },
  {
   "cell_type": "code",
   "execution_count": 5,
   "metadata": {},
   "outputs": [
    {
     "name": "stdout",
     "output_type": "stream",
     "text": [
      "This program was written by Priyanuj Kashyap\n",
      "3 + 4 + 6 = 13\n",
      "3 x 4 x 6 = 72\n"
     ]
    }
   ],
   "source": [
    "# Exercise Set 1\n",
    "print (\"This program was written by Priyanuj Kashyap\")\n",
    "a,b,c = 3,4,6\n",
    "d = a + b + c\n",
    "e = a * b * c\n",
    "print (a,\"+\",b,\"+\",c,\"=\",d)\n",
    "print (a,\"x\",b,\"x\",c,\"=\",e)"
   ]
  },
  {
   "cell_type": "code",
   "execution_count": 6,
   "metadata": {},
   "outputs": [
    {
     "name": "stdout",
     "output_type": "stream",
     "text": [
      "Hi Priyanuj\n",
      "PriyanujKashyap\n"
     ]
    }
   ],
   "source": [
    "name = \"Priyanuj\"\n",
    "print (\"Hi\", name)\n",
    "second_name = \"Kashyap\"\n",
    "name = name + second_name\n",
    "print (name)"
   ]
  },
  {
   "cell_type": "code",
   "execution_count": 7,
   "metadata": {},
   "outputs": [
    {
     "name": "stdout",
     "output_type": "stream",
     "text": [
      "10 12 a\n",
      "K\n",
      "Kashyap\n",
      "Priyanuj\n"
     ]
    }
   ],
   "source": [
    "L = [10,12,\"a\"]\n",
    "print (L[0],L[1],L[2])\n",
    "n = \"Priyanuj Kashyap\"\n",
    "print (n[9])\n",
    "print (n[9:])\n",
    "print (n[:8])"
   ]
  },
  {
   "cell_type": "code",
   "execution_count": 8,
   "metadata": {},
   "outputs": [
    {
     "ename": "NameError",
     "evalue": "name 'Song' is not defined",
     "output_type": "error",
     "traceback": [
      "\u001b[0;31m---------------------------------------------------------------------------\u001b[0m",
      "\u001b[0;31mNameError\u001b[0m                                 Traceback (most recent call last)",
      "Input \u001b[0;32mIn [8]\u001b[0m, in \u001b[0;36m<cell line: 1>\u001b[0;34m()\u001b[0m\n\u001b[0;32m----> 1\u001b[0m Dict \u001b[38;5;241m=\u001b[39m {\u001b[38;5;241m1\u001b[39m:\u001b[38;5;124m'\u001b[39m\u001b[38;5;124mJoseph\u001b[39m\u001b[38;5;124m'\u001b[39m, a:\u001b[38;5;124m'\u001b[39m\u001b[38;5;124m1000\u001b[39m\u001b[38;5;124m'\u001b[39m, \u001b[43mSong\u001b[49m:\u001b[38;5;124m'\u001b[39m\u001b[38;5;124m3idiots\u001b[39m\u001b[38;5;124m'\u001b[39m}\n",
      "\u001b[0;31mNameError\u001b[0m: name 'Song' is not defined"
     ]
    }
   ],
   "source": [
    "Dict = {1:'Joseph', a:'1000', Song:'3idiots'}\n",
    "\n"
   ]
  },
  {
   "cell_type": "code",
   "execution_count": null,
   "metadata": {},
   "outputs": [
    {
     "name": "stdout",
     "output_type": "stream",
     "text": [
      "4\n",
      "22\n"
     ]
    }
   ],
   "source": [
    "print (2 + 2)\n",
    "print (\"2\"+\"2\")"
   ]
  },
  {
   "cell_type": "code",
   "execution_count": null,
   "metadata": {},
   "outputs": [
    {
     "name": "stdout",
     "output_type": "stream",
     "text": [
      "30\n",
      "-10\n",
      "200\n",
      "0.5\n",
      "100\n"
     ]
    }
   ],
   "source": [
    "a = 10\n",
    "b = 20\n",
    "print(a + b)\n",
    "print(a - b)\n",
    "print(a*b)\n",
    "print(a/b)\n",
    "print(a**2)"
   ]
  },
  {
   "cell_type": "code",
   "execution_count": null,
   "metadata": {},
   "outputs": [
    {
     "name": "stdout",
     "output_type": "stream",
     "text": [
      "True\n"
     ]
    }
   ],
   "source": [
    "a = 3<4\n",
    "print(a)"
   ]
  },
  {
   "cell_type": "code",
   "execution_count": null,
   "metadata": {},
   "outputs": [
    {
     "name": "stdout",
     "output_type": "stream",
     "text": [
      "21\n"
     ]
    }
   ],
   "source": [
    "sum = 1+2+3+4+5+6\n",
    "print(sum)"
   ]
  },
  {
   "cell_type": "code",
   "execution_count": null,
   "metadata": {},
   "outputs": [
    {
     "name": "stdout",
     "output_type": "stream",
     "text": [
      "[[1, 2, 3], [1, 2, 3]]\n"
     ]
    }
   ],
   "source": [
    "L=[[1,2,3],[1,2,3]]\n",
    "print(L)"
   ]
  },
  {
   "cell_type": "code",
   "execution_count": null,
   "metadata": {},
   "outputs": [
    {
     "name": "stdout",
     "output_type": "stream",
     "text": [
      "Union = {1, 2, 3, 4}\n",
      "Intersection = {2, 3}\n"
     ]
    }
   ],
   "source": [
    "a = {1,2,3}\n",
    "b = {2,3,4}\n",
    "c = a.union(b)\n",
    "d = a.intersection(b)\n",
    "print (\"Union =\",c)\n",
    "print (\"Intersection =\",d)"
   ]
  },
  {
   "cell_type": "code",
   "execution_count": null,
   "metadata": {},
   "outputs": [
    {
     "name": "stdout",
     "output_type": "stream",
     "text": [
      "1\n"
     ]
    }
   ],
   "source": [
    "from sympy import sin, cos, pi\n",
    "print((sin(pi))**2+(cos(pi))**2)"
   ]
  },
  {
   "cell_type": "code",
   "execution_count": null,
   "metadata": {},
   "outputs": [
    {
     "name": "stdout",
     "output_type": "stream",
     "text": [
      "1.0\n"
     ]
    }
   ],
   "source": [
    "from math import sin, cos, pi\n",
    "print((sin(pi))**2+(cos(pi))**2)"
   ]
  },
  {
   "cell_type": "code",
   "execution_count": null,
   "metadata": {},
   "outputs": [
    {
     "name": "stdout",
     "output_type": "stream",
     "text": [
      "2.302585092994046\n"
     ]
    }
   ],
   "source": [
    "from sympy import log\n",
    "print (float(log(10)))"
   ]
  },
  {
   "cell_type": "code",
   "execution_count": null,
   "metadata": {},
   "outputs": [
    {
     "name": "stdout",
     "output_type": "stream",
     "text": [
      "7.3890560989306495\n"
     ]
    }
   ],
   "source": [
    "from math import e\n",
    "print(e**2)"
   ]
  },
  {
   "cell_type": "code",
   "execution_count": null,
   "metadata": {},
   "outputs": [
    {
     "data": {
      "text/plain": [
       "7.38905609893065"
      ]
     },
     "execution_count": 19,
     "metadata": {},
     "output_type": "execute_result"
    }
   ],
   "source": [
    "from sympy import exp\n",
    "float(exp(2))"
   ]
  },
  {
   "cell_type": "code",
   "execution_count": null,
   "metadata": {},
   "outputs": [
    {
     "data": {
      "text/plain": [
       "[-1 + sqrt(5), -sqrt(5) - 1]"
      ]
     },
     "execution_count": 31,
     "metadata": {},
     "output_type": "execute_result"
    }
   ],
   "source": [
    "from sympy import Symbol, solve\n",
    "x = Symbol('x')\n",
    "eq = x**2 + 2*x - 4\n",
    "solve(eq)\n",
    "\n"
   ]
  },
  {
   "cell_type": "code",
   "execution_count": null,
   "metadata": {},
   "outputs": [
    {
     "name": "stdout",
     "output_type": "stream",
     "text": [
      "1\n"
     ]
    }
   ],
   "source": [
    "from sympy import sin, cos, pi\n",
    "print((sin(pi))**2+(cos(pi))**2)\n"
   ]
  },
  {
   "cell_type": "code",
   "execution_count": null,
   "metadata": {},
   "outputs": [
    {
     "name": "stdout",
     "output_type": "stream",
     "text": [
      "5 x 1 = 5\n",
      "5 x 2 = 10\n",
      "5 x 3 = 15\n",
      "5 x 4 = 20\n",
      "5 x 5 = 25\n",
      "5 x 6 = 30\n",
      "5 x 7 = 35\n",
      "5 x 8 = 40\n",
      "5 x 9 = 45\n",
      "5 x 10 = 50\n"
     ]
    }
   ],
   "source": [
    "for i in range(1,11):\n",
    "    print (5,\"x\",i,\"=\",(5*i))"
   ]
  },
  {
   "cell_type": "code",
   "execution_count": null,
   "metadata": {},
   "outputs": [
    {
     "name": "stdout",
     "output_type": "stream",
     "text": [
      "8 x 1 = 8\n",
      "8 x 2 = 16\n",
      "8 x 3 = 24\n",
      "8 x 4 = 32\n",
      "8 x 5 = 40\n",
      "8 x 6 = 48\n",
      "8 x 7 = 56\n",
      "8 x 8 = 64\n",
      "8 x 9 = 72\n",
      "8 x 10 = 80\n"
     ]
    }
   ],
   "source": [
    "#Exercise set 4\n",
    "for i in range(1,11):\n",
    "    print (8,\"x\",i,\"=\",(8*i))"
   ]
  },
  {
   "cell_type": "code",
   "execution_count": null,
   "metadata": {},
   "outputs": [
    {
     "name": "stdout",
     "output_type": "stream",
     "text": [
      "10\n",
      "12\n",
      "14\n",
      "16\n",
      "18\n",
      "20\n",
      "22\n",
      "24\n",
      "26\n",
      "28\n",
      "30\n",
      "32\n",
      "34\n",
      "36\n",
      "38\n",
      "40\n",
      "42\n",
      "44\n",
      "46\n",
      "48\n",
      "50\n",
      "52\n",
      "54\n",
      "56\n",
      "58\n",
      "60\n",
      "62\n",
      "64\n",
      "66\n",
      "68\n",
      "70\n",
      "72\n",
      "74\n",
      "76\n",
      "78\n",
      "80\n",
      "82\n",
      "84\n",
      "86\n",
      "88\n",
      "90\n",
      "92\n",
      "94\n",
      "96\n",
      "98\n"
     ]
    }
   ],
   "source": [
    "for a in range(10,100):\n",
    "    if a % 2 == 0:\n",
    "     print (a)\n",
    "    "
   ]
  },
  {
   "cell_type": "code",
   "execution_count": null,
   "metadata": {},
   "outputs": [
    {
     "name": "stdout",
     "output_type": "stream",
     "text": [
      "2022 is not a leap year\n"
     ]
    }
   ],
   "source": [
    "year=2022\n",
    "if year%4==0:\n",
    "    print(year,\"is a leap year\")\n",
    "else:\n",
    "    print(year,\"is not a leap year\")\n"
   ]
  },
  {
   "cell_type": "code",
   "execution_count": null,
   "metadata": {},
   "outputs": [
    {
     "name": "stdout",
     "output_type": "stream",
     "text": [
      "0\n",
      "1\n",
      "1\n",
      "2\n",
      "3\n",
      "5\n",
      "8\n",
      "13\n",
      "21\n",
      "34\n",
      "55\n",
      "89\n"
     ]
    }
   ],
   "source": [
    "a = int(input(\"Enter the limit:\"))\n",
    "i, j = 0, 1\n",
    "while i<=a:\n",
    "    print(i)\n",
    "    k = i + j\n",
    "    i = j\n",
    "    j = k"
   ]
  },
  {
   "cell_type": "code",
   "execution_count": null,
   "metadata": {},
   "outputs": [
    {
     "name": "stdout",
     "output_type": "stream",
     "text": [
      "Matrix([[2, 3, -1], [4, 1, 3], [1, 6, 8]])\n",
      "(3, 3)\n"
     ]
    }
   ],
   "source": [
    "#Matrix\n",
    "from sympy import Matrix\n",
    "A= Matrix([[2,3,-1],[4,1,3],[1,6,8]])\n",
    "print(A)\n",
    "print(A.shape)"
   ]
  },
  {
   "cell_type": "code",
   "execution_count": null,
   "metadata": {},
   "outputs": [
    {
     "name": "stdout",
     "output_type": "stream",
     "text": [
      "Matrix([[1, 3, 4], [8, 3, 0]])\n",
      "(2, 3)\n"
     ]
    }
   ],
   "source": [
    "from sympy import Matrix\n",
    "A= Matrix([[1,3,4],[8,3,0]])\n",
    "print(A)\n",
    "print(A.shape)"
   ]
  },
  {
   "cell_type": "code",
   "execution_count": null,
   "metadata": {},
   "outputs": [
    {
     "name": "stdout",
     "output_type": "stream",
     "text": [
      "Matrix([[1], [2], [4]])\n",
      "(3, 1)\n"
     ]
    }
   ],
   "source": [
    "#each element in a row should be put into different brackets\n",
    "A= Matrix([[1],[2],[4]])\n",
    "print(A)\n",
    "print(A.shape)"
   ]
  },
  {
   "cell_type": "code",
   "execution_count": null,
   "metadata": {},
   "outputs": [
    {
     "name": "stdout",
     "output_type": "stream",
     "text": [
      "Matrix([[1, 0], [6, 4]])\n",
      "Matrix([[1, 0], [62, 32]])\n",
      "Matrix([[-1, 0], [0, -1]])\n"
     ]
    }
   ],
   "source": [
    "from sympy import Matrix,eye\n",
    "A = Matrix([[1,0],[2,2]])\n",
    "print(A**2)\n",
    "print(A**5)\n",
    "I = eye(2)#Identity Matrix\n",
    "eqn= A**2 - 3*A + I\n",
    "print(eqn) "
   ]
  },
  {
   "cell_type": "code",
   "execution_count": null,
   "metadata": {},
   "outputs": [
    {
     "name": "stdout",
     "output_type": "stream",
     "text": [
      "Matrix([[2, 4, 1], [3, 1, 6], [-1, 3, 8]])\n"
     ]
    }
   ],
   "source": [
    "from sympy import Matrix,transpose\n",
    "A= Matrix([[2,3,-1],[4,1,3],[1,6,8]])\n",
    "T=transpose(A)\n",
    "print(T)"
   ]
  },
  {
   "cell_type": "code",
   "execution_count": null,
   "metadata": {},
   "outputs": [
    {
     "name": "stdout",
     "output_type": "stream",
     "text": [
      "Matrix([[1, 8], [3, 3], [4, 0]])\n"
     ]
    }
   ],
   "source": [
    "from sympy import Matrix,transpose\n",
    "A= Matrix([[1,3,4],[8,3,0]])\n",
    "T=transpose(A)\n",
    "print(T)"
   ]
  },
  {
   "cell_type": "code",
   "execution_count": null,
   "metadata": {},
   "outputs": [
    {
     "name": "stdout",
     "output_type": "stream",
     "text": [
      "Matrix([[1, 2, 4]])\n"
     ]
    }
   ],
   "source": [
    "from sympy import Matrix,transpose\n",
    "A= Matrix([[1],[2],[4]])\n",
    "T=transpose(A)\n",
    "print(T)"
   ]
  },
  {
   "cell_type": "code",
   "execution_count": null,
   "metadata": {},
   "outputs": [
    {
     "name": "stdout",
     "output_type": "stream",
     "text": [
      "9\n"
     ]
    }
   ],
   "source": [
    "from sympy import Matrix,trace\n",
    "A= Matrix([[1,0,6],[2,6,3],[3,2,2]])\n",
    "Tr=trace(A)\n",
    "print(Tr)\n",
    "\n"
   ]
  },
  {
   "cell_type": "code",
   "execution_count": null,
   "metadata": {},
   "outputs": [
    {
     "name": "stdout",
     "output_type": "stream",
     "text": [
      "-3\n"
     ]
    }
   ],
   "source": [
    "from sympy import Matrix,trace\n",
    "A= Matrix([[1,3],[0,-4]])\n",
    "Tr=trace(A)\n",
    "print(Tr)"
   ]
  },
  {
   "cell_type": "code",
   "execution_count": null,
   "metadata": {},
   "outputs": [
    {
     "name": "stdout",
     "output_type": "stream",
     "text": [
      "-2\n"
     ]
    }
   ],
   "source": [
    "from sympy import Matrix,trace\n",
    "A= Matrix([[2,0,3,6],[1,-5,3,2],[4,2,1,0],[1,3,0,0]])\n",
    "Tr=trace(A)\n",
    "print(Tr)"
   ]
  },
  {
   "cell_type": "code",
   "execution_count": null,
   "metadata": {},
   "outputs": [
    {
     "name": "stdout",
     "output_type": "stream",
     "text": [
      "-3\n",
      "Matrix([[1/3, 2], [0, -1]])\n"
     ]
    }
   ],
   "source": [
    "from sympy import *\n",
    "A= Matrix([[3,6],[0,-1]])\n",
    "D=A.det()\n",
    "I=A.inv()\n",
    "print(D)\n",
    "print(I)"
   ]
  },
  {
   "cell_type": "code",
   "execution_count": null,
   "metadata": {},
   "outputs": [
    {
     "name": "stdout",
     "output_type": "stream",
     "text": [
      "Matrix([[1, 1/2, 0, 1/2], [0, 0, 1, 1], [0, 0, 0, 0]])\n",
      "Rank = 2\n"
     ]
    }
   ],
   "source": [
    "from sympy import *\n",
    "A= Matrix([[4,2,1,3],[6,3,4,7],[2,1,0,1]])\n",
    "B= A.rref()\n",
    "print(B[0])\n",
    "r = A.rank()\n",
    "print(\"Rank =\",r)"
   ]
  },
  {
   "cell_type": "code",
   "execution_count": null,
   "metadata": {},
   "outputs": [
    {
     "name": "stdout",
     "output_type": "stream",
     "text": [
      "Matrix([[1, 0, 0, -13/4], [0, 1, 0, 1], [0, 0, 1, -7/4]])\n",
      "Rank = 3\n"
     ]
    }
   ],
   "source": [
    "from sympy import *\n",
    "A= Matrix([[1,2,-3,4],[1,3,1,-2],[2,5,2,-5]])\n",
    "B= A.rref()\n",
    "print(B[0])\n",
    "r = A.rank()\n",
    "print(\"Rank =\",r)"
   ]
  },
  {
   "cell_type": "code",
   "execution_count": null,
   "metadata": {},
   "outputs": [
    {
     "name": "stdout",
     "output_type": "stream",
     "text": [
      "Matrix([[1, 1/2, 0, 1/2], [0, 0, 1, 1], [0, 0, 0, 0]])\n",
      "Rank = 2\n"
     ]
    }
   ],
   "source": [
    "from sympy import *\n",
    "A= Matrix([[4,2,1,3],[6,3,4,7],[2,1,0,1]])\n",
    "B= A.rref()[0]#[0] for taking only the first place\n",
    "print(B)\n",
    "r = A.rank()\n",
    "print(\"Rank =\",r)"
   ]
  },
  {
   "cell_type": "code",
   "execution_count": null,
   "metadata": {},
   "outputs": [
    {
     "name": "stdout",
     "output_type": "stream",
     "text": [
      "Matrix([[1, 0, 0, 0], [0, 1, 0, 0], [0, 0, 1, 0]])\n",
      "Rank = 3\n"
     ]
    }
   ],
   "source": [
    "from sympy import *\n",
    "A= Matrix([[1,0,2,1],[2,1,3,2],[1,3,1,3]])\n",
    "B= A.rref()[0] \n",
    "B= B.transpose()\n",
    "C= B.rref()[0]\n",
    "C= C.transpose()\n",
    "print(C)\n",
    "r = C.rank()\n",
    "print(\"Rank =\",r)"
   ]
  },
  {
   "cell_type": "code",
   "execution_count": null,
   "metadata": {},
   "outputs": [
    {
     "name": "stdout",
     "output_type": "stream",
     "text": [
      "Matrix([[1, 0, 10/7], [0, 1, -8/7], [0, 0, 0]])\n",
      "Rank = 2\n"
     ]
    }
   ],
   "source": [
    "from sympy import *\n",
    "A= Matrix([[1,3,-2],[2,-1,4],[1,-11,14]])\n",
    "B= A.rref()[0]\n",
    "print(B)\n",
    "r = A.rank()\n",
    "print(\"Rank =\",r)"
   ]
  },
  {
   "cell_type": "code",
   "execution_count": null,
   "metadata": {},
   "outputs": [
    {
     "name": "stdout",
     "output_type": "stream",
     "text": [
      "Matrix([[1, 0, 0, 0], [0, 1, 0, 0], [0, 0, 1, 0], [0, 0, 0, 1]])\n",
      "Rank = 4\n"
     ]
    }
   ],
   "source": [
    "from sympy import *\n",
    "A= Matrix([[1,2,-1,4],[2,4,3,4],[1,2,3,4],[-1,2,6,-2]])\n",
    "B= A.rref()[0]\n",
    "print(B)\n",
    "r = A.rank()\n",
    "print(\"Rank =\",r)"
   ]
  },
  {
   "cell_type": "code",
   "execution_count": null,
   "metadata": {},
   "outputs": [
    {
     "name": "stdout",
     "output_type": "stream",
     "text": [
      "Matrix([[1, 0, 0, 0], [0, 1, 0, 0], [0, 0, 1, 0], [0, 0, 0, 1]])\n",
      "Rank = 4\n"
     ]
    }
   ],
   "source": [
    "from sympy import *\n",
    "A= Matrix([[1,-1,-2,-4],[2,3,-1,-1],[3,1,3,-2],[6,3,0,7]])\n",
    "B= A.rref()[0] \n",
    "B= B.transpose()\n",
    "C= B.rref()[0]\n",
    "C= C.transpose()\n",
    "print(C)\n",
    "r = C.rank()\n",
    "print(\"Rank =\",r)"
   ]
  },
  {
   "cell_type": "code",
   "execution_count": null,
   "metadata": {},
   "outputs": [
    {
     "name": "stdout",
     "output_type": "stream",
     "text": [
      "Matrix([[1, 0, 0], [0, 1, 0], [0, 0, 0]])\n",
      "Rank = 2\n"
     ]
    }
   ],
   "source": [
    "from sympy import *\n",
    "A= Matrix([[1,2,3],[2,4,7],[3,6,10]])\n",
    "B= A.rref()[0] \n",
    "B= B.transpose()\n",
    "C= B.rref()[0]\n",
    "C= C.transpose()\n",
    "print(C)\n",
    "r = C.rank()\n",
    "print(\"Rank =\",r)"
   ]
  }
 ],
 "metadata": {
  "interpreter": {
   "hash": "b0fa6594d8f4cbf19f97940f81e996739fb7646882a419484c72d19e05852a7e"
  },
  "kernelspec": {
   "display_name": "Python 3.9.10 64-bit",
   "language": "python",
   "name": "python3"
  },
  "language_info": {
   "codemirror_mode": {
    "name": "ipython",
    "version": 3
   },
   "file_extension": ".py",
   "mimetype": "text/x-python",
   "name": "python",
   "nbconvert_exporter": "python",
   "pygments_lexer": "ipython3",
   "version": "3.9.12"
  },
  "orig_nbformat": 4
 },
 "nbformat": 4,
 "nbformat_minor": 2
}
