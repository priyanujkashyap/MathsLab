{
 "cells": [
  {
   "cell_type": "code",
   "execution_count": 32,
   "metadata": {},
   "outputs": [],
   "source": [
    "def PI(R,S,n):\n",
    "    if S!=R:\n",
    "        notprime = {(x*y)%n for x in R for y in R if (x*y)%n in S and x not in S and y not in S}\n",
    "        if notprime==set():\n",
    "            print(\"The given ideal is prime\")\n",
    "        else:\n",
    "            print(\"The given ideal isn't prime\")\n",
    "    else:\n",
    "        print(\"The ideal isn't prime\")"
   ]
  },
  {
   "cell_type": "code",
   "execution_count": 33,
   "metadata": {},
   "outputs": [
    {
     "name": "stdout",
     "output_type": "stream",
     "text": [
      "The given ideal is prime\n"
     ]
    }
   ],
   "source": [
    "PI({0,1,2,3,4,5},{0,2,4},6)"
   ]
  },
  {
   "cell_type": "code",
   "execution_count": 34,
   "metadata": {},
   "outputs": [
    {
     "name": "stdout",
     "output_type": "stream",
     "text": [
      "The given ideal isn't prime\n"
     ]
    }
   ],
   "source": [
    "PI({0,1,2,3,4,5},{4},6)"
   ]
  },
  {
   "cell_type": "code",
   "execution_count": 35,
   "metadata": {},
   "outputs": [
    {
     "name": "stdout",
     "output_type": "stream",
     "text": [
      "The given ideal is prime\n"
     ]
    }
   ],
   "source": [
    "PI({0,1,2,3,4,5,6,7,8,9},{0,2,4,6,8},10)"
   ]
  },
  {
   "cell_type": "code",
   "execution_count": 36,
   "metadata": {},
   "outputs": [
    {
     "name": "stdout",
     "output_type": "stream",
     "text": [
      "The given ideal isn't prime\n"
     ]
    }
   ],
   "source": [
    "PI({0,1,2,3,4,5,6,7},{0,4},8)"
   ]
  }
 ],
 "metadata": {
  "kernelspec": {
   "display_name": "base",
   "language": "python",
   "name": "python3"
  },
  "language_info": {
   "codemirror_mode": {
    "name": "ipython",
    "version": 3
   },
   "file_extension": ".py",
   "mimetype": "text/x-python",
   "name": "python",
   "nbconvert_exporter": "python",
   "pygments_lexer": "ipython3",
   "version": "3.10.12"
  },
  "orig_nbformat": 4
 },
 "nbformat": 4,
 "nbformat_minor": 2
}
