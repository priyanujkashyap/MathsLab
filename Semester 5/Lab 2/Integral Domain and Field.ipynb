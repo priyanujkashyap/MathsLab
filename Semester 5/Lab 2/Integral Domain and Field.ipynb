{
 "cells": [
  {
   "cell_type": "code",
   "execution_count": null,
   "metadata": {},
   "outputs": [],
   "source": [
    "def Ring(R,n):\n",
    "    R.remove(0)\n",
    "    Zd = set([x for x in R for y in R if x*y%n == 0])\n",
    "    Unity=max([x for x in R for y in R if x*y%n==y])\n",
    "    Units=[x for x in R for y in R if x*y%n==Unity]\n",
    "    Inverses=[(x,y)for x in R for y in R if x*y%n==Unity]\n",
    "    if Zd==[] and Units==R:\n",
    "        print(\"The given Ring is an Integral Domain and a Field\")\n",
    "    else:\n",
    "        print(\"The given Ring is not an Integral Domain or a Field\",\"\\nZero Divisors are:\",list(Zd))\n",
    "    print(\"The Units are:\",Units ,\"\\nThe Inverses are:\",Inverses)\n",
    "Ring([0,1,2,3,4,5],6)"
   ]
  },
  {
   "cell_type": "code",
   "execution_count": 113,
   "metadata": {},
   "outputs": [],
   "source": [
    "def multiden(R,n):\n",
    "    for i in R:\n",
    "        flag = True\n",
    "        for j in R:\n",
    "            if (i*j)%n != j:\n",
    "                flag = False\n",
    "                break\n",
    "        if flag == True:\n",
    "            unity = i\n",
    "            print(\"Multiplicative identity=\", unity)\n",
    "            return unity\n",
    "    print(\"No multiplicative identity\")\n",
    "def multinv(R,n):\n",
    "    e= multiden(R,n)\n",
    "    if e is not None:\n",
    "        flag1= False\n",
    "        R.remove(0)\n",
    "        for i in R:\n",
    "            flag2= False\n",
    "            for j in R:\n",
    "                if (j*i)%n == e and (i*j)%n == e:\n",
    "                    flag2= True\n",
    "                    print(\"Inverse of \",i, \"is\", j)\n",
    "                    break\n",
    "            if flag2 == False:\n",
    "                flag1= True\n",
    "                print(\"Inverse of \", i, \"doesnt exist\")\n",
    "        if flag1 ==True:\n",
    "            print(\"It is not a field\")\n",
    "            return\n",
    "        print(\"It is a field\")\n",
    "def zerodiv(R,n):\n",
    "    z=[x for x in R for y in R if (x*y)%n ==0]\n",
    "    if len(z)!=0:\n",
    "        print(\"The zero divisors are\", z, \". It is an integral domain\")\n",
    "    else:\n",
    "        print(\"No zero divisors. It is an integral domain\")\n",
    "def id(R,n):\n",
    "    multinv(R,n)\n",
    "    zerodiv(R,n)\n"
   ]
  },
  {
   "cell_type": "code",
   "execution_count": 114,
   "metadata": {},
   "outputs": [
    {
     "name": "stdout",
     "output_type": "stream",
     "text": [
      "Multiplicative identity= 1\n",
      "Inverse of  1 is 1\n",
      "Inverse of  2 is 3\n",
      "Inverse of  3 is 2\n",
      "Inverse of  4 is 4\n",
      "It is a field\n",
      "No zero divisors. It is an integral domain\n"
     ]
    }
   ],
   "source": [
    "id([0,1,2,3,4],5)"
   ]
  },
  {
   "cell_type": "code",
   "execution_count": 115,
   "metadata": {},
   "outputs": [
    {
     "name": "stdout",
     "output_type": "stream",
     "text": [
      "Multiplicative identity= 1\n",
      "Inverse of  1 is 1\n",
      "Inverse of  2 doesnt exist\n",
      "Inverse of  3 doesnt exist\n",
      "Inverse of  4 doesnt exist\n",
      "Inverse of  5 is 5\n",
      "It is not a field\n",
      "The zero divisors are [2, 3, 3, 4] . It is an integral domain\n"
     ]
    }
   ],
   "source": [
    "id([0,1,2,3,4,5],6)"
   ]
  },
  {
   "cell_type": "code",
   "execution_count": 116,
   "metadata": {},
   "outputs": [
    {
     "name": "stdout",
     "output_type": "stream",
     "text": [
      "Multiplicative identity= 6\n",
      "Inverse of  2 is 8\n",
      "Inverse of  4 is 4\n",
      "Inverse of  6 is 6\n",
      "Inverse of  8 is 2\n",
      "It is a field\n",
      "No zero divisors. It is an integral domain\n"
     ]
    }
   ],
   "source": [
    "id([0,2,4,6,8],10)"
   ]
  }
 ],
 "metadata": {
  "kernelspec": {
   "display_name": "base",
   "language": "python",
   "name": "python3"
  },
  "language_info": {
   "codemirror_mode": {
    "name": "ipython",
    "version": 3
   },
   "file_extension": ".py",
   "mimetype": "text/x-python",
   "name": "python",
   "nbconvert_exporter": "python",
   "pygments_lexer": "ipython3",
   "version": "3.10.12"
  },
  "orig_nbformat": 4
 },
 "nbformat": 4,
 "nbformat_minor": 2
}
