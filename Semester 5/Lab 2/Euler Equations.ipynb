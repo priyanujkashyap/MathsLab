{
 "cells": [
  {
   "cell_type": "code",
   "execution_count": 23,
   "metadata": {},
   "outputs": [],
   "source": [
    "from sympy import *\n",
    "from sympy.abc import x,k\n",
    "y=Function('y')\n",
    "y1=y(x).diff(x)\n",
    "def gen(f,a,b,c,d):\n",
    "    bc={y(a):b,y(c):d}\n",
    "    eq=diff(f,y(x))-diff(f,y1,x)\n",
    "    sol=dsolve(eq,y(x),ics=bc)\n",
    "    display(sol.rhs)\n",
    "def case1(f):\n",
    "    eq=f-y1*(diff(f,y1))-k\n",
    "    sol=dsolve(eq,y(x))\n",
    "    display(sol[2].rhs)\n",
    "def case2(f):\n",
    "    eq=(diff(f,y1))-k\n",
    "    sol=dsolve(eq,y(x))\n",
    "    display(sol.rhs)\n",
    "def case3(f):\n",
    "    eq=(diff(f,y(x)))\n",
    "    sol=dsolve(eq,y(x))\n",
    "    display(sol.rhs)\n"
   ]
  },
  {
   "cell_type": "code",
   "execution_count": 24,
   "metadata": {},
   "outputs": [
    {
     "data": {
      "text/latex": [
       "$\\displaystyle x^{3} + 2 x + 3$"
      ],
      "text/plain": [
       "x**3 + 2*x + 3"
      ]
     },
     "metadata": {},
     "output_type": "display_data"
    }
   ],
   "source": [
    "gen(12*x*y(x)+y1**2,0,3,1,6)"
   ]
  },
  {
   "cell_type": "code",
   "execution_count": 25,
   "metadata": {},
   "outputs": [
    {
     "data": {
      "text/latex": [
       "$\\displaystyle x + 1$"
      ],
      "text/plain": [
       "x + 1"
      ]
     },
     "metadata": {},
     "output_type": "display_data"
    }
   ],
   "source": [
    "gen((1+y1**2)**(1/2),0,1,1,2)"
   ]
  },
  {
   "cell_type": "code",
   "execution_count": 26,
   "metadata": {},
   "outputs": [
    {
     "data": {
      "text/latex": [
       "$\\displaystyle - \\sin{\\left(x \\right)}$"
      ],
      "text/plain": [
       "-sin(x)"
      ]
     },
     "metadata": {},
     "output_type": "display_data"
    }
   ],
   "source": [
    "gen(2*sin(x)*y(x)+y1**2,0,0,pi,0)"
   ]
  },
  {
   "cell_type": "code",
   "execution_count": 27,
   "metadata": {},
   "outputs": [
    {
     "data": {
      "text/latex": [
       "$\\displaystyle \\frac{0.25 C_{1}^{2}}{k^{2}} - \\frac{0.5 C_{1} x}{k^{2}} + k^{2} + \\frac{0.25 x^{2}}{k^{2}}$"
      ],
      "text/plain": [
       "0.25*C1**2/k**2 - 0.5*C1*x/k**2 + k**2 + 0.25*x**2/k**2"
      ]
     },
     "metadata": {},
     "output_type": "display_data"
    }
   ],
   "source": [
    "case1((y(x)*(1+y1**2))**(1/2))"
   ]
  },
  {
   "cell_type": "code",
   "execution_count": 28,
   "metadata": {},
   "outputs": [
    {
     "data": {
      "text/latex": [
       "$\\displaystyle C_{1} + \\frac{k x^{4}}{8}$"
      ],
      "text/plain": [
       "C1 + k*x**4/8"
      ]
     },
     "metadata": {},
     "output_type": "display_data"
    }
   ],
   "source": [
    "case2(y1**2/x**3)"
   ]
  },
  {
   "cell_type": "code",
   "execution_count": 29,
   "metadata": {},
   "outputs": [
    {
     "data": {
      "text/latex": [
       "$\\displaystyle 0$"
      ],
      "text/plain": [
       "0"
      ]
     },
     "metadata": {},
     "output_type": "display_data"
    }
   ],
   "source": [
    "case3((x**2)*(y(x)**2))"
   ]
  }
 ],
 "metadata": {
  "kernelspec": {
   "display_name": "base",
   "language": "python",
   "name": "python3"
  },
  "language_info": {
   "codemirror_mode": {
    "name": "ipython",
    "version": 3
   },
   "file_extension": ".py",
   "mimetype": "text/x-python",
   "name": "python",
   "nbconvert_exporter": "python",
   "pygments_lexer": "ipython3",
   "version": "3.10.12"
  },
  "orig_nbformat": 4
 },
 "nbformat": 4,
 "nbformat_minor": 2
}
