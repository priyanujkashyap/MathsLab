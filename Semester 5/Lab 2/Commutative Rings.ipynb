{
 "cells": [
  {
   "cell_type": "code",
   "execution_count": 6,
   "metadata": {},
   "outputs": [],
   "source": [
    "def multmod(x,y,n):\n",
    "    return(x*y)%n\n",
    "def comm(R,n):\n",
    "    for x in R:\n",
    "        for y in R:\n",
    "            if multmod(y,x,n)!=multmod(x,y,n):\n",
    "                print(\"The ring is not commutative\")\n",
    "                return \n",
    "    print(\"The ring is commutative\")\n",
    "def muliden(R,n):\n",
    "    for x in R:\n",
    "        flag=True\n",
    "        for y in R:\n",
    "            if multmod(y,x,n)!=y or multmod(x,y,n)!=y:\n",
    "                flag=False\n",
    "                break\n",
    "        if flag==True:\n",
    "            unity=x\n",
    "            print(\"The multiplicative identity is\",unity)\n",
    "            return \n",
    "    print(\"The ring has no multiplicative identity\")\n",
    "def cr(R,n):\n",
    "    comm(R,n)\n",
    "    muliden(R,n)\n"
   ]
  },
  {
   "cell_type": "code",
   "execution_count": 7,
   "metadata": {},
   "outputs": [
    {
     "name": "stdout",
     "output_type": "stream",
     "text": [
      "The ring is commutative\n",
      "The multiplicative identity is 1\n"
     ]
    }
   ],
   "source": [
    "cr([0,1,2,3,4,5],6)"
   ]
  },
  {
   "cell_type": "code",
   "execution_count": 8,
   "metadata": {},
   "outputs": [
    {
     "name": "stdout",
     "output_type": "stream",
     "text": [
      "The ring is commutative\n",
      "The ring has no multiplicative identity\n"
     ]
    }
   ],
   "source": [
    "cr([0,2,4,6],8)"
   ]
  },
  {
   "cell_type": "code",
   "execution_count": 9,
   "metadata": {},
   "outputs": [
    {
     "name": "stdout",
     "output_type": "stream",
     "text": [
      "The ring is commutative\n",
      "The multiplicative identity is 4\n"
     ]
    }
   ],
   "source": [
    "cr([0,2,4],6)"
   ]
  },
  {
   "cell_type": "code",
   "execution_count": 10,
   "metadata": {},
   "outputs": [
    {
     "name": "stdout",
     "output_type": "stream",
     "text": [
      "The ring is commutative\n",
      "The multiplicative identity is 6\n"
     ]
    }
   ],
   "source": [
    "cr([0,2,4,6,8],10)"
   ]
  }
 ],
 "metadata": {
  "kernelspec": {
   "display_name": "base",
   "language": "python",
   "name": "python3"
  },
  "language_info": {
   "codemirror_mode": {
    "name": "ipython",
    "version": 3
   },
   "file_extension": ".py",
   "mimetype": "text/x-python",
   "name": "python",
   "nbconvert_exporter": "python",
   "pygments_lexer": "ipython3",
   "version": "3.10.12"
  },
  "orig_nbformat": 4
 },
 "nbformat": 4,
 "nbformat_minor": 2
}
