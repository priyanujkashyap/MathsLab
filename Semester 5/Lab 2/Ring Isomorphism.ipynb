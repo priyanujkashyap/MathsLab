{
 "cells": [
  {
   "cell_type": "code",
   "execution_count": 1,
   "metadata": {},
   "outputs": [
    {
     "name": "stdout",
     "output_type": "stream",
     "text": [
      "Its a homomorphism\n",
      "The image is {0, 3}\n",
      "The kernel is {0, 2, 4}\n",
      "Not isomorphism\n"
     ]
    }
   ],
   "source": [
    "def i(R,n):\n",
    "    for x in R:\n",
    "        for y in R:\n",
    "            if f(x*y)%n != (f(x)*f(y))%n or f(x+y)%n != (f(x)+f(y))%n:\n",
    "                print(\"not homomorphism\")\n",
    "                return\n",
    "    kerf={x for x in R if f(x)%n==0}\n",
    "    imf={f(x) for x in R}\n",
    "    print(\"Its a homomorphism\")\n",
    "    print(\"The image is\", imf)\n",
    "    print(\"The kernel is\",kerf)\n",
    "    s={0,1,2,3,4,5}\n",
    "    if kerf=={0} and imf==s:\n",
    "        print(\"It is isomorphism\")\n",
    "    else:\n",
    "        print('Not isomorphism')\n",
    "def f(x):\n",
    "    return 3*x%6\n",
    "i({0,1,2,3,4,5},6) "
   ]
  },
  {
   "cell_type": "code",
   "execution_count": 3,
   "metadata": {},
   "outputs": [
    {
     "name": "stdout",
     "output_type": "stream",
     "text": [
      "Its a homomorphism\n",
      "The image is {0, 1, 2, 3, 4, 5}\n",
      "The kernel is {0}\n",
      "It is isomorphism\n"
     ]
    }
   ],
   "source": [
    "def f(x):\n",
    "    return x\n",
    "i({0,1,2,3,4,5},6)"
   ]
  },
  {
   "cell_type": "code",
   "execution_count": 2,
   "metadata": {},
   "outputs": [
    {
     "name": "stdout",
     "output_type": "stream",
     "text": [
      "Its a homomorphism\n",
      "The image is {(0, 1), (1, 2), (0, 0), (1, 1), (0, 2), (1, 0)}\n",
      "The kernel is {0}\n",
      "It is isomorphism\n"
     ]
    }
   ],
   "source": [
    "from itertools import product\n",
    "def iso(R,s,p,q):\n",
    "    for x in R:\n",
    "        for y in R:\n",
    "            a=((f(x)[0]+f(y)[0])%p,(f(x)[1]+f(y)[1])%q)\n",
    "            b=((f(x)[0]*f(y)[0])%p,(f(x)[1]*f(y)[1])%q)\n",
    "            if f(x*y%(p*q)) != b or f((x+y)%(p*q)) != a:\n",
    "                print(\"Not homomorphism\")\n",
    "                return\n",
    "    kerf={x for x in R if f(x)==(0,0)}\n",
    "    imf={f(x) for x in R}\n",
    "    print(\"Its a homomorphism\")\n",
    "    print(\"The image is\", imf)\n",
    "    print(\"The kernel is\",kerf)\n",
    "    if kerf=={0} and imf==s:\n",
    "        print(\"It is isomorphism\")\n",
    "    else:\n",
    "        print('Not isomorphism')  \n",
    "def f(x):\n",
    "    return (x%2,x%3)\n",
    "R={0,1,2,3,4,5}\n",
    "s=set(product({0,1},{0,1,2}))\n",
    "iso(R,s,2,3) "
   ]
  }
 ],
 "metadata": {
  "kernelspec": {
   "display_name": "base",
   "language": "python",
   "name": "python3"
  },
  "language_info": {
   "codemirror_mode": {
    "name": "ipython",
    "version": 3
   },
   "file_extension": ".py",
   "mimetype": "text/x-python",
   "name": "python",
   "nbconvert_exporter": "python",
   "pygments_lexer": "ipython3",
   "version": "3.10.12"
  }
 },
 "nbformat": 4,
 "nbformat_minor": 2
}
