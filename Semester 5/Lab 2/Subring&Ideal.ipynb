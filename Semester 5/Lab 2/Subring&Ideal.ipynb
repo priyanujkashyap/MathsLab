{
 "cells": [
  {
   "cell_type": "code",
   "execution_count": 6,
   "metadata": {},
   "outputs": [],
   "source": [
    "def subI(R,S,n):\n",
    "    notsubclosed=[False for x in S for y in S if (x*y)%n not in S or (x+y)%n not in S]\n",
    "    if notsubclosed:\n",
    "        print(S,'is not a subring')\n",
    "        print(S,'is not an ideal')\n",
    "    else:\n",
    "        print(S,'is a subring')\n",
    "        notideal=[False for x in R for y in S if (x*y)%n not in S]\n",
    "        if notideal:\n",
    "            print(S,'is not an ideal')\n",
    "        else:\n",
    "            print(S,'is an ideal')\n"
   ]
  },
  {
   "cell_type": "code",
   "execution_count": 7,
   "metadata": {},
   "outputs": [
    {
     "name": "stdout",
     "output_type": "stream",
     "text": [
      "{0, 2, 4} is a subring\n",
      "{0, 2, 4} is an ideal\n"
     ]
    }
   ],
   "source": [
    "subI({0,1,2,3,4,5},{0,2,4},6)"
   ]
  },
  {
   "cell_type": "code",
   "execution_count": 8,
   "metadata": {},
   "outputs": [
    {
     "name": "stdout",
     "output_type": "stream",
     "text": [
      "{0, 5} is not a subring\n",
      "{0, 5} is not an ideal\n"
     ]
    }
   ],
   "source": [
    "subI({0,1,2,3,4,5},{0,5},6)"
   ]
  },
  {
   "cell_type": "code",
   "execution_count": 9,
   "metadata": {},
   "outputs": [
    {
     "name": "stdout",
     "output_type": "stream",
     "text": [
      "{0, 2, 4, 6, 8} is a subring\n",
      "{0, 2, 4, 6, 8} is an ideal\n"
     ]
    }
   ],
   "source": [
    "subI({0,1,2,3,4,5,6,7,8,9},{0,2,4,6,8},10)"
   ]
  }
 ],
 "metadata": {
  "kernelspec": {
   "display_name": "base",
   "language": "python",
   "name": "python3"
  },
  "language_info": {
   "codemirror_mode": {
    "name": "ipython",
    "version": 3
   },
   "file_extension": ".py",
   "mimetype": "text/x-python",
   "name": "python",
   "nbconvert_exporter": "python",
   "pygments_lexer": "ipython3",
   "version": "3.10.12"
  },
  "orig_nbformat": 4
 },
 "nbformat": 4,
 "nbformat_minor": 2
}
