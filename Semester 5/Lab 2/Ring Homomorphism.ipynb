{
 "cells": [
  {
   "cell_type": "code",
   "execution_count": 1,
   "metadata": {},
   "outputs": [
    {
     "name": "stdout",
     "output_type": "stream",
     "text": [
      "Its a homomorphism\n",
      "The image is {0, 5}\n",
      "The kernel is {0, 2}\n"
     ]
    }
   ],
   "source": [
    "def h(R,n):\n",
    "    for x in R:\n",
    "        for y in R:\n",
    "            if f(x*y)%n != (f(x))*(f(y))%n or f(x+y)%n  != (f(x)+f(y))%n:\n",
    "                print(\"Its not homomorphism\")\n",
    "                return\n",
    "    kerf={x for x in R if f(x)%n==0}\n",
    "    imf={f(x) for x in R}\n",
    "    print(\"Its a homomorphism\")\n",
    "    print(\"The image is\", imf)\n",
    "    print(\"The kernel is\",kerf)\n",
    "def f(x):\n",
    "    return 5*x%10\n",
    "h({0,1,2,3},10)"
   ]
  },
  {
   "cell_type": "code",
   "execution_count": 2,
   "metadata": {},
   "outputs": [
    {
     "name": "stdout",
     "output_type": "stream",
     "text": [
      "Its not homomorphism\n"
     ]
    }
   ],
   "source": [
    "def f(x):\n",
    "    return 2*x%8\n",
    "h({0,1,2,3},8)"
   ]
  },
  {
   "cell_type": "code",
   "execution_count": 3,
   "metadata": {},
   "outputs": [
    {
     "name": "stdout",
     "output_type": "stream",
     "text": [
      "Its a homomorphism\n",
      "The image is {0, 10, 20}\n",
      "The kernel is {0, 9, 3, 6}\n"
     ]
    }
   ],
   "source": [
    "def f(x):\n",
    "    return 10*x%30\n",
    "h({0,1,2,3,4,5,6,7,8,9,10,11},30)"
   ]
  }
 ],
 "metadata": {
  "kernelspec": {
   "display_name": "base",
   "language": "python",
   "name": "python3"
  },
  "language_info": {
   "codemirror_mode": {
    "name": "ipython",
    "version": 3
   },
   "file_extension": ".py",
   "mimetype": "text/x-python",
   "name": "python",
   "nbconvert_exporter": "python",
   "pygments_lexer": "ipython3",
   "version": "3.10.12"
  }
 },
 "nbformat": 4,
 "nbformat_minor": 2
}
