{
 "cells": [
  {
   "cell_type": "code",
   "execution_count": 81,
   "metadata": {},
   "outputs": [],
   "source": [
    "from sympy import *\n",
    "from sympy.abc import x,y,z,theta,r,i,c,p\n",
    "\n",
    "def mt(u,part,cood):\n",
    "    if part==re:\n",
    "        if cood==c:\n",
    "            ux= u.diff(x).subs(x,z).simplify()\n",
    "            uy= u.diff(y).subs(x,z).simplify()\n",
    "            uz= (ux-i*uy).subs(y,0)\n",
    "            ui= integrate(uz,z).simplify()\n",
    "            display (ui)\n",
    "        elif cood==p:\n",
    "            ur= u.diff(r).subs(r,z).simplify()\n",
    "            ut= u.diff(theta).subs(r,z).simplify()\n",
    "            uz= (exp(-i*theta)*(ur-(1/r)*i*ut)).subs(theta,0)\n",
    "            ui= integrate(uz,z).simplify()\n",
    "            display (ui)\n",
    "    elif part==im:\n",
    "        if cood==c:\n",
    "            ux= u.diff(x).subs(x,z).simplify()\n",
    "            uy= u.diff(y).subs(x,z).simplify()\n",
    "            uz= (ux+i*uy).subs(y,0)\n",
    "            ui= integrate(uz,z).simplify()\n",
    "            display (ui)\n",
    "        elif cood==p:\n",
    "            ur= u.diff(r).subs(r,z).simplify()\n",
    "            ut= u.diff(theta).subs(r,z).simplify()\n",
    "            uz= (exp(-i*theta)*((1/r)*ur+i*ut)).subs(theta,0)\n",
    "            ui= integrate(uz,z).simplify()\n",
    "            display (ui)\n"
   ]
  },
  {
   "cell_type": "code",
   "execution_count": 82,
   "metadata": {},
   "outputs": [
    {
     "data": {
      "text/latex": [
       "$\\displaystyle z e^{z}$"
      ],
      "text/plain": [
       "z*exp(z)"
      ]
     },
     "metadata": {},
     "output_type": "display_data"
    }
   ],
   "source": [
    "mt(exp(x)*(x*cos(y)-y*sin(y)),re,c)"
   ]
  },
  {
   "cell_type": "code",
   "execution_count": 76,
   "metadata": {},
   "outputs": [
    {
     "data": {
      "text/latex": [
       "$\\displaystyle z \\left(2 - z^{2}\\right)$"
      ],
      "text/plain": [
       "z*(2 - z**2)"
      ]
     },
     "metadata": {},
     "output_type": "display_data"
    }
   ],
   "source": [
    "mt(2*x-x**3+3*x*y**2,re,c)"
   ]
  },
  {
   "cell_type": "code",
   "execution_count": 83,
   "metadata": {},
   "outputs": [
    {
     "data": {
      "text/latex": [
       "$\\displaystyle z + \\frac{1}{z}$"
      ],
      "text/plain": [
       "z + 1/z"
      ]
     },
     "metadata": {},
     "output_type": "display_data"
    }
   ],
   "source": [
    "mt((r+1/r)*cos(theta),re,p)"
   ]
  },
  {
   "cell_type": "code",
   "execution_count": 78,
   "metadata": {},
   "outputs": [
    {
     "data": {
      "text/latex": [
       "$\\displaystyle i \\sin{\\left(z \\right)} + \\cos{\\left(z \\right)}$"
      ],
      "text/plain": [
       "i*sin(z) + cos(z)"
      ]
     },
     "metadata": {},
     "output_type": "display_data"
    }
   ],
   "source": [
    "mt(cos(x)*exp(-y),re,c)"
   ]
  },
  {
   "cell_type": "code",
   "execution_count": 79,
   "metadata": {},
   "outputs": [
    {
     "data": {
      "text/latex": [
       "$\\displaystyle \\frac{i + 1}{z}$"
      ],
      "text/plain": [
       "(i + 1)/z"
      ]
     },
     "metadata": {},
     "output_type": "display_data"
    }
   ],
   "source": [
    "mt((x-y)/(x**2+y**2),im,c)"
   ]
  },
  {
   "cell_type": "code",
   "execution_count": 80,
   "metadata": {},
   "outputs": [
    {
     "data": {
      "text/latex": [
       "$\\displaystyle i z + e^{z}$"
      ],
      "text/plain": [
       "i*z + exp(z)"
      ]
     },
     "metadata": {},
     "output_type": "display_data"
    }
   ],
   "source": [
    "mt(y+exp(x)*cos(y),im,c)"
   ]
  }
 ],
 "metadata": {
  "kernelspec": {
   "display_name": "base",
   "language": "python",
   "name": "python3"
  },
  "language_info": {
   "codemirror_mode": {
    "name": "ipython",
    "version": 3
   },
   "file_extension": ".py",
   "mimetype": "text/x-python",
   "name": "python",
   "nbconvert_exporter": "python",
   "pygments_lexer": "ipython3",
   "version": "3.10.12"
  },
  "orig_nbformat": 4
 },
 "nbformat": 4,
 "nbformat_minor": 2
}
