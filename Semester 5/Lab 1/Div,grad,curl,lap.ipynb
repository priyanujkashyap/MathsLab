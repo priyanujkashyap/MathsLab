{
 "cells": [
  {
   "cell_type": "code",
   "execution_count": null,
   "metadata": {},
   "outputs": [],
   "source": [
    "from sympy import *\n",
    "from sympy.abc import x,y,z,r,t,p\n",
    "i,j,k=symbols(\"i,j,k\")\n",
    "er,et,ep=symbols(\"e_r,e_t,e_p\")\n",
    "x=r*sin(t)*cos(p)\n",
    "y=r*sin(t)*sin(p)\n",
    "z=r*cos(t)\n",
    "i=sin(t)*cos(p)*er+cos(t)*cos(p)*et-sin(p)*ep\n",
    "j=sin(t)*sin(p)*er+cos(t)*sin(p)*et+cos(p)*ep\n",
    "k=cos(t)*er-sin(t)*et\n",
    "f1=x+y+z\n",
    "f2=(x*i+y*j+z*k).simplify()\n",
    "print(f1)\n",
    "print(f2)\n",
    "def grad(f):\n",
    "    gdf=(diff(f,r)*er+(1/r)*diff(f,t)*et+(1/(r*sin(p)))*diff(f,p)*ep)\n",
    "    display(gdf)\n",
    "grad(f1)"
   ]
  },
  {
   "cell_type": "code",
   "execution_count": null,
   "metadata": {},
   "outputs": [],
   "source": [
    "from sympy import *\n",
    "x,y,z,r,t,p,er,et,ep=symbols('x y z r t p er et ep')\n",
    "F=x+y+z\n",
    "Fc=F.subs(x,r*sin(t)*sin(p)).subs(y,r*sin(t)*sin(p)).subs(z,r*cos(t))\n",
    "GradFc=diff(Fc,r)*er+diff(Fc,t)/r*et+diff(Fc,p)/(r*sin(t))*ep\n",
    "LapFc=diff(diff(Fc,r)*r**2,r)/r**2+diff(diff(Fc,t)*sin(t),t)/(r**2*sin(t))+diff(Fc,p,2)/(r*sin(t))**2\n",
    "print(\"The funtion is\",Fc.simplify(),\"\\nThe gradient is\",GradFc.simplify(),\"\\nThe laplacian is\",LapFc.simplify())"
   ]
  },
  {
   "cell_type": "code",
   "execution_count": null,
   "metadata": {},
   "outputs": [],
   "source": [
    "from sympy import *\n",
    "x,y,z,i,j,k,r,t,p,er,et,ep=symbols('x y z i j k r t p er et ep')\n",
    "f=x*i+y*j+z*k\n",
    "F=f.subs(x,r*sin(t)*cos(p)).subs(y,r*sin(t)*sin(p)).subs(z,r*cos(t))\n",
    "Fi=diff(F,i)*(sin(t)*cos(p)*er+cos(t)*cos(p)*et-sin(p)*ep)\n",
    "Fj=diff(F,j)*(sin(t)*sin(p)*er+cos(t)*sin(p)*et+cos(p)*ep)\n",
    "Fk=diff(F,k)*(cos(t)*er-sin(t)*et)\n",
    "Fc=(Fi+Fj+Fk).simplify()\n",
    "Fr=diff(Fc,er)\n",
    "Ft=diff(Fc,et)\n",
    "Fp=diff(Fc,ep)\n",
    "DivFc=diff(Fr*r**2,r)/r**2+diff(Ft*sin(t),t)/(r*sin(t))+diff(Fp,p)/(r*sin(t))\n",
    "CurlFc=(diff(Fp*r*sin(t),t)-diff(Ft*r,p))*er+(diff(Fr,p)-diff(Fp*r*sin(t),r))*r*et+(diff(Ft,p)-diff(Ft*r,r))*r*sin(t)*ep\n",
    "print(\"The funtion is\",Fc,\"\\nThe divergence is\",DivFc.simplify(),\"\\nThe curl is\",CurlFc.simplify())"
   ]
  },
  {
   "cell_type": "code",
   "execution_count": 47,
   "metadata": {},
   "outputs": [],
   "source": [
    "#Cylindrical Coordinates\n",
    "\n",
    "from sympy import *\n",
    "from sympy.abc import r,t,z,a,b,c\n",
    "\n",
    "def conv1(x,y,z):\n",
    "    x = r*cos(t)\n",
    "    y = r*sin(t)\n",
    "    z = z\n",
    "    sol = x + y + z\n",
    "    return sol\n",
    "\n",
    "def conv2(xi,yj,zk):\n",
    "    xi = r*cos*(cos(t)*a-sin(t)*b)\n",
    "    yj = r*sin*(sin(t)*a+cos(t)*b)\n",
    "    zk = z*c \n",
    "    sol = xi + yj + zk\n",
    "    return sol\n",
    "\n",
    "def grad(x,y,z):\n",
    "    f = conv1(x,y,z)\n",
    "    gf = diff(f,r)*a + (1/r)*diff(f,t)*b + diff(f,z)*c\n",
    "    display (gf)\n",
    "\n",
    "def lap(x,y,z):\n",
    "    f = conv1(x,y,z)\n",
    "    lf = (1/r)*(diff(r*diff(f,r),r)) + (1/r**2)*diff(f,t,2) + diff(f,z,2)\n",
    "    display (lf)\n",
    "\n",
    "def div(xi,yj,zk):\n",
    "    f = conv2(xi,yj,zk)\n",
    "    s = parse_expr(str(f))\n",
    "    f1 = s.coeff(a) * a\n",
    "    f2 = s.coeff(b) * b\n",
    "    f3 = s.coeff(c) * c\n",
    "    df = (1/r)*(diff(r*diff(f1,r),r)) + (1/r**2)*diff(f2,t,2) + diff(f3,z,2)\n",
    "    display (df)\n",
    "\n",
    "\n"
   ]
  },
  {
   "cell_type": "code",
   "execution_count": 48,
   "metadata": {},
   "outputs": [
    {
     "data": {
      "text/latex": [
       "$\\displaystyle a \\left(\\sin{\\left(t \\right)} + \\cos{\\left(t \\right)}\\right) + \\frac{b \\left(- r \\sin{\\left(t \\right)} + r \\cos{\\left(t \\right)}\\right)}{r} + c$"
      ],
      "text/plain": [
       "a*(sin(t) + cos(t)) + b*(-r*sin(t) + r*cos(t))/r + c"
      ]
     },
     "metadata": {},
     "output_type": "display_data"
    },
    {
     "data": {
      "text/latex": [
       "$\\displaystyle 0$"
      ],
      "text/plain": [
       "0"
      ]
     },
     "metadata": {},
     "output_type": "display_data"
    },
    {
     "ename": "NameError",
     "evalue": "name 'xi' is not defined",
     "output_type": "error",
     "traceback": [
      "\u001b[0;31m---------------------------------------------------------------------------\u001b[0m",
      "\u001b[0;31mNameError\u001b[0m                                 Traceback (most recent call last)",
      "\u001b[1;32m/Users/priyanujkashyap/Documents/GitHub/sem5maths/Div,grad,curl,lap.ipynb Cell 2\u001b[0m line \u001b[0;36m3\n\u001b[1;32m      <a href='vscode-notebook-cell:/Users/priyanujkashyap/Documents/GitHub/sem5maths/Div%2Cgrad%2Ccurl%2Clap.ipynb#W1sZmlsZQ%3D%3D?line=0'>1</a>\u001b[0m grad(x,y,z)\n\u001b[1;32m      <a href='vscode-notebook-cell:/Users/priyanujkashyap/Documents/GitHub/sem5maths/Div%2Cgrad%2Ccurl%2Clap.ipynb#W1sZmlsZQ%3D%3D?line=1'>2</a>\u001b[0m lap (x,y,z)\n\u001b[0;32m----> <a href='vscode-notebook-cell:/Users/priyanujkashyap/Documents/GitHub/sem5maths/Div%2Cgrad%2Ccurl%2Clap.ipynb#W1sZmlsZQ%3D%3D?line=2'>3</a>\u001b[0m div (xi,yj,zk)\n",
      "\u001b[0;31mNameError\u001b[0m: name 'xi' is not defined"
     ]
    }
   ],
   "source": [
    "grad(x,y,z)\n",
    "lap (x,y,z)\n",
    "div (xi,yj,zk)"
   ]
  },
  {
   "cell_type": "code",
   "execution_count": null,
   "metadata": {},
   "outputs": [
    {
     "name": "stdout",
     "output_type": "stream",
     "text": [
      "0\n",
      "2\n"
     ]
    }
   ],
   "source": [
    "from sympy import *\n",
    "from sympy.physics.vector import ReferenceFrame\n",
    "from sympy.physics.vector import curl\n",
    "R = ReferenceFrame('R')\n",
    "x = R[0]\n",
    "y = R[1]\n",
    "z = R[2]\n",
    "F = x * R.x - 0 * R.y + z * R.z\n",
    "G = curl(F, R)\n",
    "D = divergence(F, R)\n",
    "print (G)\n",
    "print (D)"
   ]
  },
  {
   "cell_type": "code",
   "execution_count": null,
   "metadata": {},
   "outputs": [
    {
     "ename": "AttributeError",
     "evalue": "'VectorAdd' object has no attribute 'gradient'",
     "output_type": "error",
     "traceback": [
      "\u001b[0;31m---------------------------------------------------------------------------\u001b[0m",
      "\u001b[0;31mAttributeError\u001b[0m                            Traceback (most recent call last)",
      "Cell \u001b[0;32mIn[58], line 8\u001b[0m\n\u001b[1;32m      5\u001b[0m r, theta, z \u001b[39m=\u001b[39m symbols(\u001b[39m'\u001b[39m\u001b[39mr theta z\u001b[39m\u001b[39m'\u001b[39m)\n\u001b[1;32m      6\u001b[0m v \u001b[39m=\u001b[39m r\u001b[39m*\u001b[39mN\u001b[39m.\u001b[39mi \u001b[39m+\u001b[39m theta\u001b[39m*\u001b[39mN\u001b[39m.\u001b[39mj \u001b[39m+\u001b[39m z\u001b[39m*\u001b[39mN\u001b[39m.\u001b[39mk\n\u001b[0;32m----> 8\u001b[0m gradient_v \u001b[39m=\u001b[39m v\u001b[39m.\u001b[39;49mgradient()\n\u001b[1;32m     10\u001b[0m display(gradient_v)\n",
      "\u001b[0;31mAttributeError\u001b[0m: 'VectorAdd' object has no attribute 'gradient'"
     ]
    }
   ],
   "source": [
    "from sympy.vector import *\n",
    "from sympy import symbols\n",
    "\n",
    "N = CoordSys3D('N')\n",
    "r, theta, z = symbols('r theta z')\n",
    "v = r*N.i + theta*N.j + z*N.k\n",
    "\n",
    "gradient_v = v.gradient()\n",
    "\n",
    "display(gradient_v)"
   ]
  },
  {
   "cell_type": "code",
   "execution_count": null,
   "metadata": {},
   "outputs": [
    {
     "data": {
      "text/latex": [
       "$\\displaystyle \\mathbf{\\hat{0}}$"
      ],
      "text/plain": [
       "0"
      ]
     },
     "metadata": {},
     "output_type": "display_data"
    }
   ],
   "source": [
    "from sympy import *\n",
    "from sympy.vector import gradient,CoordSys3D\n",
    "\n",
    "N = CoordSys3D('N', transformation='cylindrical', variable_names=(\"rho\", \"phi\", \"z\"))\n",
    "\n",
    "v1 = x*N.i + y*N.j + z*N.k\n",
    "\n",
    "g = gradient(v1)\n",
    "\n",
    "display(g)"
   ]
  },
  {
   "cell_type": "code",
   "execution_count": null,
   "metadata": {},
   "outputs": [
    {
     "name": "stdout",
     "output_type": "stream",
     "text": [
      "⎡x_C⎤\n",
      "⎢   ⎥\n",
      "⎢y_C⎥\n",
      "⎢   ⎥\n",
      "⎣z_C⎦\n"
     ]
    },
    {
     "data": {
      "text/latex": [
       "$\\displaystyle \\left(- 2 \\mathbf{{x}_{C}} \\gamma e^{- \\gamma \\left(\\mathbf{{x}_{C}}^{2} + \\mathbf{{y}_{C}}^{2} + \\mathbf{{z}_{C}}^{2}\\right)}\\right)\\mathbf{\\hat{e_x}_{C}} + \\left(- 2 \\mathbf{{y}_{C}} \\gamma e^{- \\gamma \\left(\\mathbf{{x}_{C}}^{2} + \\mathbf{{y}_{C}}^{2} + \\mathbf{{z}_{C}}^{2}\\right)}\\right)\\mathbf{\\hat{e_y}_{C}} + \\left(- 2 \\mathbf{{z}_{C}} \\gamma e^{- \\gamma \\left(\\mathbf{{x}_{C}}^{2} + \\mathbf{{y}_{C}}^{2} + \\mathbf{{z}_{C}}^{2}\\right)}\\right)\\mathbf{\\hat{e_z}_{C}}$"
      ],
      "text/plain": [
       "(-2*C.x*\\gamma*exp(-\\gamma*(C.x**2 + C.y**2 + C.z**2)))*C.e_x + (-2*C.y*\\gamma*exp(-\\gamma*(C.x**2 + C.y**2 + C.z**2)))*C.e_y + (-2*C.z*\\gamma*exp(-\\gamma*(C.x**2 + C.y**2 + C.z**2)))*C.e_z"
      ]
     },
     "metadata": {},
     "output_type": "display_data"
    },
    {
     "data": {
      "text/latex": [
       "$\\displaystyle 2 \\gamma \\left(2 \\mathbf{{x}_{C}}^{2} \\gamma + 2 \\mathbf{{y}_{C}}^{2} \\gamma + 2 \\mathbf{{z}_{C}}^{2} \\gamma - 3\\right) e^{- \\gamma \\left(\\mathbf{{x}_{C}}^{2} + \\mathbf{{y}_{C}}^{2} + \\mathbf{{z}_{C}}^{2}\\right)}$"
      ],
      "text/plain": [
       "2*\\gamma*(2*C.x**2*\\gamma + 2*C.y**2*\\gamma + 2*C.z**2*\\gamma - 3)*exp(-\\gamma*(C.x**2 + C.y**2 + C.z**2))"
      ]
     },
     "metadata": {},
     "output_type": "display_data"
    },
    {
     "data": {
      "text/latex": [
       "$\\displaystyle \\mathbf{\\hat{0}}$"
      ],
      "text/plain": [
       "0"
      ]
     },
     "metadata": {},
     "output_type": "display_data"
    }
   ],
   "source": [
    "from sympy import *\n",
    "from sympy.vector import gradient,CoordSys3D\n",
    "from sympy.vector.coordsysrect import CoordSys3D\n",
    "\n",
    "C = CoordSys3D ('C', vector_names=('e_x', 'e_y', 'e_z'))\n",
    "xyz = x, y, z = C.base_scalars()\n",
    "C = CoordSys3D ('C', transformation='cylindrical',vector_names=('e_x', 'e_y', 'e_z'))\n",
    "from sympy import symbols, Matrix, Symbol\n",
    "γ= symbols(r'\\gamma')\n",
    "rr = Matrix(xyz)\n",
    "pprint(rr)\n",
    "from sympy import exp\n",
    "\n",
    "phi = exp(-γ*rr.dot(rr))\n",
    "from sympy.vector import gradient,divergence,curl\n",
    "G = gradient(phi)\n",
    "D = divergence(G).simplify()\n",
    "C = curl(G)\n",
    "display(G,D,C)\n"
   ]
  },
  {
   "cell_type": "code",
   "execution_count": null,
   "metadata": {},
   "outputs": [
    {
     "name": "stderr",
     "output_type": "stream",
     "text": [
      "/var/folders/f6/mngs5jnn5yg9y3nr_l7nr_g80000gn/T/ipykernel_39088/1980902501.py:11: SymPyDeprecationWarning: \n",
      "\n",
      "non-Expr objects in a Matrix is deprecated. Matrix represents\n",
      "a mathematical matrix. To represent a container of non-numeric\n",
      "entities, Use a list of lists, TableForm, NumPy array, or some\n",
      "other data structure instead.\n",
      "\n",
      "See https://docs.sympy.org/latest/explanation/active-deprecations.html#deprecated-non-expr-in-matrix\n",
      "for details.\n",
      "\n",
      "This has been deprecated since SymPy version 1.9. It\n",
      "will be removed in a future version of SymPy.\n",
      "\n",
      "  rr = Matrix(xyz)\n"
     ]
    },
    {
     "ename": "AttributeError",
     "evalue": "'Add' object has no attribute 'dot'",
     "output_type": "error",
     "traceback": [
      "\u001b[0;31m---------------------------------------------------------------------------\u001b[0m",
      "\u001b[0;31mAttributeError\u001b[0m                            Traceback (most recent call last)",
      "Cell \u001b[0;32mIn[17], line 12\u001b[0m\n\u001b[1;32m     10\u001b[0m z \u001b[39m=\u001b[39m r\u001b[39m*\u001b[39mcos(t)\n\u001b[1;32m     11\u001b[0m rr \u001b[39m=\u001b[39m Matrix(xyz)\n\u001b[0;32m---> 12\u001b[0m f \u001b[39m=\u001b[39m (x\u001b[39m+\u001b[39;49my\u001b[39m+\u001b[39;49mz)\u001b[39m.\u001b[39;49mdot(rr)\n\u001b[1;32m     13\u001b[0m G \u001b[39m=\u001b[39m gradient(f)\n\u001b[1;32m     14\u001b[0m display(f,G)\n",
      "\u001b[0;31mAttributeError\u001b[0m: 'Add' object has no attribute 'dot'"
     ]
    }
   ],
   "source": [
    "from sympy import *\n",
    "from sympy.vector import gradient,CoordSys3D\n",
    "from sympy.abc import x,y,z,r,t,p\n",
    "from sympy.vector.coordsysrect import CoordSys3D\n",
    "C = CoordSys3D ('C', vector_names=('e_x', 'e_y', 'e_z'))\n",
    "xyz = r*sin(t)*cos(p), r*sin(t)*sin(p), r*cos(t) == C.base_scalars()\n",
    "C = CoordSys3D ('C', transformation='spherical',vector_names=('e_r', 'e_t', 'e_p'))\n",
    "x = r*sin(t)*cos(p)\n",
    "y = r*sin(t)*sin(p)\n",
    "z = r*cos(t)\n",
    "rr = Matrix(xyz)\n",
    "f = (x+y+z).dot(rr)\n",
    "G = gradient(f)\n",
    "display(f,G)"
   ]
  },
  {
   "cell_type": "code",
   "execution_count": null,
   "metadata": {},
   "outputs": [
    {
     "name": "stdout",
     "output_type": "stream",
     "text": [
      "r*sin(p)*sin(t) + r*sin(t)*cos(p) + r*cos(t)\n",
      "e_r*r\n"
     ]
    },
    {
     "data": {
      "text/latex": [
       "$\\displaystyle \\frac{e_{p} \\left(- r \\sin{\\left(p \\right)} \\sin{\\left(t \\right)} + r \\sin{\\left(t \\right)} \\cos{\\left(p \\right)}\\right)}{r \\sin{\\left(p \\right)}} + e_{r} \\left(\\sin{\\left(p \\right)} \\sin{\\left(t \\right)} + \\sin{\\left(t \\right)} \\cos{\\left(p \\right)} + \\cos{\\left(t \\right)}\\right) + \\frac{e_{t} \\left(r \\sin{\\left(p \\right)} \\cos{\\left(t \\right)} - r \\sin{\\left(t \\right)} + r \\cos{\\left(p \\right)} \\cos{\\left(t \\right)}\\right)}{r}$"
      ],
      "text/plain": [
       "e_p*(-r*sin(p)*sin(t) + r*sin(t)*cos(p))/(r*sin(p)) + e_r*(sin(p)*sin(t) + sin(t)*cos(p) + cos(t)) + e_t*(r*sin(p)*cos(t) - r*sin(t) + r*cos(p)*cos(t))/r"
      ]
     },
     "metadata": {},
     "output_type": "display_data"
    }
   ],
   "source": [
    "from sympy import *\n",
    "from sympy.abc import x,y,z,r,t,p\n",
    "i,j,k=symbols(\"i,j,k\")\n",
    "er,et,ep=symbols(\"e_r,e_t,e_p\")\n",
    "x=r*sin(t)*cos(p)\n",
    "y=r*sin(t)*sin(p)\n",
    "z=r*cos(t)\n",
    "i=sin(t)*cos(p)*er+cos(t)*cos(p)*et-sin(p)*ep\n",
    "j=sin(t)*sin(p)*er+cos(t)*sin(p)*et+cos(p)*ep\n",
    "k=cos(t)*er-sin(t)*et\n",
    "f1=x+y+z\n",
    "f2=(x*i+y*j+z*k).simplify()\n",
    "print(f1)\n",
    "print(f2)\n",
    "def grad(f):\n",
    "    gdf=(diff(f,r)*er+(1/r)*diff(f,t)*et+(1/(r*sin(p)))*diff(f,p)*ep)\n",
    "    display(gdf)\n",
    "grad(f1)"
   ]
  },
  {
   "cell_type": "code",
   "execution_count": null,
   "metadata": {},
   "outputs": [
    {
     "name": "stdout",
     "output_type": "stream",
     "text": [
      "The funtion is r*(2*sin(p)*sin(t) + cos(t)) \n",
      "The gradient is 2*ep*cos(p) + er*(2*sin(p)*sin(t) + cos(t)) + et*(2*sin(p)*cos(t) - sin(t)) \n",
      "The laplacian is 0\n"
     ]
    }
   ],
   "source": [
    "from sympy import *\n",
    "x,y,z,r,t,p,er,et,ep=symbols('x y z r t p er et ep')\n",
    "F=x+y+z\n",
    "Fc=F.subs(x,r*sin(t)*sin(p)).subs(y,r*sin(t)*sin(p)).subs(z,r*cos(t))\n",
    "GradFc=diff(Fc,r)*er+diff(Fc,t)/r*et+diff(Fc,p)/(r*sin(t))*ep\n",
    "LapFc=diff(diff(Fc,r)*r**2,r)/r**2+diff(diff(Fc,t)*sin(t),t)/(r**2*sin(t))+diff(Fc,p,2)/(r*sin(t))**2\n",
    "print(\"The funtion is\",Fc.simplify(),\"\\nThe gradient is\",GradFc.simplify(),\"\\nThe laplacian is\",LapFc.simplify())\n"
   ]
  },
  {
   "cell_type": "code",
   "execution_count": null,
   "metadata": {},
   "outputs": [
    {
     "name": "stdout",
     "output_type": "stream",
     "text": [
      "The funtion is er*r \n",
      "The divergence is 3 \n",
      "The curl is 0\n"
     ]
    }
   ],
   "source": [
    "from sympy import *\n",
    "x,y,z,i,j,k,r,t,p,er,et,ep=symbols('x y z i j k r t p er et ep')\n",
    "f=x*i+y*j+z*k\n",
    "F=f.subs(x,r*sin(t)*cos(p)).subs(y,r*sin(t)*sin(p)).subs(z,r*cos(t))\n",
    "Fi=diff(F,i)*(sin(t)*cos(p)*er+cos(t)*cos(p)*et-sin(p)*ep)\n",
    "Fj=diff(F,j)*(sin(t)*sin(p)*er+cos(t)*sin(p)*et+cos(p)*ep)\n",
    "Fk=diff(F,k)*(cos(t)*er-sin(t)*et)\n",
    "Fc=(Fi+Fj+Fk).simplify()\n",
    "Fr=diff(Fc,er)\n",
    "Ft=diff(Fc,et)\n",
    "Fp=diff(Fc,ep)\n",
    "DivFc=diff(Fr*r**2,r)/r**2+diff(Ft*sin(t),t)/(r*sin(t))+diff(Fp,p)/(r*sin(t))\n",
    "CurlFc=(diff(Fp*r*sin(t),t)-diff(Ft*r,p))*er+(diff(Fr,p)-diff(Fp*r*sin(t),r))*r*et+(diff(Ft,p)-diff(Ft*r,r))*r*sin(t)*ep\n",
    "print(\"The funtion is\",Fc,\"\\nThe divergence is\",DivFc.simplify(),\"\\nThe curl is\",CurlFc.simplify())"
   ]
  },
  {
   "cell_type": "code",
   "execution_count": 55,
   "metadata": {},
   "outputs": [],
   "source": [
    "from sympy import *\n",
    "from sympy.vector import CoordSys3D,gradient,divergence,curl\n",
    "C = CoordSys3D ('C', vector_names=('e_x', 'e_y', 'e_z'))\n",
    "xyz = x, y, z = C.base_scalars()\n",
    "def grad(f):\n",
    "    G=gradient(f)\n",
    "    display(G)\n",
    "def div(f1,f2,f3):\n",
    "    F=f1*C.e_x+f2*C.e_y+f3*C.e_z\n",
    "    D=divergence(F)\n",
    "    display(D)\n",
    "def cur(f1,f2,f3):\n",
    "    F=f1*C.e_x+f2*C.e_y+f3*C.e_z\n",
    "    c=curl(F)\n",
    "    display(c)\n",
    "def lap(f):\n",
    "    G=gradient(f)\n",
    "    L=divergence(G)\n",
    "    display(L)"
   ]
  },
  {
   "cell_type": "code",
   "execution_count": 50,
   "metadata": {},
   "outputs": [
    {
     "data": {
      "text/latex": [
       "$\\displaystyle \\left(4 \\mathbf{{x}_{C}} \\mathbf{{y}_{C}}^{3} \\mathbf{{z}_{C}}\\right)\\mathbf{\\hat{e_x}_{C}} + \\left(6 \\mathbf{{x}_{C}}^{2} \\mathbf{{y}_{C}}^{2} \\mathbf{{z}_{C}}\\right)\\mathbf{\\hat{e_y}_{C}} + \\left(2 \\mathbf{{x}_{C}}^{2} \\mathbf{{y}_{C}}^{3}\\right)\\mathbf{\\hat{e_z}_{C}}$"
      ],
      "text/plain": [
       "4*C.x*C.y**3*C.z*C.e_x + 6*C.x**2*C.y**2*C.z*C.e_y + 2*C.x**2*C.y**3*C.e_z"
      ]
     },
     "metadata": {},
     "output_type": "display_data"
    },
    {
     "data": {
      "text/latex": [
       "$\\displaystyle \\left(6 \\mathbf{{x}_{C}}\\right)\\mathbf{\\hat{e_x}_{C}} + \\left(6 \\mathbf{{y}_{C}}^{2}\\right)\\mathbf{\\hat{e_y}_{C}} + \\left(-5\\right)\\mathbf{\\hat{e_z}_{C}}$"
      ],
      "text/plain": [
       "6*C.x*C.e_x + 6*C.y**2*C.e_y + (-5)*C.e_z"
      ]
     },
     "metadata": {},
     "output_type": "display_data"
    }
   ],
   "source": [
    "grad(2*(x**2)*(y**3)*z)\n",
    "grad(3*(x**2)+2*(y**3)-5*z)"
   ]
  },
  {
   "cell_type": "code",
   "execution_count": 52,
   "metadata": {},
   "outputs": [
    {
     "data": {
      "text/latex": [
       "$\\displaystyle 4 \\mathbf{{x}_{C}} \\mathbf{{y}_{C}} + 4 \\mathbf{{x}_{C}}$"
      ],
      "text/plain": [
       "4*C.x*C.y + 4*C.x"
      ]
     },
     "metadata": {},
     "output_type": "display_data"
    },
    {
     "data": {
      "text/latex": [
       "$\\displaystyle 3 \\mathbf{{x}_{C}}^{2} + 2 \\mathbf{{x}_{C}} \\mathbf{{z}_{C}} - \\mathbf{{y}_{C}}^{2} + \\mathbf{{y}_{C}} \\mathbf{{z}_{C}}$"
      ],
      "text/plain": [
       "3*C.x**2 + 2*C.x*C.z - C.y**2 + C.y*C.z"
      ]
     },
     "metadata": {},
     "output_type": "display_data"
    }
   ],
   "source": [
    "div(2*(x**2)*y,3*x,4*z*x)\n",
    "div(x*y*z,3*y*(x**2),(z**2)*x-z*(y**2))"
   ]
  },
  {
   "cell_type": "code",
   "execution_count": 53,
   "metadata": {},
   "outputs": [
    {
     "data": {
      "text/latex": [
       "$\\displaystyle \\mathbf{\\hat{0}}$"
      ],
      "text/plain": [
       "0"
      ]
     },
     "metadata": {},
     "output_type": "display_data"
    },
    {
     "data": {
      "text/latex": [
       "$\\displaystyle \\left(5 \\mathbf{{x}_{C}}\\right)\\mathbf{\\hat{e_x}_{C}} + \\left(- 2 \\mathbf{{y}_{C}}\\right)\\mathbf{\\hat{e_y}_{C}} + \\left(4 \\mathbf{{x}_{C}} - 3 \\mathbf{{z}_{C}}\\right)\\mathbf{\\hat{e_z}_{C}}$"
      ],
      "text/plain": [
       "5*C.x*C.e_x + (-2*C.y)*C.e_y + (4*C.x - 3*C.z)*C.e_z"
      ]
     },
     "metadata": {},
     "output_type": "display_data"
    }
   ],
   "source": [
    "cur((y**2)+(z**3),2*x*y-5*z,3*x*(z**2)-5*y)\n",
    "cur(3*y*z,2*(x**2),5*x*y)"
   ]
  },
  {
   "cell_type": "code",
   "execution_count": 54,
   "metadata": {},
   "outputs": [
    {
     "data": {
      "text/latex": [
       "$\\displaystyle 12 \\mathbf{{y}_{C}} + 6$"
      ],
      "text/plain": [
       "12*C.y + 6"
      ]
     },
     "metadata": {},
     "output_type": "display_data"
    },
    {
     "data": {
      "text/latex": [
       "$\\displaystyle 0$"
      ],
      "text/plain": [
       "0"
      ]
     },
     "metadata": {},
     "output_type": "display_data"
    }
   ],
   "source": [
    "lap(3*(x**2)+2*(y**3)-5*z)\n",
    "lap((x**2)-(y**2))"
   ]
  },
  {
   "cell_type": "code",
   "execution_count": 30,
   "metadata": {},
   "outputs": [
    {
     "data": {
      "text/latex": [
       "$\\displaystyle \\left[\\begin{matrix}\\cos{\\left(p \\right)} & \\sin{\\left(p \\right)} & 0\\\\- \\sin{\\left(p \\right)} & \\cos{\\left(p \\right)} & 0\\\\0 & 0 & 1\\end{matrix}\\right]$"
      ],
      "text/plain": [
       "Matrix([\n",
       "[ cos(p), sin(p), 0],\n",
       "[-sin(p), cos(p), 0],\n",
       "[      0,      0, 1]])"
      ]
     },
     "metadata": {},
     "output_type": "display_data"
    },
    {
     "data": {
      "text/plain": [
       "'def grad(f):\\n    F=x+y+z\\n    x=r*sin(t)*cos(p)\\n    y=r*sin(t)*sin(p)\\n    z=r*cos(t)\\n    display(F)\\n    G=gradient(F)\\n    display(G)\\ndef div(f1,f2,f3):\\n    F=f1*C.e_x+f2*C.e_y+f3*C.e_z\\n    D=divergence(F)\\n    display(D)\\ndef cur(f1,f2,f3):\\n    F=f1*C.e_x+f2*C.e_y+f3*C.e_z\\n    c=curl(F)\\n    display(c)\\ndef lap(f):\\n    G=gradient(f)\\n    L=divergence(G)\\n    display(L)'"
      ]
     },
     "execution_count": 30,
     "metadata": {},
     "output_type": "execute_result"
    }
   ],
   "source": [
    "from sympy import *\n",
    "from sympy.abc import r,t,p\n",
    "from sympy.vector import CoordSys3D,gradient,divergence,curl\n",
    "C = CoordSys3D ('C', vector_names=('e_x', 'e_y', 'e_z'))\n",
    "R = CoordSys3D('R',transformation='spherical', vector_names=('e_r', 'e_t', 'e_p'))\n",
    "'''C.e_x=(sin(t)*cos(p))*R.e_r + (cos(t)*cos(p))*R.e_t - (sin(p))*R.e_p\n",
    "C.e_y=(sin(t)*sin(p))*R.e_r + (cos(t)*sin(p))*R.e_t + (cos(p))*R.e_p\n",
    "C.e_z=(cos(t))*R.e_r - (sin(t))*R.e_t + (0)*R.e_p'''\n",
    "xyz = x, y, z = C.base_scalars()\n",
    "A= Matrix(xyz)\n",
    "T= Matrix([[cos(p),sin(p),0],[-sin(p),cos(p),0],[0,0,1]])\n",
    "display(T)\n",
    "\n",
    "'''def grad(f):\n",
    "    F=x+y+z\n",
    "    x=r*sin(t)*cos(p)\n",
    "    y=r*sin(t)*sin(p)\n",
    "    z=r*cos(t)\n",
    "    display(F)\n",
    "    G=gradient(F)\n",
    "    display(G)\n",
    "def div(f1,f2,f3):\n",
    "    F=f1*C.e_x+f2*C.e_y+f3*C.e_z\n",
    "    D=divergence(F)\n",
    "    display(D)\n",
    "def cur(f1,f2,f3):\n",
    "    F=f1*C.e_x+f2*C.e_y+f3*C.e_z\n",
    "    c=curl(F)\n",
    "    display(c)\n",
    "def lap(f):\n",
    "    G=gradient(f)\n",
    "    L=divergence(G)\n",
    "    display(L)'''"
   ]
  },
  {
   "cell_type": "code",
   "execution_count": 25,
   "metadata": {},
   "outputs": [
    {
     "ename": "NameError",
     "evalue": "name 'a' is not defined",
     "output_type": "error",
     "traceback": [
      "\u001b[0;31m---------------------------------------------------------------------------\u001b[0m",
      "\u001b[0;31mNameError\u001b[0m                                 Traceback (most recent call last)",
      "\u001b[1;32m/Users/priyanujkashyap/Documents/GitHub/sem5maths/Div,grad,curl,lap.ipynb Cell 18\u001b[0m line \u001b[0;36m1\n\u001b[0;32m----> <a href='vscode-notebook-cell:/Users/priyanujkashyap/Documents/GitHub/sem5maths/Div%2Cgrad%2Ccurl%2Clap.ipynb#X23sZmlsZQ%3D%3D?line=0'>1</a>\u001b[0m grad(a)\n",
      "\u001b[0;31mNameError\u001b[0m: name 'a' is not defined"
     ]
    }
   ],
   "source": [
    "grad(a)"
   ]
  },
  {
   "cell_type": "code",
   "execution_count": null,
   "metadata": {},
   "outputs": [],
   "source": []
  }
 ],
 "metadata": {
  "kernelspec": {
   "display_name": "base",
   "language": "python",
   "name": "python3"
  },
  "language_info": {
   "codemirror_mode": {
    "name": "ipython",
    "version": 3
   },
   "file_extension": ".py",
   "mimetype": "text/x-python",
   "name": "python",
   "nbconvert_exporter": "python",
   "pygments_lexer": "ipython3",
   "version": "3.10.12"
  },
  "orig_nbformat": 4
 },
 "nbformat": 4,
 "nbformat_minor": 2
}
