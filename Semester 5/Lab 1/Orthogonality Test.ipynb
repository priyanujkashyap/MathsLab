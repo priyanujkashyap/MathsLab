{
 "cells": [
  {
   "cell_type": "code",
   "execution_count": 4,
   "metadata": {},
   "outputs": [],
   "source": [
    "from sympy import *\n",
    "from sympy.abc import x,y\n",
    "\n",
    "def ot(u,v):\n",
    "    ux= u.diff(x).simplify()\n",
    "    uy= u.diff(y).simplify()\n",
    "    vx= v.diff(x).simplify()\n",
    "    vy= v.diff(y).simplify()\n",
    "    m1= (-ux/uy).simplify()\n",
    "    m2= (-vx/vy).simplify()\n",
    "    if (m1*m2).simplify()==-1:\n",
    "        print (\"The function is orthogonal\")\n",
    "    else:\n",
    "        print (\"The function is not orthogonal\")\n",
    "\n"
   ]
  },
  {
   "cell_type": "code",
   "execution_count": 5,
   "metadata": {},
   "outputs": [
    {
     "name": "stdout",
     "output_type": "stream",
     "text": [
      "The function is orthogonal\n"
     ]
    }
   ],
   "source": [
    "ot ((x**3)-3*x*(y**2),3*(x**2)*y-(y**3))"
   ]
  },
  {
   "cell_type": "code",
   "execution_count": 7,
   "metadata": {},
   "outputs": [
    {
     "name": "stdout",
     "output_type": "stream",
     "text": [
      "The function is orthogonal\n"
     ]
    }
   ],
   "source": [
    "ot (exp(-x)*(x*sin(y)-y*cos(y)),exp(-x)*(x*cos(y)+y*sin(y)))"
   ]
  },
  {
   "cell_type": "code",
   "execution_count": 8,
   "metadata": {},
   "outputs": [
    {
     "name": "stdout",
     "output_type": "stream",
     "text": [
      "The function is orthogonal\n"
     ]
    }
   ],
   "source": [
    "ot (exp(x)*cos(y),exp(x)*sin(y))"
   ]
  },
  {
   "cell_type": "code",
   "execution_count": 9,
   "metadata": {},
   "outputs": [
    {
     "name": "stdout",
     "output_type": "stream",
     "text": [
      "The function is orthogonal\n"
     ]
    }
   ],
   "source": [
    "ot (cos(x)*cosh(y),sin(x)*sinh(y))"
   ]
  }
 ],
 "metadata": {
  "kernelspec": {
   "display_name": "base",
   "language": "python",
   "name": "python3"
  },
  "language_info": {
   "codemirror_mode": {
    "name": "ipython",
    "version": 3
   },
   "file_extension": ".py",
   "mimetype": "text/x-python",
   "name": "python",
   "nbconvert_exporter": "python",
   "pygments_lexer": "ipython3",
   "version": "3.10.12"
  },
  "orig_nbformat": 4
 },
 "nbformat": 4,
 "nbformat_minor": 2
}
