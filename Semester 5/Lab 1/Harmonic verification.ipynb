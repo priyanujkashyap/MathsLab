{
 "cells": [
  {
   "cell_type": "code",
   "execution_count": 4,
   "metadata": {},
   "outputs": [],
   "source": [
    "from sympy import *\n",
    "from sympy.abc import x,y,r,t\n",
    "\n",
    "\n",
    "def cverf(u,v):\n",
    "    uf=diff(u,x,2)+diff(u,y,2)\n",
    "    vf=diff(v,x,2)+diff(v,y,2)\n",
    "    if uf == 0:\n",
    "        print('Real part is harmonic')\n",
    "    else:\n",
    "        print('Real part is not harmonic')\n",
    "    if vf == 0:\n",
    "        print('Imaginary part is harmonic')\n",
    "    else:\n",
    "        print('Imaginary part is not harmonic')\n",
    "    "
   ]
  },
  {
   "cell_type": "code",
   "execution_count": 5,
   "metadata": {},
   "outputs": [
    {
     "name": "stdout",
     "output_type": "stream",
     "text": [
      "Real part is harmonic\n",
      "Imaginary part is harmonic\n"
     ]
    }
   ],
   "source": [
    "cverf((x**3)-3*x*y**2,(-y**3+3*x**2*y))"
   ]
  },
  {
   "cell_type": "code",
   "execution_count": 6,
   "metadata": {},
   "outputs": [
    {
     "name": "stdout",
     "output_type": "stream",
     "text": [
      "Real part is harmonic\n",
      "Imaginary part is harmonic\n"
     ]
    }
   ],
   "source": [
    "cverf(sin(x)*cosh(y),cos(x)*sinh(y))"
   ]
  },
  {
   "cell_type": "code",
   "execution_count": 7,
   "metadata": {},
   "outputs": [],
   "source": [
    "def pverf(u,v):\n",
    "    ur=diff(u,r)\n",
    "    ur2=diff(u,r,2)\n",
    "    ut2=diff(u,t,2)\n",
    "    vr=diff(v,r)\n",
    "    vr2=diff(v,r,2)\n",
    "    vt2=diff(v,t,2)\n",
    "    uf=simplify(ur2+(1/r)*ur+(1/r**2)*ut2)\n",
    "    vf=simplify(vr2+(1/r)*vr+(1/r**2)*vt2)\n",
    "    if simplify(uf) == 0:\n",
    "        print('Real part is harmonic')\n",
    "    else:\n",
    "        print('Real part is not harmonic')\n",
    "    if simplify(vf) == 0:\n",
    "        print('Imaginary part is harmonic')\n",
    "    else:\n",
    "        print('Imaginary part is not harmonic')"
   ]
  },
  {
   "cell_type": "code",
   "execution_count": 8,
   "metadata": {},
   "outputs": [
    {
     "name": "stdout",
     "output_type": "stream",
     "text": [
      "Real part is harmonic\n",
      "Imaginary part is harmonic\n"
     ]
    }
   ],
   "source": [
    "pverf((r**2)*cos(2*t),(r**2)*sin(2*t))"
   ]
  },
  {
   "cell_type": "code",
   "execution_count": 9,
   "metadata": {},
   "outputs": [
    {
     "name": "stdout",
     "output_type": "stream",
     "text": [
      "Real part is harmonic\n",
      "Imaginary part is harmonic\n"
     ]
    }
   ],
   "source": [
    "pverf((1/r**2)*cos(2*t),(-1/r**2)*sin(2*t))"
   ]
  }
 ],
 "metadata": {
  "kernelspec": {
   "display_name": "base",
   "language": "python",
   "name": "python3"
  },
  "language_info": {
   "codemirror_mode": {
    "name": "ipython",
    "version": 3
   },
   "file_extension": ".py",
   "mimetype": "text/x-python",
   "name": "python",
   "nbconvert_exporter": "python",
   "pygments_lexer": "ipython3",
   "version": "3.10.12"
  },
  "orig_nbformat": 4
 },
 "nbformat": 4,
 "nbformat_minor": 2
}
