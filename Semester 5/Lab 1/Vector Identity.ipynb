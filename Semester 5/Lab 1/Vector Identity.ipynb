{
 "cells": [
  {
   "cell_type": "code",
   "execution_count": 3,
   "metadata": {},
   "outputs": [
    {
     "name": "stdout",
     "output_type": "stream",
     "text": [
      "i*(2*x + 1) + j*(2*y + 1) + k*(2*z + 1)\n",
      "i*(2*x + 1) + j*(2*y + 1) + k*(2*z + 1)\n",
      "grad(phi+psi)=grad(phi)+grad(psi) is verified\n"
     ]
    }
   ],
   "source": [
    "from sympy import *\n",
    "from sympy.abc import phi,psi,i,j,k,x,y,z \n",
    "phi=x+y+z\n",
    "psi=x**2+y**2+z**2\n",
    "sum=phi+psi \n",
    "a3=diff(sum,x)\n",
    "b3=diff(sum,y)\n",
    "c3=diff(sum,z)\n",
    "RHS=simplify(a3*i+b3*j+c3*k)\n",
    "print(RHS)\n",
    "a1=diff(phi,x)\n",
    "b1=diff(phi,y)\n",
    "c1=diff(phi,z)\n",
    "LHS1=a1*i+b1*j+c1*k\n",
    "#print(LHS1)\n",
    "a2=diff(psi,x)\n",
    "b2=diff(psi,y)\n",
    "c2=diff(psi,z)\n",
    "LHS2=a2*i+b2*j+c2*k\n",
    "#print(LHS2)\n",
    "p=simplify(LHS1+LHS2)\n",
    "p1=p.coeff(i)\n",
    "p2=p.coeff(j)\n",
    "p3=p.coeff(k)\n",
    "LHS=p1*i+p2*j+p3*k\n",
    "print(LHS)\n",
    "if LHS==RHS:\n",
    "    print(\"grad(phi+psi)=grad(phi)+grad(psi) is verified\")\n",
    "else:\n",
    "    print(\"grad(phi+psi)=grad(phi)+grad(psi)is not verified\")"
   ]
  },
  {
   "cell_type": "code",
   "execution_count": 6,
   "metadata": {},
   "outputs": [
    {
     "name": "stdout",
     "output_type": "stream",
     "text": [
      "2*x + 2*y + 2*z + 3\n",
      "2*x + 2*y + 2*z + 3\n",
      "div(f+g)=div(f)+div(g) is verified\n"
     ]
    }
   ],
   "source": [
    "from sympy import *\n",
    "from sympy.abc import phi,psi,i,j,k,x,y,z \n",
    "f=x*i+y*j+z*k\n",
    "g=(x**2)*i+(y**2)*j+(z**2)*k\n",
    "sum=f+g\n",
    "a3=diff(sum.coeff(i),x)\n",
    "b3=diff(sum.coeff(j),y)\n",
    "c3=diff(sum.coeff(k),z)\n",
    "RHS=simplify(a3+b3+c3)\n",
    "print(RHS)\n",
    "a1=diff(f.coeff(i),x)\n",
    "b1=diff(f.coeff(j),y)\n",
    "c1=diff(f.coeff(k),z)\n",
    "LHS1=a1+b1+c1\n",
    "#print(LHS1)\n",
    "a2=diff(g.coeff(i),x)\n",
    "b2=diff(g.coeff(j),y)\n",
    "c2=diff(g.coeff(k),z)\n",
    "LHS2=a2+b2+c2\n",
    "#print(LHS2)\n",
    "LHS=simplify(LHS1+LHS2)\n",
    "print(LHS)\n",
    "if LHS==RHS:\n",
    "    print(\"div(f+g)=div(f)+div(g) is verified\")\n",
    "else:\n",
    "    print(\"div(f+g)=div(f)+div(g) is not verified\")"
   ]
  },
  {
   "cell_type": "code",
   "execution_count": 8,
   "metadata": {},
   "outputs": [
    {
     "name": "stdout",
     "output_type": "stream",
     "text": [
      "0\n",
      "curl(f+g)=curl(f)+curl(g) is verified\n"
     ]
    }
   ],
   "source": [
    "from sympy import *\n",
    "from sympy.abc import phi,psi,i,j,k,x,y,z \n",
    "f=x*i+y*j+z*k\n",
    "g=(x**2)*i+(y**2)*j+(z**2)*k\n",
    "sum=f+g\n",
    "f1=sum.coeff(i)\n",
    "f2=sum.coeff(j)\n",
    "f3=sum.coeff(k)\n",
    "a=diff(f3,y)-diff(f2,z)\n",
    "b=-(diff(f3,x)-diff(f1,z))\n",
    "c=diff(f2,x)-diff(f1,y)\n",
    "LHS=a*i+b*j+c*k\n",
    "p1=f.coeff(i)\n",
    "p2=f.coeff(j)\n",
    "p3=f.coeff(k)\n",
    "a=diff(p3,y)-diff(p2,z)\n",
    "b=-(diff(p3,x)-diff(p1,z))\n",
    "c=diff(p2,x)-diff(p1,y)\n",
    "RHS1=a*i+b*j+c*k\n",
    "q1=g.coeff(i)\n",
    "q2=g.coeff(j)\n",
    "q3=g.coeff(k)\n",
    "l=diff(q3,y)-diff(q2,z)\n",
    "m=-(diff(q3,x)-diff(q1,z))\n",
    "n=diff(q2,x)-diff(q1,y)\n",
    "RHS2=l*i+m*j+n*k\n",
    "RHS=simplify(RHS1+RHS2)\n",
    "print(RHS)\n",
    "if LHS==RHS:\n",
    "    print(\"curl(f+g)=curl(f)+curl(g) is verified\")\n",
    "else:\n",
    "    print(\"curl(f+g)=curl(f)+curl(g) is not verified\")"
   ]
  },
  {
   "cell_type": "code",
   "execution_count": 6,
   "metadata": {},
   "outputs": [
    {
     "data": {
      "text/latex": [
       "$\\displaystyle \\left(2 \\mathbf{{x}_{C}} + 1\\right)\\mathbf{\\hat{e_x}_{C}} + \\left(2 \\mathbf{{y}_{C}} + 1\\right)\\mathbf{\\hat{e_y}_{C}} + \\left(2 \\mathbf{{z}_{C}} + 1\\right)\\mathbf{\\hat{e_z}_{C}}$"
      ],
      "text/plain": [
       "(2*C.x + 1)*C.e_x + (2*C.y + 1)*C.e_y + (2*C.z + 1)*C.e_z"
      ]
     },
     "metadata": {},
     "output_type": "display_data"
    },
    {
     "data": {
      "text/latex": [
       "$\\displaystyle \\left(2 \\mathbf{{x}_{C}} + 1\\right)\\mathbf{\\hat{e_x}_{C}} + \\left(2 \\mathbf{{y}_{C}} + 1\\right)\\mathbf{\\hat{e_y}_{C}} + \\left(2 \\mathbf{{z}_{C}} + 1\\right)\\mathbf{\\hat{e_z}_{C}}$"
      ],
      "text/plain": [
       "(2*C.x + 1)*C.e_x + (2*C.y + 1)*C.e_y + (2*C.z + 1)*C.e_z"
      ]
     },
     "metadata": {},
     "output_type": "display_data"
    },
    {
     "data": {
      "text/latex": [
       "$\\displaystyle 2 \\mathbf{{x}_{C}} + 2 \\mathbf{{y}_{C}} + 2 \\mathbf{{z}_{C}} + 3$"
      ],
      "text/plain": [
       "2*C.x + 2*C.y + 2*C.z + 3"
      ]
     },
     "metadata": {},
     "output_type": "display_data"
    },
    {
     "data": {
      "text/latex": [
       "$\\displaystyle 2 \\mathbf{{x}_{C}} + 2 \\mathbf{{y}_{C}} + 2 \\mathbf{{z}_{C}} + 3$"
      ],
      "text/plain": [
       "2*C.x + 2*C.y + 2*C.z + 3"
      ]
     },
     "metadata": {},
     "output_type": "display_data"
    },
    {
     "data": {
      "text/latex": [
       "$\\displaystyle \\mathbf{\\hat{0}}$"
      ],
      "text/plain": [
       "0"
      ]
     },
     "metadata": {},
     "output_type": "display_data"
    },
    {
     "data": {
      "text/latex": [
       "$\\displaystyle \\mathbf{\\hat{0}}$"
      ],
      "text/plain": [
       "0"
      ]
     },
     "metadata": {},
     "output_type": "display_data"
    },
    {
     "name": "stdout",
     "output_type": "stream",
     "text": [
      "Identity 1 is verified\n",
      "Identity 2 is verified\n",
      "Identity 3 is verified\n"
     ]
    }
   ],
   "source": [
    "from sympy import *\n",
    "from sympy.vector import CoordSys3D,gradient,divergence,curl\n",
    "C = CoordSys3D ('C', vector_names=('e_x', 'e_y', 'e_z'))\n",
    "xyz = x, y, z = C.base_scalars()\n",
    "f=x+y+z\n",
    "g=(x**2)+(y**2)+(z**2)\n",
    "F=x*C.e_x+y*C.e_y+z*C.e_z\n",
    "G=(x**2)*C.e_x+(y**2)*C.e_y+(z**2)*C.e_z\n",
    "G1=gradient(f+g)\n",
    "G2=gradient(f)+gradient(g)\n",
    "D1=divergence(F+G)\n",
    "D2=divergence(F)+divergence(G)\n",
    "C1=curl(F+G)\n",
    "C2=curl(F)+curl(G)\n",
    "display(G1,G2,D1,D2,C1,C2)\n",
    "if G1==G2:\n",
    "    pprint('Identity 1 is verified')\n",
    "if D1==D2:\n",
    "    pprint('Identity 2 is verified')\n",
    "if C1==C2:\n",
    "    pprint('Identity 3 is verified')"
   ]
  }
 ],
 "metadata": {
  "kernelspec": {
   "display_name": "base",
   "language": "python",
   "name": "python3"
  },
  "language_info": {
   "codemirror_mode": {
    "name": "ipython",
    "version": 3
   },
   "file_extension": ".py",
   "mimetype": "text/x-python",
   "name": "python",
   "nbconvert_exporter": "python",
   "pygments_lexer": "ipython3",
   "version": "3.10.12"
  },
  "orig_nbformat": 4
 },
 "nbformat": 4,
 "nbformat_minor": 2
}
