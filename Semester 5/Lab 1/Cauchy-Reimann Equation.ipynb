{
 "cells": [
  {
   "cell_type": "code",
   "execution_count": 28,
   "metadata": {},
   "outputs": [],
   "source": [
    "from sympy import *\n",
    "from sympy.abc import x,y,r,theta,c,p\n",
    "\n",
    "def cr(u,v,cood):\n",
    "    if cood==c:\n",
    "        ux= u.diff(x).simplify()\n",
    "        uy= u.diff(y).simplify()\n",
    "        vx= v.diff(x).simplify()\n",
    "        vy= v.diff(y).simplify()\n",
    "        if ux==vy and uy==-vx:\n",
    "            print(\"Analytical\")\n",
    "        else:\n",
    "            print(\"Not analytical\")\n",
    "    elif cood==p:\n",
    "        ur= u.diff(r).simplify()\n",
    "        ut= u.diff(theta).simplify()\n",
    "        vr= v.diff(r).simplify()\n",
    "        vt= v.diff(theta).simplify()\n",
    "        if ur==(1/r)*vt and ut==(-r)*vr:\n",
    "            print(\"Analytical\")\n",
    "        else:\n",
    "            print(\"Not analytical\")\n"
   ]
  },
  {
   "cell_type": "code",
   "execution_count": 29,
   "metadata": {},
   "outputs": [
    {
     "name": "stdout",
     "output_type": "stream",
     "text": [
      "Not analytical\n"
     ]
    }
   ],
   "source": [
    "cr (exp(y)*cos(x),exp(y)*sin(x),c)"
   ]
  },
  {
   "cell_type": "code",
   "execution_count": 30,
   "metadata": {},
   "outputs": [
    {
     "name": "stdout",
     "output_type": "stream",
     "text": [
      "Analytical\n"
     ]
    }
   ],
   "source": [
    "cr (log((x**2)+(y**2))/2,atan(y/x),c)"
   ]
  },
  {
   "cell_type": "code",
   "execution_count": 31,
   "metadata": {},
   "outputs": [
    {
     "name": "stdout",
     "output_type": "stream",
     "text": [
      "Not analytical\n"
     ]
    }
   ],
   "source": [
    "cr ((x**2-y**2)/(x**2+y**2),(2*x*y)/(x**2+y**2),c)"
   ]
  },
  {
   "cell_type": "code",
   "execution_count": 32,
   "metadata": {},
   "outputs": [
    {
     "name": "stdout",
     "output_type": "stream",
     "text": [
      "Analytical\n"
     ]
    }
   ],
   "source": [
    "cr (log(r),theta,p)"
   ]
  },
  {
   "cell_type": "code",
   "execution_count": 33,
   "metadata": {},
   "outputs": [
    {
     "name": "stdout",
     "output_type": "stream",
     "text": [
      "Not analytical\n"
     ]
    }
   ],
   "source": [
    "cr ((r+(1/r))*cos(theta),(r-(1/r))*sin(theta),p)"
   ]
  }
 ],
 "metadata": {
  "kernelspec": {
   "display_name": "base",
   "language": "python",
   "name": "python3"
  },
  "language_info": {
   "codemirror_mode": {
    "name": "ipython",
    "version": 3
   },
   "file_extension": ".py",
   "mimetype": "text/x-python",
   "name": "python",
   "nbconvert_exporter": "python",
   "pygments_lexer": "ipython3",
   "version": "3.10.12"
  },
  "orig_nbformat": 4
 },
 "nbformat": 4,
 "nbformat_minor": 2
}
