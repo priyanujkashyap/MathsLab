{
 "cells": [
  {
   "cell_type": "code",
   "execution_count": 59,
   "metadata": {},
   "outputs": [],
   "source": [
    "from sympy import *\n",
    "def CIT(f,g,n,c,r):    \n",
    "    z,i = symbols('z,i')\n",
    "    s=solve(g)\n",
    "    sp=s[0]\n",
    "    print('Singular point =',sp)\n",
    "    z1=z.subs(z,sp)\n",
    "    w=abs(z1-c)\n",
    "    if w<r:\n",
    "        print(sp,'lies inside the circle')\n",
    "        fd=diff(f,z,(n-1))\n",
    "        fa=fd.subs(z,sp)\n",
    "        ans=(2*pi*i*fa)/factorial(n-1)\n",
    "        print(\"By Cuachy's Intergral Theorem, the given integral =\",ans)\n",
    "    else:\n",
    "        print(sp,\"lies outside the cirlce \\nBy Cuachy's Intergral Theorem, the given integral =\",0)\n",
    "        "
   ]
  },
  {
   "cell_type": "code",
   "execution_count": 60,
   "metadata": {},
   "outputs": [
    {
     "name": "stdout",
     "output_type": "stream",
     "text": [
      "Singular point = 1\n",
      "1 lies inside the circle\n",
      "By Cuachy's Intergral Theorem, the given integral = 2*pi*i\n"
     ]
    }
   ],
   "source": [
    "CIT(z**2-z+1,z-1,1,0,2)"
   ]
  },
  {
   "cell_type": "code",
   "execution_count": 61,
   "metadata": {},
   "outputs": [
    {
     "name": "stdout",
     "output_type": "stream",
     "text": [
      "Singular point = 1\n",
      "1 lies outside the cirlce \n",
      "By Cuachy's Intergral Theorem, the given integral = 0\n"
     ]
    }
   ],
   "source": [
    "CIT(z**2-z+1,z-1,1,0,1/2)"
   ]
  },
  {
   "cell_type": "code",
   "execution_count": 62,
   "metadata": {},
   "outputs": [
    {
     "name": "stdout",
     "output_type": "stream",
     "text": [
      "Singular point = 1\n",
      "1 lies inside the circle\n",
      "By Cuachy's Intergral Theorem, the given integral = 2*pi*i\n"
     ]
    }
   ],
   "source": [
    "CIT(z**2-z+1,z-1,1,0,1.5)"
   ]
  },
  {
   "cell_type": "code",
   "execution_count": 63,
   "metadata": {},
   "outputs": [
    {
     "name": "stdout",
     "output_type": "stream",
     "text": [
      "Singular point = pi\n",
      "pi lies outside the cirlce \n",
      "By Cuachy's Intergral Theorem, the given integral = 0\n"
     ]
    }
   ],
   "source": [
    "CIT(sin(pi*z),z-pi,1,-2,1)"
   ]
  },
  {
   "cell_type": "code",
   "execution_count": 64,
   "metadata": {},
   "outputs": [
    {
     "name": "stdout",
     "output_type": "stream",
     "text": [
      "Singular point = 4\n",
      "4 lies inside the circle\n",
      "By Cuachy's Intergral Theorem, the given integral = 96*pi*i\n"
     ]
    }
   ],
   "source": [
    "CIT(z**3+1,(z-4)**2,2,2,3)"
   ]
  }
 ],
 "metadata": {
  "kernelspec": {
   "display_name": "base",
   "language": "python",
   "name": "python3"
  },
  "language_info": {
   "codemirror_mode": {
    "name": "ipython",
    "version": 3
   },
   "file_extension": ".py",
   "mimetype": "text/x-python",
   "name": "python",
   "nbconvert_exporter": "python",
   "pygments_lexer": "ipython3",
   "version": "3.10.12"
  },
  "orig_nbformat": 4
 },
 "nbformat": 4,
 "nbformat_minor": 2
}
