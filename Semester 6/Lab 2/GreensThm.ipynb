{
 "cells": [
  {
   "cell_type": "code",
   "execution_count": 2,
   "metadata": {},
   "outputs": [
    {
     "name": "stdout",
     "output_type": "stream",
     "text": [
      "LHS= 20\n",
      "RHS= 20\n",
      "Green's Theorem is verified\n"
     ]
    }
   ],
   "source": [
    "from sympy import *\n",
    "from sympy.abc import *\n",
    "def lhs(M,N,tx,ty,a,b):\n",
    "    M1=M.subs({x:tx,y:ty})\n",
    "    N1=N.subs({x:tx,y:ty})\n",
    "    dx=diff(tx,t).simplify()\n",
    "    dy=diff(ty,t).simplify()\n",
    "    F=simplify(M1*dx+N1*dy)\n",
    "    return simplify(integrate(F,(t,a,b)))\n",
    "def rhs(M,N,x0,x1,y0,y1):\n",
    "    dM=diff(M,y)\n",
    "    dN=diff(N,x)\n",
    "    F1=(dN-dM)\n",
    "    return simplify(integrate(F1,(x,x0,x1),(y,y0,y1)))\n",
    "L1=lhs(3*x**2-8*y**2,4*y-6*x*y,t,0,0,1)\n",
    "L2=lhs(3*x**2-8*y**2,4*y-6*x*y,1,t,0,2)\n",
    "L3=lhs(3*x**2-8*y**2,4*y-6*x*y,t,2,1,0)\n",
    "L4=lhs(3*x**2-8*y**2,4*y-6*x*y,0,t,2,0)\n",
    "A=L1+L2+L3+L4\n",
    "B=rhs(3*x**2-8*y**2,4*y-6*x*y,0,1,0,2)\n",
    "print(\"LHS=\",A)\n",
    "print(\"RHS=\",B)\n",
    "if A==B:\n",
    "    print(\"Green's Theorem is verified\")\n",
    "else:\n",
    "    print(\"Re-solve, error during manual solving\")     "
   ]
  }
 ],
 "metadata": {
  "kernelspec": {
   "display_name": "base",
   "language": "python",
   "name": "python3"
  },
  "language_info": {
   "codemirror_mode": {
    "name": "ipython",
    "version": 3
   },
   "file_extension": ".py",
   "mimetype": "text/x-python",
   "name": "python",
   "nbconvert_exporter": "python",
   "pygments_lexer": "ipython3",
   "version": "3.11.6"
  }
 },
 "nbformat": 4,
 "nbformat_minor": 2
}
