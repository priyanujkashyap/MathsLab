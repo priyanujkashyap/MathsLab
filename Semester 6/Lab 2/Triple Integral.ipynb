{
 "cells": [
  {
   "cell_type": "markdown",
   "metadata": {},
   "source": [
    "# Evaluating Triple Integrals\n",
    "- with constant limits\n",
    "- with variable limits\n",
    "\n",
    "### Definition\n",
    "Let the $f(x,y,z)$ be a continuous fraction defined on a cuboidal region $D=[a,b]\\times[c,d]\\times[e,h]$ then the triple integral over $D$ is given by $$\\iiint_{D}\\;f(x,y,z)\\;dV=\\int_{a}^{b}\\int_{c}^{d}\\int_{e}^{h}f(x,y,z)\\;dz\\;dy\\;dx$$ If the domain $D$ is more arbitrary then $$\\iiint_{D}\\;f(x,y,z)\\;dV=\\int_{a}^{b}\\int_{g_{1}(x)}^{g_{2}(x)}\\int_{h_{1}(x,y)}^{h_{2}(x,y)}f(x,y,z)\\;dz\\;dy\\;dx$$\n",
    "\n",
    "#### Evaluate the following\n",
    "1. $\\int_{0}^{1}\\int_{0}^{1}\\int_{0}^{1}\\;(x^{2}+y^{2}+z^{2})\\;dz\\;dy\\;dx$<br/><br/>\n",
    "2. $\\int_{1}^{e}\\int_{1}^{e^{2}}\\int_{1}^{e^{3}}\\;\\frac{1}{xyz}\\;dz\\;dy\\;dx$<br/><br/>\n",
    "3. $\\int_{0}^{1}\\int_{x}^{1}\\int_{0}^{y-x}\\;xz\\;dz\\;dy\\;dx$<br/><br/>\n",
    "4. $\\int_{0}^{1}\\int_{x^{2}}^{\\sqrt{x}}\\int_{0}^{x+y}\\;xy\\;dz\\;dy\\;dx$<br/><br/>"
   ]
  },
  {
   "cell_type": "code",
   "execution_count": 24,
   "metadata": {},
   "outputs": [],
   "source": [
    "from sympy import *\n",
    "x,y,z = symbols('x,y,z')\n",
    "\n",
    "def Int3(f, xo, x1, yo, y1, zo,z1):\n",
    "    return round(float(integrate(f,(z,zo,z1),(y,yo,y1),(x,xo,x1))),3) "
   ]
  },
  {
   "cell_type": "code",
   "execution_count": 25,
   "metadata": {},
   "outputs": [
    {
     "data": {
      "text/plain": [
       "1.0"
      ]
     },
     "execution_count": 25,
     "metadata": {},
     "output_type": "execute_result"
    }
   ],
   "source": [
    "Int3((x**2)+(y**2)+(z**2),0,1,0,1,0,1)"
   ]
  },
  {
   "cell_type": "code",
   "execution_count": 26,
   "metadata": {},
   "outputs": [
    {
     "data": {
      "text/plain": [
       "6.0"
      ]
     },
     "execution_count": 26,
     "metadata": {},
     "output_type": "execute_result"
    }
   ],
   "source": [
    "Int3(1/(x*y*z),1,exp(1),1,exp(2),1,exp(3))"
   ]
  },
  {
   "cell_type": "code",
   "execution_count": 27,
   "metadata": {},
   "outputs": [
    {
     "data": {
      "text/plain": [
       "0.008"
      ]
     },
     "execution_count": 27,
     "metadata": {},
     "output_type": "execute_result"
    }
   ],
   "source": [
    "Int3(x*z,0,1,x,1,0,(y-x))"
   ]
  },
  {
   "cell_type": "code",
   "execution_count": 28,
   "metadata": {},
   "outputs": [
    {
     "data": {
      "text/plain": [
       "0.107"
      ]
     },
     "execution_count": 28,
     "metadata": {},
     "output_type": "execute_result"
    }
   ],
   "source": [
    "Int3(x*y,0,1,(x**2),(x**(1/2)),0,(x+y))\n"
   ]
  }
 ],
 "metadata": {
  "kernelspec": {
   "display_name": "base",
   "language": "python",
   "name": "python3"
  },
  "language_info": {
   "codemirror_mode": {
    "name": "ipython",
    "version": 3
   },
   "file_extension": ".py",
   "mimetype": "text/x-python",
   "name": "python",
   "nbconvert_exporter": "python",
   "pygments_lexer": "ipython3",
   "version": "3.11.6"
  }
 },
 "nbformat": 4,
 "nbformat_minor": 2
}
