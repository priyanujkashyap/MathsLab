{
 "cells": [
  {
   "cell_type": "code",
   "execution_count": 23,
   "metadata": {},
   "outputs": [],
   "source": [
    "from sympy import *\n",
    "from sympy.abc import a,b,c,x,y,z\n",
    "from sympy.vector import CoordSys3D,divergence\n",
    "from numpy import dot\n",
    "\n",
    "C = CoordSys3D ('C', vector_names=('e_x', 'e_y', 'e_z'))\n",
    "xyz = x, y, z = C.base_scalars()\n",
    "\n",
    "def rhs(xo,x1,yo,y1,zo,z1,f):\n",
    "    F=f[0]*C.e_x+f[1]*C.e_y+f[2]*C.e_z\n",
    "    D=divergence(F)\n",
    "    return round(float(integrate(D,(z,zo,z1),(y,yo,y1),(x,xo,x1))),3)\n",
    "rhs(0,1,0,1,0,1,[x*y,y*z,x*z])\n",
    "\n",
    "def lhs(F,n,k,ao,a1,bo,b1):\n",
    "    f1=dot(F,n)\n",
    "    if n==[1,0,0] or n==[-1,0,0]:\n",
    "        f1=f1.subs(x,k)\n",
    "        return integrate(f1,(y,ao,a1),(z,bo,b1))\n",
    "    #elif\n",
    "\n",
    "\n",
    "\n",
    "\n",
    "\n"
   ]
  },
  {
   "cell_type": "code",
   "execution_count": 24,
   "metadata": {},
   "outputs": [
    {
     "name": "stdout",
     "output_type": "stream",
     "text": [
      "LHS=  a*b*c*(a + b + c) \t RHS=  a*b*c*(a + b + c)\n",
      "Gauss divergence theorem is verified\n"
     ]
    }
   ],
   "source": [
    "from sympy import *\n",
    "from sympy.abc import x,y,z,a,b,c\n",
    "def gauss(F1,F2,F3,x0,x1,y0,y1,z0,z1):\n",
    "    f=F1.diff(x)+F2.diff(y)+F3.diff(z)\n",
    "    rhs=simplify(integrate(f,(x,x0,x1),(y,y0,y1),(z,z0,z1)))\n",
    "    s1=integrate(-F1.subs({x:x0}),(y,y0,y1),(z,z0,z1))\n",
    "    s2=integrate(F1.subs({x:x1}),(y,y0,y1),(z,z0,z1))\n",
    "    s3=integrate(-F2.subs({y:y0}),(x,x0,x1),(z,z0,z1))\n",
    "    s4=integrate(F2.subs({y:y1}),(x,x0,x1),(z,z0,z1))\n",
    "    s5=integrate(-F3.subs({z:z0}),(y,y0,y1),(x,x0,x1))\n",
    "    s6=integrate(F3.subs({z:z1}),(y,y0,y1),(x,x0,x1))\n",
    "    lhs=simplify(s1+s2+s3+s4+s5+s6)\n",
    "    print(\"LHS= \",lhs,\"\\t\",\"RHS= \",rhs)\n",
    "    if lhs==rhs:\n",
    "        print(\"Gauss divergence theorem is verified\")\n",
    "    else:\n",
    "        print(\"Gauss divergence theorem is not verified\")\n",
    "    return\n",
    "gauss(x**2-y*z,y**2-x*z,z**2-y*x,0,a,0,b,0,c)"
   ]
  },
  {
   "cell_type": "code",
   "execution_count": 25,
   "metadata": {},
   "outputs": [
    {
     "name": "stdout",
     "output_type": "stream",
     "text": [
      "LHS=  3/2 \t RHS=  3/2\n",
      "Gauss divergence theorem is verified\n"
     ]
    }
   ],
   "source": [
    "gauss(x*y,y*z,x*z,0,1,0,1,0,1)\n"
   ]
  },
  {
   "cell_type": "code",
   "execution_count": null,
   "metadata": {},
   "outputs": [],
   "source": [
    "gauss()"
   ]
  }
 ],
 "metadata": {
  "kernelspec": {
   "display_name": "base",
   "language": "python",
   "name": "python3"
  },
  "language_info": {
   "codemirror_mode": {
    "name": "ipython",
    "version": 3
   },
   "file_extension": ".py",
   "mimetype": "text/x-python",
   "name": "python",
   "nbconvert_exporter": "python",
   "pygments_lexer": "ipython3",
   "version": "3.11.6"
  }
 },
 "nbformat": 4,
 "nbformat_minor": 2
}
