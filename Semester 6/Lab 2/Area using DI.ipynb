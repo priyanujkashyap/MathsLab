{
 "cells": [
  {
   "cell_type": "code",
   "execution_count": 24,
   "metadata": {},
   "outputs": [],
   "source": [
    "from sympy import *\n",
    "from sympy.vector import CoordSys3D,gradient,divergence,curl\n",
    "C = CoordSys3D ('C', vector_names=('e_x', 'e_y', 'e_z'))\n",
    "xyz = x, y, z = C.base_scalars()\n",
    "def grad(f):\n",
    "    return gradient(f)\n",
    "\n",
    "def sadi(f,n,xo,x1,yo,y1):\n",
    "    g= grad(f)\n",
    "    m= sqrt(g.dot(g))\n",
    "    d= abs(g.dot(n))\n",
    "    fn= m/d\n",
    "    if n==C.e_z:\n",
    "        return round(float(integrate(fn,(y,yo,y1),(x,xo,x1))),3)\n",
    "    elif n==C.e_x:\n",
    "        return round(float(integrate(fn,(y,yo,y1),(z,xo,x1))),3)\n",
    "\n",
    "\n"
   ]
  },
  {
   "cell_type": "code",
   "execution_count": 28,
   "metadata": {},
   "outputs": [
    {
     "name": "stdout",
     "output_type": "stream",
     "text": [
      "sqrt(4*C.x**2 + 4*C.y**2 + 1) 1\n"
     ]
    },
    {
     "data": {
      "text/plain": [
       "36.177"
      ]
     },
     "execution_count": 28,
     "metadata": {},
     "output_type": "execute_result"
    }
   ],
   "source": [
    "sadi(x**2+y**2-z,C.e_z,-2,2,-sqrt(4-x**2),sqrt(4-x**2))"
   ]
  },
  {
   "cell_type": "code",
   "execution_count": 27,
   "metadata": {},
   "outputs": [
    {
     "name": "stdout",
     "output_type": "stream",
     "text": [
      "sqrt(4*C.y**2 + 4*C.z**2 + 1) 1\n"
     ]
    },
    {
     "data": {
      "text/plain": [
       "5.33"
      ]
     },
     "execution_count": 27,
     "metadata": {},
     "output_type": "execute_result"
    }
   ],
   "source": [
    "sadi(y**2+z**2-1+x,C.e_x,-1,1,-sqrt(1-z**2),sqrt(1-z**2))"
   ]
  }
 ],
 "metadata": {
  "kernelspec": {
   "display_name": "base",
   "language": "python",
   "name": "python3"
  },
  "language_info": {
   "codemirror_mode": {
    "name": "ipython",
    "version": 3
   },
   "file_extension": ".py",
   "mimetype": "text/x-python",
   "name": "python",
   "nbconvert_exporter": "python",
   "pygments_lexer": "ipython3",
   "version": "3.11.6"
  }
 },
 "nbformat": 4,
 "nbformat_minor": 2
}
