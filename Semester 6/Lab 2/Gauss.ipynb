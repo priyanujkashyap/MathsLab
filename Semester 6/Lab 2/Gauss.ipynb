{
 "cells": [
  {
   "cell_type": "code",
   "execution_count": 1,
   "metadata": {},
   "outputs": [
    {
     "name": "stdout",
     "output_type": "stream",
     "text": [
      "LHS=  a*b*c*(a + b + c) \t RHS=  a*b*c*(a + b + c)\n",
      "Gauss divergence theorem is verified\n",
      "LHS= 20\n",
      "RHS= 20\n",
      "Green's Theorem is verified\n"
     ]
    }
   ],
   "source": [
    "from sympy import *\n",
    "from sympy.abc import x,y,z,a,b,c\n",
    "def gauss(F1,F2,F3,x0,x1,y0,y1,z0,z1):\n",
    "    f=F1.diff(x)+F2.diff(y)+F3.diff(z)\n",
    "    rhs=simplify(integrate(f,(x,x0,x1),(y,y0,y1),(z,z0,z1)))\n",
    "    s1=integrate(-F1.subs({x:x0}),(y,y0,y1),(z,z0,z1))\n",
    "    s2=integrate(F1.subs({x:x1}),(y,y0,y1),(z,z0,z1))\n",
    "    s3=integrate(-F2.subs({y:y0}),(x,x0,x1),(z,z0,z1))\n",
    "    s4=integrate(F2.subs({y:y1}),(x,x0,x1),(z,z0,z1))\n",
    "    s5=integrate(-F3.subs({z:z0}),(y,y0,y1),(x,x0,x1))\n",
    "    s6=integrate(F3.subs({z:z1}),(y,y0,y1),(x,x0,x1))\n",
    "    lhs=simplify(s1+s2+s3+s4+s5+s6)\n",
    "    print(\"LHS= \",lhs,\"\\t\",\"RHS= \",rhs)\n",
    "    if lhs==rhs:\n",
    "        print(\"Gauss divergence theorem is verified\")\n",
    "    else:\n",
    "        print(\"Gauss divergence theorem is not verified\")\n",
    "    return\n",
    "gauss(x**2-y*z,y**2-x*z,z**2-y*x,0,a,0,b,0,c)\n",
    "\n",
    "\n",
    "\n",
    "from sympy import *\n",
    "from sympy.abc import *\n",
    "def lhs(M,N,tx,ty,a,b):\n",
    "    M1=M.subs({x:tx,y:ty})\n",
    "    N1=N.subs({x:tx,y:ty})\n",
    "    dx=diff(tx,t).simplify()\n",
    "    dy=diff(ty,t).simplify()\n",
    "    F=simplify(M1*dx+N1*dy)\n",
    "    return simplify(integrate(F,(t,a,b)))\n",
    "def rhs(M,N,x0,x1,y0,y1):\n",
    "    dM=diff(M,y)\n",
    "    dN=diff(N,x)\n",
    "    F1=(dN-dM)\n",
    "    return simplify(integrate(F1,(x,x0,x1),(y,y0,y1)))\n",
    "L1=lhs(3*x**2-8*y**2,4*y-6*x*y,t,0,0,1)\n",
    "L2=lhs(3*x**2-8*y**2,4*y-6*x*y,1,t,0,2)\n",
    "L3=lhs(3*x**2-8*y**2,4*y-6*x*y,t,2,1,0)\n",
    "L4=lhs(3*x**2-8*y**2,4*y-6*x*y,0,t,2,0)\n",
    "A=L1+L2+L3+L4\n",
    "B=rhs(3*x**2-8*y**2,4*y-6*x*y,0,1,0,2)\n",
    "print(\"LHS=\",A)\n",
    "print(\"RHS=\",B)\n",
    "if A==B:\n",
    "    print(\"Green's Theorem is verified\")\n",
    "else:\n",
    "    print(\"Re-solve, error during manual solving\")     "
   ]
  }
 ],
 "metadata": {
  "kernelspec": {
   "display_name": "base",
   "language": "python",
   "name": "python3"
  },
  "language_info": {
   "codemirror_mode": {
    "name": "ipython",
    "version": 3
   },
   "file_extension": ".py",
   "mimetype": "text/x-python",
   "name": "python",
   "nbconvert_exporter": "python",
   "pygments_lexer": "ipython3",
   "version": "3.11.6"
  }
 },
 "nbformat": 4,
 "nbformat_minor": 2
}
