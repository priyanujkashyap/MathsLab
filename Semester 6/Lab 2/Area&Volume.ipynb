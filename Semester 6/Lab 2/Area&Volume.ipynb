{
 "cells": [
  {
   "cell_type": "code",
   "execution_count": 8,
   "metadata": {},
   "outputs": [],
   "source": [
    "from sympy import *\n",
    "x,y,n = symbols('x,y,n')\n",
    "\n",
    "def IntA(xo, x1, yo, y1, ao, a1, bo, b1):\n",
    "    if ao==n and bo==n and a1==n and b1==n:\n",
    "        return round((integrate(1,(x,xo,x1),(y,yo,y1))),3) \n",
    "    else: \n",
    "        return round(float((integrate(1,(x,xo,x1),(y,yo,y1)))+(integrate(1,(x,ao,a1),(y,bo,b1)))),3)"
   ]
  },
  {
   "cell_type": "code",
   "execution_count": 9,
   "metadata": {},
   "outputs": [
    {
     "data": {
      "text/latex": [
       "$\\displaystyle 10.5$"
      ],
      "text/plain": [
       "10.500"
      ]
     },
     "execution_count": 9,
     "metadata": {},
     "output_type": "execute_result"
    }
   ],
   "source": [
    "IntA(y-2, y**2, -2, 1, n, n, n, n)"
   ]
  },
  {
   "cell_type": "code",
   "execution_count": 10,
   "metadata": {},
   "outputs": [
    {
     "data": {
      "text/plain": [
       "1.5"
      ]
     },
     "execution_count": 10,
     "metadata": {},
     "output_type": "execute_result"
    }
   ],
   "source": [
    "IntA(y/2, 2*y, 0, 1, y/2, 3-y, 1, 2)"
   ]
  },
  {
   "cell_type": "code",
   "execution_count": 11,
   "metadata": {},
   "outputs": [
    {
     "data": {
      "text/latex": [
       "$\\displaystyle -6.114 + 6.283 i$"
      ],
      "text/plain": [
       "-6.114 + 6.283*I"
      ]
     },
     "execution_count": 11,
     "metadata": {},
     "output_type": "execute_result"
    }
   ],
   "source": [
    "IntA(1-y,log(y), -2, 1, n, n, n, n)"
   ]
  },
  {
   "cell_type": "code",
   "execution_count": null,
   "metadata": {},
   "outputs": [],
   "source": []
  }
 ],
 "metadata": {
  "kernelspec": {
   "display_name": "base",
   "language": "python",
   "name": "python3"
  },
  "language_info": {
   "codemirror_mode": {
    "name": "ipython",
    "version": 3
   },
   "file_extension": ".py",
   "mimetype": "text/x-python",
   "name": "python",
   "nbconvert_exporter": "python",
   "pygments_lexer": "ipython3",
   "version": "3.11.6"
  }
 },
 "nbformat": 4,
 "nbformat_minor": 2
}
