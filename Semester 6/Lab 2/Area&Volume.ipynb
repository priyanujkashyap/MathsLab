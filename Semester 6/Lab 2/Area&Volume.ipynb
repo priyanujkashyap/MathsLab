{
 "cells": [
  {
   "cell_type": "code",
   "execution_count": 117,
   "metadata": {},
   "outputs": [],
   "source": [
    "from sympy import *\n",
    "x,y,n,z = symbols('x,y,n,z')\n",
    "\n",
    "def IntA(xo, x1, yo, y1, ao, a1, bo, b1):\n",
    "    if ao==n and bo==n and a1==n and b1==n:\n",
    "        return round(float(integrate(1,(x,xo,x1),(y,yo,y1))),3) \n",
    "    else: \n",
    "        return round(float((integrate(1,(x,xo,x1),(y,yo,y1)))+(integrate(1,(x,ao,a1),(y,bo,b1)))),3)\n",
    "def IntV(xo, x1, yo, y1, zo,z1,n):\n",
    "    if n=='xyz':\n",
    "        return round(float(integrate(1,(x,xo,x1),(y,yo,y1),(z,zo,z1))),3)\n",
    "    elif n=='yxz':\n",
    "        return round(float(integrate(1,(y,yo,y1),(x,xo,x1),(z,zo,z1))),3)"
   ]
  },
  {
   "cell_type": "code",
   "execution_count": 118,
   "metadata": {},
   "outputs": [
    {
     "data": {
      "text/plain": [
       "4.5"
      ]
     },
     "execution_count": 118,
     "metadata": {},
     "output_type": "execute_result"
    }
   ],
   "source": [
    "IntA(y-2, -y**2, -2, 1, n, n, n, n)"
   ]
  },
  {
   "cell_type": "code",
   "execution_count": 119,
   "metadata": {},
   "outputs": [
    {
     "data": {
      "text/plain": [
       "0.886"
      ]
     },
     "execution_count": 119,
     "metadata": {},
     "output_type": "execute_result"
    }
   ],
   "source": [
    "IntA(1-y,log(y), 1, 2, n, n, n, n)"
   ]
  },
  {
   "cell_type": "code",
   "execution_count": 120,
   "metadata": {},
   "outputs": [
    {
     "data": {
      "text/plain": [
       "1.5"
      ]
     },
     "execution_count": 120,
     "metadata": {},
     "output_type": "execute_result"
    }
   ],
   "source": [
    "IntA(y/2, 2*y, 0, 1, y/2, 3-y, 1, 2)"
   ]
  },
  {
   "cell_type": "code",
   "execution_count": 121,
   "metadata": {},
   "outputs": [
    {
     "data": {
      "text/plain": [
       "0.667"
      ]
     },
     "execution_count": 121,
     "metadata": {},
     "output_type": "execute_result"
    }
   ],
   "source": [
    "IntV(0, 1-z, 0, 2-2*z, 0,1,'yxz')"
   ]
  },
  {
   "cell_type": "code",
   "execution_count": 122,
   "metadata": {},
   "outputs": [
    {
     "data": {
      "text/plain": [
       "6.667"
      ]
     },
     "execution_count": 122,
     "metadata": {},
     "output_type": "execute_result"
    }
   ],
   "source": [
    "IntV( 0, 4-y**2,0, 2-z, 0,2,'xyz')"
   ]
  }
 ],
 "metadata": {
  "kernelspec": {
   "display_name": "base",
   "language": "python",
   "name": "python3"
  },
  "language_info": {
   "codemirror_mode": {
    "name": "ipython",
    "version": 3
   },
   "file_extension": ".py",
   "mimetype": "text/x-python",
   "name": "python",
   "nbconvert_exporter": "python",
   "pygments_lexer": "ipython3",
   "version": "3.11.6"
  }
 },
 "nbformat": 4,
 "nbformat_minor": 2
}
