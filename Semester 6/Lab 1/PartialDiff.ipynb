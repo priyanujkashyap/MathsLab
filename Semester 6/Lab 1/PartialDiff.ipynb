{
 "cells": [
  {
   "cell_type": "code",
   "execution_count": 108,
   "metadata": {},
   "outputs": [],
   "source": [
    "from sympy import *\n",
    "x,y,a,b,p,q,u,z = symbols('x y a b p q u z')\n",
    "\n",
    "def t1(f):\n",
    "    z = a*x+b*y\n",
    "    f = f.subs(p,a).subs(q,b)\n",
    "    b1 = solve(f,b)\n",
    "    z1 = z.subs(b,b1[0])\n",
    "    display(z1)\n",
    "\n",
    "def t2(f):\n",
    "    z=Function('z')(u)\n",
    "    p1 = diff(z,u)\n",
    "    q1 = p1*a\n",
    "    f1 = f.subs(p,p1).subs(q,q1)\n",
    "    h = solve(f1,p1)[-1]\n",
    "    s = dsolve(h-p1).rhs.subs(u,x+a*y)\n",
    "    display(s)\n",
    "\n",
    "def t3(f1,f2):\n",
    "    r1 = solve(f1-a,p)[-1]\n",
    "    r2 = solve(f2-a,q)[-1]\n",
    "    z = integrate(r1,x)+integrate(r2,y)\n",
    "    display(z)\n",
    "\n",
    "def t4(z):\n",
    "    sol = z.subs(p,a).subs(q,b)\n",
    "    display(sol)\n",
    "\n"
   ]
  },
  {
   "cell_type": "code",
   "execution_count": 109,
   "metadata": {},
   "outputs": [
    {
     "data": {
      "text/latex": [
       "$\\displaystyle a x - y \\sqrt{1 - a^{2}}$"
      ],
      "text/plain": [
       "a*x - y*sqrt(1 - a**2)"
      ]
     },
     "metadata": {},
     "output_type": "display_data"
    },
    {
     "data": {
      "text/latex": [
       "$\\displaystyle a x + \\frac{y}{a}$"
      ],
      "text/plain": [
       "a*x + y/a"
      ]
     },
     "metadata": {},
     "output_type": "display_data"
    },
    {
     "data": {
      "text/latex": [
       "$\\displaystyle a x - \\frac{a y}{a + 1}$"
      ],
      "text/plain": [
       "a*x - a*y/(a + 1)"
      ]
     },
     "metadata": {},
     "output_type": "display_data"
    }
   ],
   "source": [
    "t1(p**2+q**2-1)\n",
    "t1(p*q-1)\n",
    "t1(p*q+p+q)"
   ]
  },
  {
   "cell_type": "code",
   "execution_count": 110,
   "metadata": {},
   "outputs": [
    {
     "data": {
      "text/latex": [
       "$\\displaystyle C_{1} + \\frac{\\left(a y + x\\right) \\sqrt{a z - a + 1}}{a}$"
      ],
      "text/plain": [
       "C1 + (a*y + x)*sqrt(a*z - a + 1)/a"
      ]
     },
     "metadata": {},
     "output_type": "display_data"
    },
    {
     "data": {
      "text/latex": [
       "$\\displaystyle C_{1} - \\frac{a y + x}{a}$"
      ],
      "text/plain": [
       "C1 - (a*y + x)/a"
      ]
     },
     "metadata": {},
     "output_type": "display_data"
    },
    {
     "data": {
      "text/latex": [
       "$\\displaystyle C_{1}$"
      ],
      "text/plain": [
       "C1"
      ]
     },
     "metadata": {},
     "output_type": "display_data"
    },
    {
     "data": {
      "text/latex": [
       "$\\displaystyle C_{1} - \\frac{\\sqrt{\\frac{1 - z^{2}}{a^{2} + 1}} \\left(a y + x\\right)}{z}$"
      ],
      "text/plain": [
       "C1 - sqrt((1 - z**2)/(a**2 + 1))*(a*y + x)/z"
      ]
     },
     "metadata": {},
     "output_type": "display_data"
    }
   ],
   "source": [
    "t2(p*(1-q**2)-q*(1-z))\n",
    "t2(p*(1+q))\n",
    "t2(p-q*z)\n",
    "t2(z**2*(p**2+q**2+1)-1)"
   ]
  },
  {
   "cell_type": "code",
   "execution_count": 111,
   "metadata": {},
   "outputs": [
    {
     "data": {
      "text/latex": [
       "$\\displaystyle a x + a y - \\frac{x^{2}}{2} - \\frac{y^{2}}{2}$"
      ],
      "text/plain": [
       "a*x + a*y - x**2/2 - y**2/2"
      ]
     },
     "metadata": {},
     "output_type": "display_data"
    },
    {
     "data": {
      "text/latex": [
       "$\\displaystyle a x + \\sin{\\left(x \\right)} + \\frac{\\sin{\\left(y \\right)}}{a}$"
      ],
      "text/plain": [
       "a*x + sin(x) + sin(y)/a"
      ]
     },
     "metadata": {},
     "output_type": "display_data"
    },
    {
     "data": {
      "text/latex": [
       "$\\displaystyle a x - a y - \\cos{\\left(x \\right)} - \\cos{\\left(y \\right)}$"
      ],
      "text/plain": [
       "a*x - a*y - cos(x) - cos(y)"
      ]
     },
     "metadata": {},
     "output_type": "display_data"
    }
   ],
   "source": [
    "t3(p+x,q+y)\n",
    "t3(p-cos(x),cos(y)/q)\n",
    "t3(p-sin(x),sin(y)-q)"
   ]
  },
  {
   "cell_type": "code",
   "execution_count": 112,
   "metadata": {},
   "outputs": [
    {
     "data": {
      "text/latex": [
       "$\\displaystyle a^{2} + a x + b^{2} + b x$"
      ],
      "text/plain": [
       "a**2 + a*x + b**2 + b*x"
      ]
     },
     "metadata": {},
     "output_type": "display_data"
    },
    {
     "data": {
      "text/latex": [
       "$\\displaystyle \\frac{a b}{a - b} + a x + b x$"
      ],
      "text/plain": [
       "a*b/(a - b) + a*x + b*x"
      ]
     },
     "metadata": {},
     "output_type": "display_data"
    },
    {
     "data": {
      "text/latex": [
       "$\\displaystyle a x + b y + \\log{\\left(a b \\right)}$"
      ],
      "text/plain": [
       "a*x + b*y + log(a*b)"
      ]
     },
     "metadata": {},
     "output_type": "display_data"
    }
   ],
   "source": [
    "t4(p*x+q*x+p**2+q**2)\n",
    "t4(p*x+q*x+(p*q)/(p-q))\n",
    "t4(p*x+q*y+log(p*q))"
   ]
  }
 ],
 "metadata": {
  "kernelspec": {
   "display_name": "base",
   "language": "python",
   "name": "python3"
  },
  "language_info": {
   "codemirror_mode": {
    "name": "ipython",
    "version": 3
   },
   "file_extension": ".py",
   "mimetype": "text/x-python",
   "name": "python",
   "nbconvert_exporter": "python",
   "pygments_lexer": "ipython3",
   "version": "3.11.6"
  }
 },
 "nbformat": 4,
 "nbformat_minor": 2
}
