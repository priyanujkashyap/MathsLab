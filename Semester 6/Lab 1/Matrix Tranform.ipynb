{
 "cells": [
  {
   "cell_type": "code",
   "execution_count": 18,
   "metadata": {},
   "outputs": [
    {
     "name": "stdout",
     "output_type": "stream",
     "text": [
      "[ 5 -1  2]\n",
      "[-2, 1.0, 0] [8, 6.0, 0] [0, 7.5, 1]\n"
     ]
    },
    {
     "data": {
      "text/plain": [
       "array([[ 8.5  ,  8.5  , -1.875],\n",
       "       [ 1.   ,  1.   , -2.75 ],\n",
       "       [-0.5  , -0.5  ,  1.875]])"
      ]
     },
     "metadata": {},
     "output_type": "display_data"
    }
   ],
   "source": [
    "import numpy as np\n",
    "from numpy import linalg as la\n",
    "\n",
    "def T(x,y,z):\n",
    "    return [x-y+z , 2*x+3*y-(1/2)*z, x+y-2*z]\n",
    "\n",
    "B1 = np.array([[-1,1,0],[5,-1,2],[1,2,1]])\n",
    "B2 = np.array([[1,1,0],[0,0,1],[1,5,2]])\n",
    "print(B1[1])\n",
    "\n",
    "w1 = T(-1,1,0)\n",
    "w2 = T(5,-1,2)\n",
    "w3 = T(1,2,1)\n",
    "print(w1,w2,w3)\n",
    "\n",
    "v1 = la.solve(B2.T,w1)\n",
    "v2 = la.solve(B2.T,w2)\n",
    "v3 = la.solve(B2.T,w3)\n",
    "M = np.array([v2,v2,v3])\n",
    "display(M.T)\n",
    "\n",
    "\n",
    "    "
   ]
  },
  {
   "cell_type": "code",
   "execution_count": 19,
   "metadata": {},
   "outputs": [
    {
     "name": "stdout",
     "output_type": "stream",
     "text": [
      "the specified basis for the domain space is\n",
      " [[-1  1  0]\n",
      " [ 5 -1  2]\n",
      " [ 1  2  1]]\n",
      "the specified basis for the co-domain space is\n",
      " [[1 1 0]\n",
      " [0 0 1]\n",
      " [1 5 2]]\n",
      "evaluating T at the vectors of basis B1 [-2, 1.0, 0] [8, 6.0, 0] [0, 7.5, 1]\n"
     ]
    },
    {
     "data": {
      "text/latex": [
       "$\\displaystyle \\left[\\begin{matrix}-2.75 & 8.5 & -1.875\\\\-1.5 & 1.0 & -2.75\\\\0.75 & -0.5 & 1.875\\end{matrix}\\right]$"
      ],
      "text/plain": [
       "Matrix([\n",
       "[-2.75,  8.5, -1.875],\n",
       "[ -1.5,  1.0,  -2.75],\n",
       "[ 0.75, -0.5,  1.875]])"
      ]
     },
     "metadata": {},
     "output_type": "display_data"
    }
   ],
   "source": [
    "from sympy import Matrix\n",
    "import numpy as np\n",
    "from numpy import linalg as la\n",
    "\n",
    "def T(x,y,z):\n",
    "    return [x-y+z , 2*x+3*y-(1/2)*z, x+y-2*z]\n",
    "\n",
    "def Mat(T,a1,a2,a3,b1,b2,b3):    \n",
    "    B1 = np.array([a1,a2,a3])\n",
    "    B2 = np.array([b1,b2,b3])\n",
    "    print(\"the specified basis for the domain space is\\n\",(B1))\n",
    "    print(\"the specified basis for the co-domain space is\\n\", B2)\n",
    "    \n",
    "    c1,c2,c3 = B1[0]\n",
    "    d1,d2,d3 = B1[1]\n",
    "    e1,e2,e3 = B1[2]\n",
    "\n",
    "    w1 = T(c1,c2,c3)\n",
    "    w2 = T(d1,d2,d3)\n",
    "    w3 = T(e1,e2,e3)\n",
    "    print(\"evaluating T at the vectors of basis B1\",w1,w2,w3)\n",
    "\n",
    "    v1 = la.solve(B2.T,w1)\n",
    "    v2 = la.solve(B2.T,w2)\n",
    "    v3 = la.solve(B2.T,w3)\n",
    "    M = np.array([v1,v2,v3])\n",
    "    display(Matrix(M.T))\n",
    "\n",
    "Mat(T,[-1,1,0],[5,-1,2],[1,2,1],[1,1,0],[0,0,1],[1,5,2])"
   ]
  },
  {
   "cell_type": "code",
   "execution_count": 20,
   "metadata": {},
   "outputs": [
    {
     "name": "stdout",
     "output_type": "stream",
     "text": [
      "the images of the ordered basis vectors in b1 under the transformation are  [2 4] [3 -5]\n",
      "the coordinate of the vector with respect to the b1 are x - 1 and x + y - 1\n",
      "the linear transformation of T is T(x,y)=  (5*x + 3*y - 5, -x - 5*y + 1)\n"
     ]
    }
   ],
   "source": [
    "from sympy import symbols,Matrix,solve\n",
    "import numpy as np\n",
    "\n",
    "a,c1,c2,x,y = symbols('a c1 c2 x y')\n",
    "A = Matrix([[2,3],[4,-5]])\n",
    "\n",
    "u1 = np.array([1,-1])\n",
    "u2 = np.array([1,1])\n",
    "v1 = np.array([1,0])\n",
    "v2 = np.array([0,1])\n",
    "\n",
    "T0 = [A[0,0]*v1,A[1,0]*v2]\n",
    "T1 = [A[0,1]*v1,A[1,1]*v2]\n",
    "\n",
    "sumT0 = T0[0]+T0[1]\n",
    "sumT1 = T1[0]+T1[1]\n",
    "print(\"the images of the ordered basis vectors in b1 under the transformation are \",sumT0,sumT1)\n",
    "\n",
    "\n",
    "eq = np.array([u1[0]*c1+u2[0*c2],u1[1]*c1+u2[1]*c2])\n",
    "p,q = eq[0], eq[1]\n",
    "a = solve((p-x,q-y),c1,c2,dict=True)\n",
    "c1,c2 = a[0][c1],a[0][c2]\n",
    "print(\"the coordinate of the vector with respect to the b1 are\",c1,\"and\",c2)\n",
    "\n",
    "t = sumT0*c1+sumT1*c2\n",
    "print(\"the linear transformation of T is T(x,y)= \",tuple(t))\n"
   ]
  }
 ],
 "metadata": {
  "kernelspec": {
   "display_name": "base",
   "language": "python",
   "name": "python3"
  },
  "language_info": {
   "codemirror_mode": {
    "name": "ipython",
    "version": 3
   },
   "file_extension": ".py",
   "mimetype": "text/x-python",
   "name": "python",
   "nbconvert_exporter": "python",
   "pygments_lexer": "ipython3",
   "version": "3.11.6"
  }
 },
 "nbformat": 4,
 "nbformat_minor": 2
}
