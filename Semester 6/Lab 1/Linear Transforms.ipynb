{
 "cells": [
  {
   "cell_type": "code",
   "execution_count": 78,
   "metadata": {},
   "outputs": [],
   "source": [
    "from sympy import symbols, expand\n",
    "import numpy as np\n",
    "\n",
    "def check_linear(T,n):\n",
    "    x=np.array(symbols(f'x:{n}'))\n",
    "    y=np.array(symbols(f'x:{n}'))\n",
    "    c=symbols('c')\n",
    "    \n",
    "    #compute lhs and rhs\n",
    "    lhs=T(c*x+y)\n",
    "    rhs=c*T(x)+T(y)\n",
    "    \n",
    "    #expand each coordinate to compare\n",
    "    lhs=[expand(i) for i in lhs]\n",
    "    print(f'T(cx+y)is:{lhs}.')\n",
    "    rhs=[expand(i) for i in rhs]\n",
    "    print(f'cT(x)+T(y) is: {rhs}.')\n",
    "    \n",
    "    if lhs==rhs:\n",
    "        print('And, T(cx+y)=cT(x)+t(y). So the given T is linear')\n",
    "        return True\n",
    "    else:\n",
    "        print('And, T(cx+y) is not equal to cT(x)+t(y). So the given T is not linear')\n",
    "        return False"
   ]
  },
  {
   "cell_type": "code",
   "execution_count": 79,
   "metadata": {},
   "outputs": [
    {
     "name": "stdout",
     "output_type": "stream",
     "text": [
      "T(cx+y)is:[c*x0 + x0, 2*c*x0 + c*x1 + 2*x0 + x1].\n",
      "cT(x)+T(y) is: [c*x0 + x0, 2*c*x0 + c*x1 + 2*x0 + x1].\n",
      "And, T(cx+y)=cT(x)+t(y). So the given T is linear\n"
     ]
    },
    {
     "data": {
      "text/plain": [
       "True"
      ]
     },
     "execution_count": 79,
     "metadata": {},
     "output_type": "execute_result"
    }
   ],
   "source": [
    "def T(x):\n",
    "    x1=x[0]\n",
    "    x2=x[1]\n",
    "    return np.array([x1,2*x1+x2])\n",
    "\n",
    "check_linear(T,2)"
   ]
  },
  {
   "cell_type": "code",
   "execution_count": 80,
   "metadata": {},
   "outputs": [
    {
     "name": "stdout",
     "output_type": "stream",
     "text": [
      "T(cx+y)is:[c*x0 - c*x1 + x0 - x1, 2*c*x2 + 2*x2, 1].\n",
      "cT(x)+T(y) is: [c*x0 - c*x1 + x0 - x1, 2*c*x2 + 2*x2, c + 1].\n",
      "And, T(cx+y) is not equal to cT(x)+t(y). So the given T is not linear\n"
     ]
    },
    {
     "data": {
      "text/plain": [
       "False"
      ]
     },
     "execution_count": 80,
     "metadata": {},
     "output_type": "execute_result"
    }
   ],
   "source": [
    "def T(x):\n",
    "    x1=x[0]\n",
    "    x2=x[1]\n",
    "    x3=x[2]\n",
    "    return np.array([x1-x2,2*x3,1])\n",
    "\n",
    "check_linear(T,3)"
   ]
  },
  {
   "cell_type": "code",
   "execution_count": 81,
   "metadata": {},
   "outputs": [
    {
     "name": "stdout",
     "output_type": "stream",
     "text": [
      "T(cx+y)is:[c*x1 + c*x2 + x1 + x2, c*x0 + c*x2 + x0 + x2, c*x0 + c*x1 + x0 + x1].\n",
      "cT(x)+T(y) is: [c*x1 + c*x2 + x1 + x2, c*x0 + c*x2 + x0 + x2, c*x0 + c*x1 + x0 + x1].\n",
      "And, T(cx+y)=cT(x)+t(y). So the given T is linear\n"
     ]
    },
    {
     "data": {
      "text/plain": [
       "True"
      ]
     },
     "execution_count": 81,
     "metadata": {},
     "output_type": "execute_result"
    }
   ],
   "source": [
    "def T(x):\n",
    "    x1=x[0]\n",
    "    x2=x[1]\n",
    "    x3=x[2]\n",
    "    return np.array([x2+x3,x1+x3,x1+x2])\n",
    "\n",
    "check_linear(T,3)"
   ]
  },
  {
   "cell_type": "code",
   "execution_count": 82,
   "metadata": {},
   "outputs": [
    {
     "name": "stdout",
     "output_type": "stream",
     "text": [
      "True\n"
     ]
    }
   ],
   "source": [
    "import numpy as np\n",
    "\n",
    "def is_linear_transformation(T, dim):\n",
    "    # Create identity matrix of dimension 'dim'\n",
    "    I = np.eye(dim)\n",
    "    \n",
    "    # Check linearity: T(u + v) = T(u) + T(v) and T(cu) = cT(u)\n",
    "    for i in range(dim):\n",
    "        for j in range(dim):\n",
    "            u = I[:, i]\n",
    "            v = I[:, j]\n",
    "            for c in range(-10,10):\n",
    "                if not np.allclose(T(u + v), T(u) + T(v)) or not np.allclose(T(c * u), c * T(u)):\n",
    "                    return False\n",
    "    return True\n",
    "\n",
    "# Define your transformation function\n",
    "def T(x):\n",
    "    x1=x[0]\n",
    "    x2=x[1]\n",
    "    x3=x[2]\n",
    "    return np.array([x2+x3,x1+x3,x1+x2])\n",
    "\n",
    "\n",
    "print(is_linear_transformation(T, 3))"
   ]
  }
 ],
 "metadata": {
  "kernelspec": {
   "display_name": "base",
   "language": "python",
   "name": "python3"
  },
  "language_info": {
   "codemirror_mode": {
    "name": "ipython",
    "version": 3
   },
   "file_extension": ".py",
   "mimetype": "text/x-python",
   "name": "python",
   "nbconvert_exporter": "python",
   "pygments_lexer": "ipython3",
   "version": "3.11.6"
  }
 },
 "nbformat": 4,
 "nbformat_minor": 2
}
