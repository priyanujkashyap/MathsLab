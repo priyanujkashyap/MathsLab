{
 "cells": [
  {
   "cell_type": "code",
   "execution_count": 3,
   "metadata": {},
   "outputs": [
    {
     "name": "stdout",
     "output_type": "stream",
     "text": [
      "{a0: 0, a1: 0, a2: 0, a3: 0}\n",
      "linear independent\n",
      "is a basis with dimension 4\n"
     ]
    }
   ],
   "source": [
    "import numpy as np\n",
    "import sympy as sp\n",
    "\n",
    "def basis(s,dim):\n",
    "    vari = sp.symbols(f'a:{len(s)}')\n",
    "    m = 0\n",
    "    for i, var in enumerate(vari):\n",
    "        m = m + var * s[i]\n",
    "    scalars = sp.solve(m, vari)\n",
    "    print(scalars)\n",
    "    flag=0\n",
    "    for i in scalars:\n",
    "        if scalars[i]!=0:\n",
    "            flag=1\n",
    "    if flag==1:\n",
    "        print('linear dependent hence not a basis')\n",
    "    else:\n",
    "        print('linear independent')\n",
    "        if len(scalars)==dim:\n",
    "            print('is a basis with dimension',dim)\n",
    "        else:\n",
    "            print('not a basis')\n",
    "s=np.array([(1,0,0,-1),(0,1,0,-1),(0,0,1,-1),(0,0,0,1)])\n",
    "basis(s,4)"
   ]
  },
  {
   "cell_type": "code",
   "execution_count": 4,
   "metadata": {},
   "outputs": [
    {
     "name": "stdout",
     "output_type": "stream",
     "text": [
      "{a0: 0, a1: 0, a2: 0}\n",
      "linear independent\n",
      "not a basis\n"
     ]
    }
   ],
   "source": [
    "x=sp.symbols('x')\n",
    "s=np.array([1+x+x**2,x+x**2,x**2])\n",
    "basis(s,4)"
   ]
  }
 ],
 "metadata": {
  "kernelspec": {
   "display_name": "base",
   "language": "python",
   "name": "python3"
  },
  "language_info": {
   "codemirror_mode": {
    "name": "ipython",
    "version": 3
   },
   "file_extension": ".py",
   "mimetype": "text/x-python",
   "name": "python",
   "nbconvert_exporter": "python",
   "pygments_lexer": "ipython3",
   "version": "3.11.6"
  }
 },
 "nbformat": 4,
 "nbformat_minor": 2
}
