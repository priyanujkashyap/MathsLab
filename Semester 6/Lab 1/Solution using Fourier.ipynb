{
 "cells": [
  {
   "cell_type": "code",
   "execution_count": 29,
   "metadata": {},
   "outputs": [],
   "source": [
    "from sympy import *\n",
    "from sympy.abc import x,t\n",
    "def wave(c,l,f,g):\n",
    "    sol=0\n",
    "    for n in range(1,4):\n",
    "        fn=(2/l)*integrate(f*sin(n*pi*x/l),(x,0,l))\n",
    "        en=(2/(n*pi*c))*integrate(g*sin(n*pi*x/l),(x,0,l))\n",
    "        sol=sol+(fn*cos(n*pi*c*t/l)+en*sin(n*pi*c*t/l))*sin(n*pi*x/l)\n",
    "    print(\"the sol is\")\n",
    "    display(sol)"
   ]
  },
  {
   "cell_type": "code",
   "execution_count": 30,
   "metadata": {},
   "outputs": [
    {
     "name": "stdout",
     "output_type": "stream",
     "text": [
      "the sol is\n"
     ]
    },
    {
     "data": {
      "text/latex": [
       "$\\displaystyle 0.75 \\sin{\\left(\\frac{\\pi x}{2} \\right)} \\cos{\\left(\\frac{\\pi t}{2} \\right)} - 0.25 \\sin{\\left(\\frac{3 \\pi x}{2} \\right)} \\cos{\\left(\\frac{3 \\pi t}{2} \\right)}$"
      ],
      "text/plain": [
       "0.75*sin(pi*x/2)*cos(pi*t/2) - 0.25*sin(3*pi*x/2)*cos(3*pi*t/2)"
      ]
     },
     "metadata": {},
     "output_type": "display_data"
    }
   ],
   "source": [
    "wave(1,2,sin(pi*x/2)**3,0)"
   ]
  },
  {
   "cell_type": "code",
   "execution_count": 31,
   "metadata": {},
   "outputs": [
    {
     "name": "stdout",
     "output_type": "stream",
     "text": [
      "the sol is\n"
     ]
    },
    {
     "data": {
      "text/latex": [
       "$\\displaystyle \\sin{\\left(x \\right)} \\cos{\\left(t \\right)}$"
      ],
      "text/plain": [
       "sin(x)*cos(t)"
      ]
     },
     "metadata": {},
     "output_type": "display_data"
    }
   ],
   "source": [
    "wave(1,pi,sin(x),0)"
   ]
  }
 ],
 "metadata": {
  "kernelspec": {
   "display_name": "base",
   "language": "python",
   "name": "python3"
  },
  "language_info": {
   "codemirror_mode": {
    "name": "ipython",
    "version": 3
   },
   "file_extension": ".py",
   "mimetype": "text/x-python",
   "name": "python",
   "nbconvert_exporter": "python",
   "pygments_lexer": "ipython3",
   "version": "3.11.6"
  }
 },
 "nbformat": 4,
 "nbformat_minor": 2
}
