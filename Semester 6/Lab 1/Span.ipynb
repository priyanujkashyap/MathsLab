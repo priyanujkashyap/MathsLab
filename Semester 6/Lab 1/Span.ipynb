{
 "cells": [
  {
   "cell_type": "code",
   "execution_count": 1,
   "metadata": {},
   "outputs": [
    {
     "name": "stdout",
     "output_type": "stream",
     "text": [
      "is in span\n",
      "scalars are {a0: 1, a1: -1}\n"
     ]
    }
   ],
   "source": [
    "import numpy as np\n",
    "import sympy as sp\n",
    "\n",
    "def span(v, s):\n",
    "    variables = sp.symbols(f'a:{len(s)}')\n",
    "    m = -v\n",
    "    for i, var in enumerate(variables):\n",
    "        m = m + var * s[i]\n",
    "    scalars = sp.solve(m, variables)\n",
    "    if len(scalars) == 0:\n",
    "        print('not in span')\n",
    "        return False\n",
    "    else:\n",
    "        print('is in span')\n",
    "        print('scalars are', scalars)\n",
    "    return \n",
    "\n",
    "v = np.array([2, -1, 1])\n",
    "s = np.array([(1, 0, 2), (-1, 1, 1)])\n",
    "span(v, s)"
   ]
  },
  {
   "cell_type": "code",
   "execution_count": 2,
   "metadata": {},
   "outputs": [
    {
     "name": "stdout",
     "output_type": "stream",
     "text": [
      "is in span\n",
      "scalars are {a0: 3, a1: 4, a2: -2}\n"
     ]
    }
   ],
   "source": [
    "v=sp.Matrix([[1,2],[-3,4]])\n",
    "ao=[[1,0],[-1,0]]\n",
    "a1=[[0,1],[0,1]]\n",
    "a2=[[1,1],[0,0]]\n",
    "s=np.array([ao,a1,a2])\n",
    "span (v,s)"
   ]
  }
 ],
 "metadata": {
  "kernelspec": {
   "display_name": "Python 3 (ipykernel)",
   "language": "python",
   "name": "python3"
  },
  "language_info": {
   "codemirror_mode": {
    "name": "ipython",
    "version": 3
   },
   "file_extension": ".py",
   "mimetype": "text/x-python",
   "name": "python",
   "nbconvert_exporter": "python",
   "pygments_lexer": "ipython3",
   "version": "3.11.6"
  }
 },
 "nbformat": 4,
 "nbformat_minor": 4
}
