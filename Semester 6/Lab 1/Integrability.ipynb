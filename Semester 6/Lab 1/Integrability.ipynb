{
 "cells": [
  {
   "cell_type": "code",
   "execution_count": 1,
   "metadata": {},
   "outputs": [],
   "source": [
    "from sympy import *\n",
    "from sympy.abc import x,y,z\n",
    "\n",
    "def integCheck(P,Q,R):\n",
    "    ans=P*(diff(Q,z)-diff(R,y))+Q*(diff(R,x)-diff(P,z))+R*(diff(P,y)-diff(Q,x))\n",
    "    if not ans. simplify():\n",
    "        print(\"The equation is integrable\")\n",
    "    else:\n",
    "        print(\"The equation is not integrable\")"
   ]
  },
  {
   "cell_type": "code",
   "execution_count": 2,
   "metadata": {},
   "outputs": [
    {
     "name": "stdout",
     "output_type": "stream",
     "text": [
      "The equation is integrable\n",
      "The equation is integrable\n",
      "The equation is integrable\n",
      "The equation is integrable\n",
      "The equation is integrable\n",
      "The equation is integrable\n",
      "The equation is integrable\n",
      "The equation is not integrable\n"
     ]
    }
   ],
   "source": [
    "integCheck(y+z,x+z,x+y)\n",
    "integCheck(y*z,2*x*z,-3*x*y)\n",
    "integCheck(y**2,(x+z)**2,y**2)\n",
    "integCheck(3*x**2,3*y**2,-x**3-y**3-exp(2*z))\n",
    "integCheck(2*x**2+2*x*y+2*x*z**2+1,1,2*z)\n",
    "integCheck(x**2+y**2+z**2, -2*x*y, -2*x*z)\n",
    "integCheck(y*z*log(z), -z*x*log(z), x*y)\n",
    "integCheck(y*(1+z**2),-x*(1+x**2),x**2+y**2)"
   ]
  }
 ],
 "metadata": {
  "kernelspec": {
   "display_name": "base",
   "language": "python",
   "name": "python3"
  },
  "language_info": {
   "codemirror_mode": {
    "name": "ipython",
    "version": 3
   },
   "file_extension": ".py",
   "mimetype": "text/x-python",
   "name": "python",
   "nbconvert_exporter": "python",
   "pygments_lexer": "ipython3",
   "version": "3.11.6"
  }
 },
 "nbformat": 4,
 "nbformat_minor": 2
}
