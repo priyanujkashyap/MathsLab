{
 "cells": [
  {
   "cell_type": "code",
   "execution_count": 1,
   "metadata": {},
   "outputs": [
    {
     "name": "stdout",
     "output_type": "stream",
     "text": [
      "The Root is 2.0946\n"
     ]
    }
   ],
   "source": [
    "from sympy import *\n",
    "from math import *\n",
    "x=Symbol('x')\n",
    "y=Function('y')('x')\n",
    "def y(x):\n",
    "    return x**3-(2*x)-5\n",
    "a=2\n",
    "b=3\n",
    "while((b-a)>=0.00001):\n",
    "    c=(a+b)/2\n",
    "    fc=y(c)\n",
    "    if fc>0:\n",
    "        b=c\n",
    "    elif fc<0:\n",
    "        a=c\n",
    "    else:\n",
    "        break\n",
    "print(\"The Root is\", round(c,4))"
   ]
  },
  {
   "cell_type": "code",
   "execution_count": 2,
   "metadata": {},
   "outputs": [
    {
     "name": "stdout",
     "output_type": "stream",
     "text": [
      "===========================\n",
      " 2        2\n",
      "n ⋅(n + 1) \n",
      "───────────\n",
      "     n!    \n",
      "Convergent by D'Alembert\n",
      "Convergent by Raabe\n",
      "Cauchy fails\n",
      "===========================\n"
     ]
    }
   ],
   "source": [
    "from math import *\n",
    "from numpy import *\n",
    "from sympy import *\n",
    "from sympy.abc import n\n",
    "\n",
    "def D(y,yy):\n",
    "    l=limit(yy/y,n,inf)\n",
    "    if l>1:\n",
    "        print(\"Divergent by D'Alembert\")\n",
    "    elif l<1:\n",
    "        print(\"Convergent by D'Alembert\")\n",
    "    else:\n",
    "        print (\"D'Alembert fails\")\n",
    "def R(y,yy):\n",
    "    l=limit((y/yy-1)*n,n,inf)        \n",
    "    if l<1: \n",
    "        print(\"Divergent by Raabe\")\n",
    "    elif l>1:\n",
    "        print(\"Convergent by Raabe\")\n",
    "    else:\n",
    "        print (\"Raabe fails\")\n",
    "def C(y,yy):\n",
    "    l=limit(y**(1/n),n,inf)\n",
    "    if l>1:\n",
    "        print(\"Divergent by Cauchy\")\n",
    "    elif l<1:\n",
    "        print(\"Convergent by Cauchy\")\n",
    "    else:\n",
    "        print (\"Cauchy fails\")\n",
    "\n",
    "def Test(y,yy): \n",
    "    print(\"===========================\")\n",
    "    pprint(y)\n",
    "    D(y,yy)\n",
    "    R(y,yy)\n",
    "    C(y,yy)\n",
    "    print(\"===========================\")\n",
    "y=((n**2)*(n+1)**2)/factorial(n)\n",
    "yy=y.subs({n:n+1}).doit()    \n",
    "Test(y, yy)\n"
   ]
  },
  {
   "cell_type": "code",
   "execution_count": 3,
   "metadata": {},
   "outputs": [
    {
     "name": "stdout",
     "output_type": "stream",
     "text": [
      "The Root is 0.8526\n"
     ]
    }
   ],
   "source": [
    "from sympy import *\n",
    "from math import *\n",
    "x=Symbol('x')\n",
    "y=Function('y')('x')\n",
    "def y(x):\n",
    "    return x*exp(x)-2\n",
    "a=0\n",
    "b=1\n",
    "while((b-a)>=0.00001):\n",
    "    c=(a+b)/2\n",
    "    fc=y(c)\n",
    "    if fc>0:\n",
    "        b=c\n",
    "    elif fc<0:\n",
    "        a=c\n",
    "    else:\n",
    "        break\n",
    "print(\"The Root is\", round(c,4))"
   ]
  },
  {
   "cell_type": "code",
   "execution_count": 4,
   "metadata": {},
   "outputs": [
    {
     "name": "stdout",
     "output_type": "stream",
     "text": [
      "The root is 2.09455\n"
     ]
    }
   ],
   "source": [
    "from sympy import *\n",
    "import numpy\n",
    "x = Symbol('x')\n",
    "y = Function('y')('x')\n",
    "y = (x**3)-2*x-5\n",
    "dy = Derivative(y,x)\n",
    "a = 2\n",
    "r = 0\n",
    "flag = True\n",
    "while flag:\n",
    "    fa = float(y.subs({x:a}))\n",
    "    fd = float(dy.subs({x:a}))\n",
    "    b=a-(fa/fd)\n",
    "    if (round(b,4)==r):\n",
    "        flag = False\n",
    "        break\n",
    "    r = round(b,4)\n",
    "    a = b\n",
    "print(\"The root is\", round(b,5))"
   ]
  },
  {
   "cell_type": "code",
   "execution_count": 5,
   "metadata": {},
   "outputs": [
    {
     "name": "stdout",
     "output_type": "stream",
     "text": [
      "The root is 0.85261\n"
     ]
    }
   ],
   "source": [
    "from sympy import *\n",
    "import numpy\n",
    "x = Symbol('x')\n",
    "y = Function('y')('x')\n",
    "y = x*exp(x)-2\n",
    "dy = Derivative(y,x)\n",
    "a = 0.9\n",
    "r = 0\n",
    "flag = True\n",
    "while flag:\n",
    "    fa = float(y.subs({x:a}))\n",
    "    fd = float(dy.subs({x:a}))\n",
    "    b=a-(fa/fd)\n",
    "    if (round(b,4)==r):\n",
    "        flag = False\n",
    "        break\n",
    "    r = round(b,4)\n",
    "    a = b\n",
    "print(\"The root is\", round(b,5))"
   ]
  },
  {
   "cell_type": "code",
   "execution_count": 6,
   "metadata": {},
   "outputs": [
    {
     "name": "stdout",
     "output_type": "stream",
     "text": [
      "45\t0.7071\t0.05890000000000006\t-0.005700000000000038\t-0.0007000000000000339\t\n",
      "\n",
      "50\t0.766\t0.053200000000000025\t-0.006400000000000072\t\n",
      "\n",
      "55\t0.8192\t0.04679999999999995\t\n",
      "\n",
      "60\t0.866\t\n",
      "\n",
      "The value of function at x = 52 is 0.788\n"
     ]
    }
   ],
   "source": [
    "from sympy import *\n",
    "def forward (x,y,xp):\n",
    "    t = [y]\n",
    "    n = len(y)\n",
    "    for i in range(1,n):\n",
    "        t_in = []\n",
    "        for j in range(n-i):\n",
    "            t_in.append(t[i-1][j+1]-t[i-1][j])\n",
    "        t.append(t_in)\n",
    "    for i in range (n):\n",
    "        print(x[i],end='\\t')\n",
    "        for j in range (n-i):\n",
    "            print(t[j][i], end = '\\t')\n",
    "        print('\\n')\n",
    "    s = y[0]    \n",
    "    ncp = 1\n",
    "    p = (xp-x[0])/(x[1]-x[0])\n",
    "    for i in range (1,n):\n",
    "        ncp = ncp*(p-(i-1))/i\n",
    "        s = s+ncp*t[i][0]\n",
    "    print(\"The value of function at x =\",x1,\"is\",round(s,4))\n",
    "x = [45,50,55,60]\n",
    "y = [0.7071,0.766,0.8192,0.866]\n",
    "x1 = 52\n",
    "forward(x,y,x1)\n",
    "    \n",
    "        "
   ]
  },
  {
   "cell_type": "code",
   "execution_count": 7,
   "metadata": {},
   "outputs": [
    {
     "name": "stdout",
     "output_type": "stream",
     "text": [
      "1\t24\t96\t120\t48\t\n",
      "\n",
      "3\t120\t216\t168\t\n",
      "\n",
      "5\t336\t384\t\n",
      "\n",
      "7\t720\t\n",
      "\n",
      "The value of function at x = 1.5 is 39.375\n"
     ]
    }
   ],
   "source": [
    "x = [1,3,5,7]\n",
    "y = [24,120,336,720]\n",
    "x1 = 1.5\n",
    "forward(x,y,x1)"
   ]
  },
  {
   "cell_type": "code",
   "execution_count": 8,
   "metadata": {},
   "outputs": [
    {
     "name": "stdout",
     "output_type": "stream",
     "text": [
      "The lagrange polynomial is x**3/20 - 7*x**2/6 + 557*x/60 - 23/2\n",
      "The value of the function at 10 is 14.666666666666666\n"
     ]
    }
   ],
   "source": [
    "def lagrange(xdata,ydata,xp):\n",
    "    from sympy.abc import x \n",
    "    n = len(xdata)\n",
    "    pts=[(xdata[i],ydata[i]) for i in range(n)]\n",
    "    s=0\n",
    "    for i in range(n):\n",
    "        p = 1\n",
    "        for j in range(n):\n",
    "            if j!=i:\n",
    "                p = p*(x-xdata[j])/(xdata[i]-xdata[j])\n",
    "        s=s+p*ydata[i]\n",
    "    print(\"The lagrange polynomial is\",s.expand())\n",
    "    print(\"The value of the function at\",xp,\"is\",float(s.subs(x,xp)))\n",
    "    return None\n",
    "lagrange([5,6,9,11],[12,13,14,16],10)"
   ]
  },
  {
   "cell_type": "code",
   "execution_count": 9,
   "metadata": {},
   "outputs": [
    {
     "name": "stdout",
     "output_type": "stream",
     "text": [
      "The lagrange polynomial is x**3 - 2*x**2 + 3*x - 4\n",
      "The value of the function at 4 is 40.0\n"
     ]
    }
   ],
   "source": [
    "lagrange([0,2,3,6],[-4,2,14,158],4)"
   ]
  },
  {
   "cell_type": "code",
   "execution_count": 10,
   "metadata": {},
   "outputs": [],
   "source": [
    "#Simpson's 1/3rd fromula\n",
    "from sympy.abc import x\n",
    "def Simpson13(y,l,u,n):\n",
    "    h=(u-l)/n\n",
    "    y0=y.subs(x,l)\n",
    "    yn=y.subs(x,u)\n",
    "    sum1=0\n",
    "    sum2=0\n",
    "    for i in range(1,n):\n",
    "        yi=y.subs(x,l+i*h)\n",
    "        if i%2==0:\n",
    "            sum1=sum1+yi\n",
    "        else:\n",
    "            sum2=sum2+yi\n",
    "    I=float((h/3)*(y0+yn+2*sum1+4*sum2))\n",
    "    print(\"The integral of \",y,\"is\",I)"
   ]
  },
  {
   "cell_type": "code",
   "execution_count": 11,
   "metadata": {},
   "outputs": [
    {
     "name": "stdout",
     "output_type": "stream",
     "text": [
      "The integral of  1/(x**2 + 1) is 1.3661734132322367\n"
     ]
    }
   ],
   "source": [
    "Simpson13(1/(1+x**2),0,6,6)"
   ]
  },
  {
   "cell_type": "code",
   "execution_count": 12,
   "metadata": {},
   "outputs": [
    {
     "name": "stdout",
     "output_type": "stream",
     "text": [
      "The integral of  x**2/(x**3 + 1) is 0.23108465608465606\n"
     ]
    }
   ],
   "source": [
    "Simpson13(x**2/(1+x**3),0,1,4)"
   ]
  },
  {
   "cell_type": "code",
   "execution_count": 13,
   "metadata": {},
   "outputs": [],
   "source": [
    "#Simpson's 3/8th fromula\n",
    "from sympy.abc import x\n",
    "def Simpson38(y,l,u,n):\n",
    "    h=(u-l)/n\n",
    "    y0=y.subs(x,l)\n",
    "    yn=y.subs(x,u)\n",
    "    sum1=0\n",
    "    sum2=0\n",
    "    for i in range(1,n):\n",
    "        yi=y.subs(x,l+i*h)\n",
    "        if i%3==0:\n",
    "            sum1=sum1+yi\n",
    "        else:\n",
    "            sum2=sum2+yi\n",
    "    I=float((3*h/8)*(y0+yn+2*sum1+3*sum2))\n",
    "    print(\"The integral of \",y,\"is\",I)"
   ]
  },
  {
   "cell_type": "code",
   "execution_count": 14,
   "metadata": {},
   "outputs": [
    {
     "name": "stdout",
     "output_type": "stream",
     "text": [
      "The integral of  1/(x**2 + 1) is 1.3570808364926013\n"
     ]
    }
   ],
   "source": [
    "Simpson38(1/(1+x**2),0,6,6)"
   ]
  },
  {
   "cell_type": "code",
   "execution_count": 15,
   "metadata": {},
   "outputs": [
    {
     "name": "stdout",
     "output_type": "stream",
     "text": [
      "The integral of  x**2/(x**3 + 1) is 0.23105243408552228\n"
     ]
    }
   ],
   "source": [
    "Simpson38(x**2/(1+x**3),0,1,9)"
   ]
  },
  {
   "cell_type": "code",
   "execution_count": 16,
   "metadata": {},
   "outputs": [],
   "source": [
    "#RK4 Method\n",
    "from sympy.abc import x,y\n",
    "def Function(z,x0,y0):\n",
    "  var=z.subs(x,x0)\n",
    "  eq=var.subs(y,y0)\n",
    "  print(eq)\n",
    "\n",
    "def Formula(yn,k1,k2,k3,k4):\n",
    "    ym=yn+(1/6)*(k1+2*k2+2*k3+k4)\n",
    "\n",
    "def Gunda(y0,x0,h,x):\n",
    "    x1=x0+h\n",
    "    if x1==x:\n",
    "        k1=h*(Function)\n",
    "        k2=h*()\n",
    "        y1=Formula(y0,)\n",
    "        "
   ]
  },
  {
   "cell_type": "code",
   "execution_count": 17,
   "metadata": {},
   "outputs": [
    {
     "name": "stdout",
     "output_type": "stream",
     "text": [
      "1\n"
     ]
    }
   ],
   "source": [
    "Function(y-x,1,2)"
   ]
  },
  {
   "cell_type": "code",
   "execution_count": 18,
   "metadata": {},
   "outputs": [
    {
     "name": "stdout",
     "output_type": "stream",
     "text": [
      "The value of y at 0.1 is 1.1055127510175935\n"
     ]
    }
   ],
   "source": [
    "def f(x,y):\n",
    "    return x**2+y\n",
    "def rungeKutte(x0,y0,x,h):\n",
    "    n = int((x-x0)/h)\n",
    "    y = y0\n",
    "    for i in range(1,n+1):\n",
    "        k1=h*f(x0,y)\n",
    "        k2=h*f(x0+0.5*h,y+0.5*k1)\n",
    "        k3=h*f(x0+0.5*h,y+0.5*k2)\n",
    "        k4=h*f(x0+h,y+k3)\n",
    "        y= y+(1/6)*(k1+2*k2+2*k3+k4)\n",
    "        x0=x0+h\n",
    "    return y\n",
    "x0=0\n",
    "y=1\n",
    "x=0.1\n",
    "h=0.05\n",
    "print(\"The value of y at\",x,\"is\",rungeKutte(x0,y,x,h))\n"
   ]
  },
  {
   "cell_type": "code",
   "execution_count": 19,
   "metadata": {},
   "outputs": [
    {
     "name": "stdout",
     "output_type": "stream",
     "text": [
      "The value of y at 0.2 is 2.4214025708506943\n"
     ]
    }
   ],
   "source": [
    "def f(x,y):\n",
    "    return y-x\n",
    "def rungeKutte(x0,y0,x,h):\n",
    "    n = int((x-x0)/h)\n",
    "    y = y0\n",
    "    for i in range(1,n+1):\n",
    "        k1=h*f(x0,y)\n",
    "        k2=h*f(x0+0.5*h,y+0.5*k1)\n",
    "        k3=h*f(x0+0.5*h,y+0.5*k2)\n",
    "        k4=h*f(x0+h,y+k3)\n",
    "        y= y+(1/6)*(k1+2*k2+2*k3+k4)\n",
    "        x0=x0+h\n",
    "    return y\n",
    "x0=0\n",
    "y=2\n",
    "x=0.2\n",
    "h=0.1\n",
    "print(\"The value of y at\",x,\"is\",rungeKutte(x0,y,x,h))"
   ]
  },
  {
   "cell_type": "code",
   "execution_count": 20,
   "metadata": {},
   "outputs": [
    {
     "name": "stdout",
     "output_type": "stream",
     "text": [
      "2*sin(x) - sin(2*x) + 2*sin(3*x)/3 - sin(4*x)/2\n"
     ]
    }
   ],
   "source": [
    "from sympy import *\n",
    "from sympy.abc import x,l\n",
    "f = x\n",
    "s = fourier_series(f, (x, -pi, pi))\n",
    "s1 = s.truncate(n=4)\n",
    "print(s1)"
   ]
  },
  {
   "cell_type": "code",
   "execution_count": 21,
   "metadata": {},
   "outputs": [
    {
     "name": "stdout",
     "output_type": "stream",
     "text": [
      "-4*l**2*cos(pi*x/l)/pi**2 + l**2*cos(2*pi*x/l)/pi**2 - 4*l**2*cos(3*pi*x/l)/(9*pi**2) + 4*l**2/3\n"
     ]
    }
   ],
   "source": [
    "from sympy import *\n",
    "from sympy.abc import x\n",
    "l= Symbol('l')\n",
    "f = (l**2)+(x**2)\n",
    "s = fourier_series(f, (x, -l, l))\n",
    "s1 = s.truncate(n=4)\n",
    "print(s1)"
   ]
  },
  {
   "cell_type": "code",
   "execution_count": 22,
   "metadata": {},
   "outputs": [],
   "source": [
    "from sympy import *\n",
    "from sympy.abc import x,n\n",
    "def HRCS(f,u,l,n):\n",
    "    s=0\n",
    "    a0=(2/u)*integrate(f,(x,l,u))\n",
    "    for i in range(0,n):\n",
    "        an=(2/u)*integrate(f*cos((i*x*pi)/u),(x,l,u))\n",
    "        for j in range(0,n):\n",
    "            s=s+(an*cos((j*x*pi)/u))\n",
    "    pprint(a0+s)\n",
    "def HRSS(f,u,l,n):\n",
    "    s1=0\n",
    "    for i in range(0,n):\n",
    "        bn=(2/u)*integrate(f*sin((i*x*pi)/u),(x,l,u))\n",
    "        for j in range(0,n):\n",
    "            s1=s1+(bn*sin((j*x*pi)/u))\n",
    "    pprint(s1)\n",
    "\n",
    "    \n",
    "    \n",
    "    "
   ]
  },
  {
   "cell_type": "code",
   "execution_count": 23,
   "metadata": {},
   "outputs": [
    {
     "name": "stdout",
     "output_type": "stream",
     "text": [
      "                      ⎛π⋅x⎞                                                   \n",
      "  8.88888888888889⋅cos⎜───⎟                                                   \n",
      "                      ⎝ 2 ⎠          ⎛π⋅x⎞   8.88888888888889⋅cos(π⋅x)        \n",
      "- ───────────────────────── + 2.0⋅cos⎜───⎟ - ───────────────────────── + 2.0⋅c\n",
      "               2                     ⎝ 2 ⎠                2                   \n",
      "              π                                          π                    \n",
      "\n",
      "                              ⎛3⋅π⋅x⎞                                         \n",
      "          8.88888888888889⋅cos⎜─────⎟                                         \n",
      "                              ⎝  2  ⎠          ⎛3⋅π⋅x⎞   8.88888888888889     \n",
      "os(π⋅x) - ─────────────────────────── + 2.0⋅cos⎜─────⎟ - ──────────────── + 4.\n",
      "                        2                      ⎝  2  ⎠           2            \n",
      "                       π                                        π             \n",
      "\n",
      " \n",
      " \n",
      " \n",
      "0\n",
      " \n",
      " \n",
      "                    ⎛π⋅x⎞                                                   ⎛3\n",
      "3.33333333333333⋅sin⎜───⎟                               3.33333333333333⋅sin⎜─\n",
      "                    ⎝ 2 ⎠   3.33333333333333⋅sin(π⋅x)                       ⎝ \n",
      "───────────────────────── + ───────────────────────── + ──────────────────────\n",
      "            π                           π                            π        \n",
      "\n",
      "⋅π⋅x⎞\n",
      "────⎟\n",
      " 2  ⎠\n",
      "─────\n",
      "     \n"
     ]
    }
   ],
   "source": [
    "HRCS(x,2,0,4)\n",
    "HRSS(x,2,0,4)"
   ]
  },
  {
   "cell_type": "code",
   "execution_count": 24,
   "metadata": {},
   "outputs": [
    {
     "name": "stdout",
     "output_type": "stream",
     "text": [
      "fails\n"
     ]
    }
   ],
   "source": [
    "from sympy import *\n",
    "import math\n",
    "n=Symbol('n')\n",
    "def test(an):\n",
    "    r=limit(an**(1/n),n,oo)\n",
    "    if r>1:\n",
    "        print(\"divergent\")\n",
    "    elif r<1:\n",
    "        print(\"convergent\")\n",
    "    else:\n",
    "        print(\"fails\")\n",
    "test((n**2)*((n+1)**2)/(factorial(n)))"
   ]
  },
  {
   "cell_type": "code",
   "execution_count": 25,
   "metadata": {},
   "outputs": [
    {
     "name": "stdout",
     "output_type": "stream",
     "text": [
      "Convergent by D'Alembert\n",
      "Convergent by Raabe\n",
      "Cauchy fails\n"
     ]
    }
   ],
   "source": [
    "from math import *\n",
    "from numpy import *\n",
    "from sympy import *\n",
    "from sympy.abc import n\n",
    "\n",
    "def D(y,yy):\n",
    "    l=limit(yy/y,n,inf)\n",
    "    if l>1:\n",
    "        print(\"Divergent by D'Alembert\")\n",
    "    elif l<1:\n",
    "        print(\"Convergent by D'Alembert\")\n",
    "    else:\n",
    "        print (\"D'Alembert fails\")\n",
    "def R(y,yy):\n",
    "    l=limit((y/yy-1)*n,n,inf)        \n",
    "    if l<1: \n",
    "        print(\"Divergent by Raabe\")\n",
    "    elif l>1:\n",
    "        print(\"Convergent by Raabe\")\n",
    "    else:\n",
    "        print (\"Raabe fails\")\n",
    "def C(y,yy):\n",
    "    l=limit(y**(1/n),n,inf)\n",
    "    if l>1:\n",
    "        print(\"Divergent by Cauchy\")\n",
    "    elif l<1:\n",
    "        print(\"Convergent by Cauchy\")\n",
    "    else:\n",
    "        print (\"Cauchy fails\")\n",
    "\n",
    "def Test(y,yy): \n",
    "    D(y,yy)\n",
    "    R(y,yy)\n",
    "    C(y,yy)\n",
    "\n",
    "y=((n**2)*(n+1)**2)/factorial(n)\n",
    "yy=y.subs({n:n+1}).doit()    \n",
    "Test(y, yy)"
   ]
  },
  {
   "cell_type": "code",
   "execution_count": 26,
   "metadata": {},
   "outputs": [
    {
     "name": "stdout",
     "output_type": "stream",
     "text": [
      "Requirement already satisfied: numpy in /Users/priyanujkashyap/miniconda/lib/python3.10/site-packages (1.23.5)\n"
     ]
    }
   ],
   "source": [
    "!pip install numpy"
   ]
  },
  {
   "cell_type": "code",
   "execution_count": 27,
   "metadata": {},
   "outputs": [
    {
     "name": "stdout",
     "output_type": "stream",
     "text": [
      "===========================\n",
      " 2        2\n",
      "n ⋅(n + 1) \n",
      "───────────\n",
      "     n!    \n",
      "Convergent by D'Alembert\n",
      "Convergent by Raabe\n",
      "Cauchy fails\n",
      "===========================\n"
     ]
    }
   ],
   "source": [
    "from math import *\n",
    "from numpy import *\n",
    "from sympy import *\n",
    "from sympy.abc import n\n",
    "\n",
    "def D(y,yy):\n",
    "    l=limit(yy/y,n,inf)\n",
    "    if l>1:\n",
    "        print(\"Divergent by D'Alembert\")\n",
    "    elif l<1:\n",
    "        print(\"Convergent by D'Alembert\")\n",
    "    else:\n",
    "        print (\"D'Alembert fails\")\n",
    "def R(y,yy):\n",
    "    l=limit((y/yy-1)*n,n,inf)        \n",
    "    if l<1: \n",
    "        print(\"Divergent by Raabe\")\n",
    "    elif l>1:\n",
    "        print(\"Convergent by Raabe\")\n",
    "    else:\n",
    "        print (\"Raabe fails\")\n",
    "def C(y,yy):\n",
    "    l=limit(y**(1/n),n,inf)\n",
    "    if l>1:\n",
    "        print(\"Divergent by Cauchy\")\n",
    "    elif l<1:\n",
    "        print(\"Convergent by Cauchy\")\n",
    "    else:\n",
    "        print (\"Cauchy fails\")\n",
    "\n",
    "def Test(y,yy): \n",
    "    print(\"===========================\")\n",
    "    pprint(y)\n",
    "    D(y,yy)\n",
    "    R(y,yy)\n",
    "    C(y,yy)\n",
    "    print(\"===========================\")\n",
    "y=((n**2)*(n+1)**2)/factorial(n)\n",
    "yy=y.subs({n:n+1}).doit()    \n",
    "Test(y, yy)\n"
   ]
  },
  {
   "cell_type": "code",
   "execution_count": 28,
   "metadata": {},
   "outputs": [
    {
     "name": "stdout",
     "output_type": "stream",
     "text": [
      "Not a homomorphism\n"
     ]
    }
   ],
   "source": [
    "from sympy import *\n",
    "def f(x):\n",
    "    return(5*x)%10\n",
    "def addmod (a,b,n):\n",
    "    return(a+b)%n\n",
    "def multmod (a,b,n):\n",
    "    return(a*b)%n\n",
    "def is_homomorphism(G,op1,op2,n1,n2):\n",
    "    neg=[(a,b) for a in G\n",
    "               for b in G\n",
    "                if f(op1(a,b,n1))!= op2(f(a),f(b),n2)]\n",
    "    if neg:\n",
    "        print(\"Not a homomorphism\")\n",
    "    else:\n",
    "        print(\"Homomorphism\")\n",
    "        \n",
    "is_homomorphism({0,1,2,3,4},addmod,addmod,5,10)"
   ]
  }
 ],
 "metadata": {
  "kernelspec": {
   "display_name": "Python 3.10.4 64-bit",
   "language": "python",
   "name": "python3"
  },
  "language_info": {
   "codemirror_mode": {
    "name": "ipython",
    "version": 3
   },
   "file_extension": ".py",
   "mimetype": "text/x-python",
   "name": "python",
   "nbconvert_exporter": "python",
   "pygments_lexer": "ipython3",
   "version": "3.10.10"
  },
  "orig_nbformat": 4,
  "vscode": {
   "interpreter": {
    "hash": "aee8b7b246df8f9039afb4144a1f6fd8d2ca17a180786b69acc140d282b71a49"
   }
  }
 },
 "nbformat": 4,
 "nbformat_minor": 2
}
