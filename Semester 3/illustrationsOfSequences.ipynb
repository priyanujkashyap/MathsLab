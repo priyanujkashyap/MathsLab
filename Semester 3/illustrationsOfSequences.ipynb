{
 "cells": [
  {
   "cell_type": "code",
   "execution_count": 19,
   "metadata": {},
   "outputs": [
    {
     "name": "stdout",
     "output_type": "stream",
     "text": [
      "Convergent to 3/2\n"
     ]
    }
   ],
   "source": [
    "#Question 1\n",
    "from sympy import *\n",
    "from sympy.abc import n\n",
    "l = limit_seq((3*n+4)/(2*n+1))\n",
    "if l == oo or l == -oo:\n",
    "    print(\"Drivergent to\",l)\n",
    "elif l.is_number:\n",
    "    print(\"Convergent to\",l)\n",
    "else:\n",
    "    print(\"Oscillatory \",l)"
   ]
  },
  {
   "cell_type": "code",
   "execution_count": 20,
   "metadata": {},
   "outputs": [
    {
     "name": "stdout",
     "output_type": "stream",
     "text": [
      "Convergent to 0\n"
     ]
    }
   ],
   "source": [
    "#Question 2\n",
    "from sympy import *\n",
    "from sympy.abc import n\n",
    "l = limit_seq(sqrt(n+1)-sqrt(n))\n",
    "if l == oo or l == -oo:\n",
    "    print(\"Drivergent to\",l)\n",
    "elif l.is_number:\n",
    "    print(\"Convergent to\",l)\n",
    "else:\n",
    "    print(\"Oscillatory \",l)"
   ]
  },
  {
   "cell_type": "code",
   "execution_count": 21,
   "metadata": {},
   "outputs": [
    {
     "name": "stdout",
     "output_type": "stream",
     "text": [
      "Convergent to exp(2)\n"
     ]
    }
   ],
   "source": [
    "#Question 3\n",
    "from sympy import *\n",
    "from sympy.abc import n\n",
    "l = limit_seq(((n+1)/(n-1))**n)\n",
    "if l == oo or l == -oo:\n",
    "    print(\"Drivergent to\",l)\n",
    "elif l.is_number:\n",
    "    print(\"Convergent to\",l)\n",
    "else:\n",
    "    print(\"Oscillatory \",l)"
   ]
  },
  {
   "cell_type": "code",
   "execution_count": 22,
   "metadata": {},
   "outputs": [
    {
     "name": "stdout",
     "output_type": "stream",
     "text": [
      "Convergent to pi/5\n"
     ]
    }
   ],
   "source": [
    "#Question 4\n",
    "from sympy import *\n",
    "from sympy.abc import n,p\n",
    "l = limit_seq(n*sin(pi/(5*n)))\n",
    "if l == oo or l == -oo:\n",
    "    print(\"Drivergent to\",l)\n",
    "elif l.is_number:\n",
    "    print(\"Convergent to\",l)\n",
    "else:\n",
    "    print(\"Oscillatory \",l)"
   ]
  },
  {
   "cell_type": "code",
   "execution_count": 23,
   "metadata": {},
   "outputs": [
    {
     "name": "stdout",
     "output_type": "stream",
     "text": [
      "Drivergent to oo\n"
     ]
    }
   ],
   "source": [
    "#Question 5\n",
    "from sympy import *\n",
    "from sympy.abc import n\n",
    "l = limit_seq((n**7)+(2*n**3)-1/(n**6)+(n**2)+(3*n)+1)\n",
    "if l == oo or l == -oo:\n",
    "    print(\"Drivergent to\",l)\n",
    "elif l.is_number:\n",
    "    print(\"Convergent to\",l)\n",
    "else:\n",
    "    print(\"Oscillatory \",l)"
   ]
  },
  {
   "cell_type": "code",
   "execution_count": 28,
   "metadata": {},
   "outputs": [
    {
     "name": "stdout",
     "output_type": "stream",
     "text": [
      "Drivergent to -oo\n"
     ]
    }
   ],
   "source": [
    "#Question 6\n",
    "from sympy import *\n",
    "from sympy.abc import n\n",
    "l = limit_seq((-n)**3/(n+1))\n",
    "if l == oo or l == -oo:\n",
    "    print(\"Drivergent to\",l)\n",
    "elif l.is_number:\n",
    "    print(\"Convergent to\",l)\n",
    "else:\n",
    "    print(\"Oscillatory \",l)"
   ]
  },
  {
   "cell_type": "code",
   "execution_count": 27,
   "metadata": {},
   "outputs": [
    {
     "name": "stdout",
     "output_type": "stream",
     "text": [
      "Drivergent to oo\n"
     ]
    }
   ],
   "source": [
    "#Question 7\n",
    "from sympy import *\n",
    "from sympy.abc import n\n",
    "l = limit_seq(((n+1)**(n+1)/(n**n)))\n",
    "if l == oo or l == -oo:\n",
    "    print(\"Drivergent to\",l)\n",
    "elif l.is_number:\n",
    "    print(\"Convergent to\",l)\n",
    "else:\n",
    "    print(\"Oscillatory \",l)"
   ]
  },
  {
   "cell_type": "code",
   "execution_count": 30,
   "metadata": {},
   "outputs": [
    {
     "name": "stdout",
     "output_type": "stream",
     "text": [
      "Oscillatory  AccumBounds(-oo, oo)\n"
     ]
    }
   ],
   "source": [
    "#Question 8\n",
    "from sympy import *\n",
    "from sympy.abc import n\n",
    "l = limit_seq(1+n*(-1)**n)\n",
    "if l == oo or l == -oo:\n",
    "    print(\"Drivergent to\",l)\n",
    "elif l.is_number:\n",
    "    print(\"Convergent to\",l)\n",
    "else:\n",
    "    print(\"Oscillatory \",l)"
   ]
  },
  {
   "cell_type": "code",
   "execution_count": 32,
   "metadata": {},
   "outputs": [
    {
     "name": "stdout",
     "output_type": "stream",
     "text": [
      "Oscillatory  AccumBounds(0, 2)\n"
     ]
    }
   ],
   "source": [
    "#Question 9\n",
    "from sympy import *\n",
    "from sympy.abc import n\n",
    "l = limit_seq((n+n*((-1)**n))/(n+1))\n",
    "if l == oo or l == -oo:\n",
    "    print(\"Drivergent to\",l)\n",
    "elif l.is_number:\n",
    "    print(\"Convergent to\",l)\n",
    "else:\n",
    "    print(\"Oscillatory \",l)"
   ]
  },
  {
   "cell_type": "code",
   "execution_count": 33,
   "metadata": {},
   "outputs": [
    {
     "name": "stdout",
     "output_type": "stream",
     "text": [
      "Oscillatory  AccumBounds(-2, 2)\n"
     ]
    }
   ],
   "source": [
    "#Question 10\n",
    "from sympy import *\n",
    "from sympy.abc import n\n",
    "l = limit_seq(((-1)**n)*(2*n**2+1)/(n**2+n))\n",
    "if l == oo or l == -oo:\n",
    "    print(\"Drivergent to\",l)\n",
    "elif l.is_number:\n",
    "    print(\"Convergent to\",l)\n",
    "else:\n",
    "    print(\"Oscillatory \",l)"
   ]
  }
 ],
 "metadata": {
  "kernelspec": {
   "display_name": "Python 3.10.4 64-bit",
   "language": "python",
   "name": "python3"
  },
  "language_info": {
   "codemirror_mode": {
    "name": "ipython",
    "version": 3
   },
   "file_extension": ".py",
   "mimetype": "text/x-python",
   "name": "python",
   "nbconvert_exporter": "python",
   "pygments_lexer": "ipython3",
   "version": "3.10.4"
  },
  "orig_nbformat": 4,
  "vscode": {
   "interpreter": {
    "hash": "aee8b7b246df8f9039afb4144a1f6fd8d2ca17a180786b69acc140d282b71a49"
   }
  }
 },
 "nbformat": 4,
 "nbformat_minor": 2
}
