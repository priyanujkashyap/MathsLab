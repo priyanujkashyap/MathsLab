{
 "cells": [
  {
   "cell_type": "code",
   "execution_count": 12,
   "metadata": {},
   "outputs": [],
   "source": [
    "from sympy import *\n",
    "x = Symbol('x')\n",
    "y = Function('y')(x)\n",
    "y1= y.diff(x)\n",
    "y2= y.diff(x,2)\n",
    "y3= y.diff(x,3)\n",
    "def nhlde(de):\n",
    "    sl= dsolve(de)\n",
    "    print(\"y =\",sl.rhs)"
   ]
  },
  {
   "cell_type": "code",
   "execution_count": 13,
   "metadata": {},
   "outputs": [
    {
     "name": "stdout",
     "output_type": "stream",
     "text": [
      "y = (C1 + C2*x)*exp(3*x) + 3*exp(-4*x)/49\n"
     ]
    }
   ],
   "source": [
    "#Question 1\n",
    "nhlde(y2 - 6*y1 + 9*y -3 *exp(-4*x))"
   ]
  },
  {
   "cell_type": "code",
   "execution_count": 14,
   "metadata": {},
   "outputs": [
    {
     "name": "stdout",
     "output_type": "stream",
     "text": [
      "y = (C1 + C2*x)*exp(x) - 3*sin(3*x)/50 - 2*cos(3*x)/25\n"
     ]
    }
   ],
   "source": [
    "#Question 2\n",
    "nhlde(y2 - 2*y1 + y - cos(3*x))"
   ]
  },
  {
   "cell_type": "code",
   "execution_count": 15,
   "metadata": {},
   "outputs": [
    {
     "name": "stdout",
     "output_type": "stream",
     "text": [
      "y = C1*exp(-2*x) + C2*exp(-x) + x**2/2 - 3*x/2 + 7/4\n"
     ]
    }
   ],
   "source": [
    "#Question 3\n",
    "nhlde(y2 + 3*y1 + 2*y - x**2)"
   ]
  },
  {
   "cell_type": "code",
   "execution_count": 16,
   "metadata": {},
   "outputs": [
    {
     "name": "stdout",
     "output_type": "stream",
     "text": [
      "y = (C2*cos(3*x) + (C1 + x/6)*sin(3*x))*exp(2*x)\n"
     ]
    }
   ],
   "source": [
    "#Question 4\n",
    "nhlde(y2 - 4*y1 + 13*y - exp(2*x)*cos(3*x))"
   ]
  }
 ],
 "metadata": {
  "kernelspec": {
   "display_name": "Python 3.10.4 64-bit",
   "language": "python",
   "name": "python3"
  },
  "language_info": {
   "codemirror_mode": {
    "name": "ipython",
    "version": 3
   },
   "file_extension": ".py",
   "mimetype": "text/x-python",
   "name": "python",
   "nbconvert_exporter": "python",
   "pygments_lexer": "ipython3",
   "version": "3.10.4"
  },
  "orig_nbformat": 4,
  "vscode": {
   "interpreter": {
    "hash": "aee8b7b246df8f9039afb4144a1f6fd8d2ca17a180786b69acc140d282b71a49"
   }
  }
 },
 "nbformat": 4,
 "nbformat_minor": 2
}
