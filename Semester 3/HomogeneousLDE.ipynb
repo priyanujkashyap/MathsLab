{
 "cells": [
  {
   "cell_type": "code",
   "execution_count": 198,
   "metadata": {},
   "outputs": [],
   "source": [
    "from sympy import *\n",
    "x = Symbol('x')\n",
    "y = Function('y')(x)\n",
    "y1= y.diff(x)\n",
    "y2= y.diff(x,2)\n",
    "y3= y.diff(x,3)\n",
    "y4= y.diff(x,4)\n",
    "def hlde(de):\n",
    "    sl= dsolve(de)\n",
    "    print(\"y =\",sl.rhs)"
   ]
  },
  {
   "cell_type": "code",
   "execution_count": 199,
   "metadata": {},
   "outputs": [
    {
     "name": "stdout",
     "output_type": "stream",
     "text": [
      "y = (C1 + C2*exp(-2*x) + C3*exp(-x))*exp(-x)\n"
     ]
    }
   ],
   "source": [
    "#Question 1\n",
    "hlde(y3 + 6*y2 + 11*y1 + 6*y)"
   ]
  },
  {
   "cell_type": "code",
   "execution_count": 200,
   "metadata": {},
   "outputs": [
    {
     "name": "stdout",
     "output_type": "stream",
     "text": [
      "y = (C1 + x*(C2 + C3*x))*exp(-x)\n"
     ]
    }
   ],
   "source": [
    "#Question 2\n",
    "hlde(y3 + 3*y2 + 3*y1 + y)"
   ]
  },
  {
   "cell_type": "code",
   "execution_count": 201,
   "metadata": {},
   "outputs": [
    {
     "name": "stdout",
     "output_type": "stream",
     "text": [
      "y = C4*exp(4*x) + (C1 + x*(C2 + C3*x))*exp(-x)\n"
     ]
    }
   ],
   "source": [
    "#Question 3\n",
    "hlde(y4 - y3 - 9*y2 - 11*y1 - 4*y)"
   ]
  },
  {
   "cell_type": "code",
   "execution_count": 202,
   "metadata": {},
   "outputs": [
    {
     "name": "stdout",
     "output_type": "stream",
     "text": [
      "y = C3*exp(2*x) + (C1*sin(sqrt(3)*x) + C2*cos(sqrt(3)*x))*exp(-x)\n"
     ]
    }
   ],
   "source": [
    "#Question 4\n",
    "hlde(y3 - 8*y)"
   ]
  },
  {
   "cell_type": "code",
   "execution_count": 203,
   "metadata": {},
   "outputs": [
    {
     "name": "stdout",
     "output_type": "stream",
     "text": [
      "y = C1*sin(x) + C2*cos(x)\n"
     ]
    }
   ],
   "source": [
    "#Question 5\n",
    "hlde((y2 +y)**2)"
   ]
  }
 ],
 "metadata": {
  "kernelspec": {
   "display_name": "Python 3.10.4 64-bit",
   "language": "python",
   "name": "python3"
  },
  "language_info": {
   "codemirror_mode": {
    "name": "ipython",
    "version": 3
   },
   "file_extension": ".py",
   "mimetype": "text/x-python",
   "name": "python",
   "nbconvert_exporter": "python",
   "pygments_lexer": "ipython3",
   "version": "3.10.4"
  },
  "orig_nbformat": 4,
  "vscode": {
   "interpreter": {
    "hash": "aee8b7b246df8f9039afb4144a1f6fd8d2ca17a180786b69acc140d282b71a49"
   }
  }
 },
 "nbformat": 4,
 "nbformat_minor": 2
}
