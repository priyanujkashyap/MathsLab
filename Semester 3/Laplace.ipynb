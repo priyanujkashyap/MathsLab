{
 "cells": [
  {
   "cell_type": "code",
   "execution_count": 18,
   "metadata": {},
   "outputs": [
    {
     "data": {
      "text/latex": [
       "$\\displaystyle \\frac{\\left(- 6 \\left(\\frac{s^{3}}{6} + \\frac{s^{2}}{2} + s + 1\\right) e^{- s} + 6\\right) e^{- s}}{s^{4}}$"
      ],
      "text/plain": [
       "(-6*(s**3/6 + s**2/2 + s + 1)*exp(-s) + 6)*exp(-s)/s**4"
      ]
     },
     "execution_count": 18,
     "metadata": {},
     "output_type": "execute_result"
    }
   ],
   "source": [
    "from sympy import *\n",
    "from sympy.abc import t,s\n",
    "laplace_transform((1+t)**3,t,s,noconds=True)"
   ]
  },
  {
   "cell_type": "code",
   "execution_count": 19,
   "metadata": {},
   "outputs": [
    {
     "data": {
      "text/latex": [
       "$\\displaystyle \\frac{s^{2} + 18}{s \\left(s^{2} + 36\\right)}$"
      ],
      "text/plain": [
       "(s**2 + 18)/(s*(s**2 + 36))"
      ]
     },
     "execution_count": 19,
     "metadata": {},
     "output_type": "execute_result"
    }
   ],
   "source": [
    "from sympy import *\n",
    "from sympy.abc import t,s\n",
    "laplace_transform(cos(3*t)**2,t,s,noconds=True)"
   ]
  },
  {
   "cell_type": "code",
   "execution_count": 20,
   "metadata": {},
   "outputs": [
    {
     "data": {
      "text/latex": [
       "$\\displaystyle \\frac{12 s}{\\left(s^{2} + 4\\right) \\left(s^{2} + 16\\right)}$"
      ],
      "text/plain": [
       "12*s/((s**2 + 4)*(s**2 + 16))"
      ]
     },
     "execution_count": 20,
     "metadata": {},
     "output_type": "execute_result"
    }
   ],
   "source": [
    "from sympy import *\n",
    "from sympy.abc import t,s\n",
    "laplace_transform((2*sin(t)*sin(3*t)),t,s,noconds=True)"
   ]
  },
  {
   "cell_type": "code",
   "execution_count": 21,
   "metadata": {},
   "outputs": [
    {
     "data": {
      "text/latex": [
       "$\\displaystyle \\frac{4}{\\left(s + 3\\right)^{2} + 16}$"
      ],
      "text/plain": [
       "4/((s + 3)**2 + 16)"
      ]
     },
     "execution_count": 21,
     "metadata": {},
     "output_type": "execute_result"
    }
   ],
   "source": [
    "from sympy import *\n",
    "from sympy.abc import t,s\n",
    "laplace_transform((exp(-3*t)*sin(4*t)),t,s,noconds=True)"
   ]
  },
  {
   "cell_type": "code",
   "execution_count": 23,
   "metadata": {},
   "outputs": [
    {
     "data": {
      "text/latex": [
       "$\\displaystyle \\frac{32}{s \\left(s^{2} + 64\\right)}$"
      ],
      "text/plain": [
       "32/(s*(s**2 + 64))"
      ]
     },
     "execution_count": 23,
     "metadata": {},
     "output_type": "execute_result"
    }
   ],
   "source": [
    "from sympy import *\n",
    "from sympy.abc import t,s\n",
    "laplace_transform((sin(4*t)**2),t,s,noconds=True)"
   ]
  },
  {
   "cell_type": "code",
   "execution_count": 24,
   "metadata": {},
   "outputs": [
    {
     "data": {
      "text/latex": [
       "$\\displaystyle \\frac{3 \\left(s^{2} - 7\\right)}{\\left(s^{2} + 1\\right) \\left(s^{2} + 49\\right)}$"
      ],
      "text/plain": [
       "3*(s**2 - 7)/((s**2 + 1)*(s**2 + 49))"
      ]
     },
     "execution_count": 24,
     "metadata": {},
     "output_type": "execute_result"
    }
   ],
   "source": [
    "from sympy import *\n",
    "from sympy.abc import t,s\n",
    "laplace_transform((sin(3*t)*cos(4*t)),t,s,noconds=True)"
   ]
  },
  {
   "cell_type": "code",
   "execution_count": 27,
   "metadata": {},
   "outputs": [
    {
     "data": {
      "text/latex": [
       "$\\displaystyle \\frac{t^{3} \\cdot \\left(3 t + 4\\right) e^{3 t} \\theta\\left(t\\right)}{24}$"
      ],
      "text/plain": [
       "t**3*(3*t + 4)*exp(3*t)*Heaviside(t)/24"
      ]
     },
     "execution_count": 27,
     "metadata": {},
     "output_type": "execute_result"
    }
   ],
   "source": [
    "from sympy import *\n",
    "from sympy.abc import t,s\n",
    "inverse_laplace_transform(s/(s-3)**5,s,t,noconds=True)"
   ]
  },
  {
   "cell_type": "code",
   "execution_count": 32,
   "metadata": {},
   "outputs": [
    {
     "data": {
      "text/latex": [
       "$\\displaystyle - \\frac{\\left(3 \\sin{\\left(2 t \\right)} - 4 \\cos{\\left(2 t \\right)}\\right) e^{- 2 t} \\theta\\left(t\\right)}{2}$"
      ],
      "text/plain": [
       "-(3*sin(2*t) - 4*cos(2*t))*exp(-2*t)*Heaviside(t)/2"
      ]
     },
     "execution_count": 32,
     "metadata": {},
     "output_type": "execute_result"
    }
   ],
   "source": [
    "from sympy import *\n",
    "from sympy.abc import t,s\n",
    "inverse_laplace_transform((2*s+1)/(s**2+4*s+8),s,t,noconds=True)\n"
   ]
  },
  {
   "cell_type": "code",
   "execution_count": 33,
   "metadata": {},
   "outputs": [
    {
     "data": {
      "text/latex": [
       "$\\displaystyle \\frac{\\left(5 e^{4 t} + 1\\right) e^{- 3 t} \\theta\\left(t\\right)}{2}$"
      ],
      "text/plain": [
       "(5*exp(4*t) + 1)*exp(-3*t)*Heaviside(t)/2"
      ]
     },
     "execution_count": 33,
     "metadata": {},
     "output_type": "execute_result"
    }
   ],
   "source": [
    "from sympy import *\n",
    "from sympy.abc import t,s\n",
    "inverse_laplace_transform((3*s+7)/(s**2+2*s-3),s,t,noconds=True)\n"
   ]
  },
  {
   "cell_type": "code",
   "execution_count": 34,
   "metadata": {},
   "outputs": [
    {
     "data": {
      "text/latex": [
       "$\\displaystyle \\left(3 e^{4 t} - 2\\right) e^{- 4 t} \\theta\\left(t\\right)$"
      ],
      "text/plain": [
       "(3*exp(4*t) - 2)*exp(-4*t)*Heaviside(t)"
      ]
     },
     "execution_count": 34,
     "metadata": {},
     "output_type": "execute_result"
    }
   ],
   "source": [
    "from sympy import *\n",
    "from sympy.abc import t,s\n",
    "inverse_laplace_transform((s+12)/(s**2+4*s),s,t,noconds=True)\n"
   ]
  }
 ],
 "metadata": {
  "kernelspec": {
   "display_name": "Python 3.10.4 64-bit",
   "language": "python",
   "name": "python3"
  },
  "language_info": {
   "codemirror_mode": {
    "name": "ipython",
    "version": 3
   },
   "file_extension": ".py",
   "mimetype": "text/x-python",
   "name": "python",
   "nbconvert_exporter": "python",
   "pygments_lexer": "ipython3",
   "version": "3.10.4"
  },
  "orig_nbformat": 4,
  "vscode": {
   "interpreter": {
    "hash": "aee8b7b246df8f9039afb4144a1f6fd8d2ca17a180786b69acc140d282b71a49"
   }
  }
 },
 "nbformat": 4,
 "nbformat_minor": 2
}
