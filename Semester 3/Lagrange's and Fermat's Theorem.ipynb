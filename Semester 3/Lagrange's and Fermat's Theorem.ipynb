{
 "cells": [
  {
   "cell_type": "code",
   "execution_count": 2,
   "metadata": {},
   "outputs": [],
   "source": [
    "def add_mod(a,b,n):\n",
    "    return (a+b)%n\n",
    "def Lagrange_Theorem(ordG,cardH):\n",
    "    if ordG%cardH==0:\n",
    "        return True\n",
    "    return False\n",
    "def check_closure(G,H,n):\n",
    "    Hx={add_mod(a,b,n) for a in H for b in H}\n",
    "    if Hx==H:\n",
    "        return True\n",
    "    return False\n",
    "def check_subgroup(G,H,n):\n",
    "    if Lagrange_Theorem(len(G),len(H)):\n",
    "        if check_closure(G,H,n):\n",
    "            print(H,\"is a subgroup of\",G)\n",
    "        else:\n",
    "            print(\"Lagrange's Theorem satisfies, but\",H,\"is not a subgroup of\",G)\n",
    "    else:\n",
    "        print(\"Lagrange's Theorem is not satisfied, hence\",H,\"is not a subgroup of\",G)\n"
   ]
  },
  {
   "cell_type": "code",
   "execution_count": 13,
   "metadata": {},
   "outputs": [
    {
     "name": "stdout",
     "output_type": "stream",
     "text": [
      "Lagrange's Theorem is not satisfied, hence {0, 1, 2, 4, 6} is not a subgroup of {0, 1, 2, 3, 4, 5, 6, 7}\n"
     ]
    }
   ],
   "source": [
    "G={0,1,2,3,4,5,6,7}\n",
    "Hx={0,1,2,4,6}\n",
    "check_subgroup(G,Hx,8)"
   ]
  },
  {
   "cell_type": "code",
   "execution_count": 14,
   "metadata": {},
   "outputs": [
    {
     "name": "stdout",
     "output_type": "stream",
     "text": [
      "{0, 2, 4, 6} is a subgroup of {0, 1, 2, 3, 4, 5, 6, 7}\n"
     ]
    }
   ],
   "source": [
    "G={0,1,2,3,4,5,6,7}\n",
    "Hx={0,2,4,6}\n",
    "check_subgroup(G,Hx,8)"
   ]
  },
  {
   "cell_type": "code",
   "execution_count": 15,
   "metadata": {},
   "outputs": [
    {
     "name": "stdout",
     "output_type": "stream",
     "text": [
      "Lagrange's Theorem satisfies, but {1, 2, 4, 7} is not a subgroup of {0, 1, 2, 3, 4, 5, 6, 7}\n"
     ]
    }
   ],
   "source": [
    "G={0,1,2,3,4,5,6,7}\n",
    "Hx={1,2,4,7}\n",
    "check_subgroup(G,Hx,8)"
   ]
  },
  {
   "cell_type": "code",
   "execution_count": 16,
   "metadata": {},
   "outputs": [
    {
     "name": "stdout",
     "output_type": "stream",
     "text": [
      "Fermat's Little Theorem satisfied for first 30 primes, for a = 2\n"
     ]
    }
   ],
   "source": [
    "from sympy import *\n",
    "a=2\n",
    "n=30\n",
    "for i in range (1,n+1):\n",
    "    p=prime(i)\n",
    "    if a**p%p!=a%p:\n",
    "        print(\"Fermat's Little Theorem fails for a=\",a,\"p =\",p)\n",
    "print(\"Fermat's Little Theorem satisfied for first\",n,\"primes, for a =\",a)\n"
   ]
  },
  {
   "cell_type": "code",
   "execution_count": 17,
   "metadata": {},
   "outputs": [
    {
     "name": "stdout",
     "output_type": "stream",
     "text": [
      "Fermat's Little Theorem satisfied for first 30 primes, for a = 3\n"
     ]
    }
   ],
   "source": [
    "from sympy import *\n",
    "a=3\n",
    "n=30\n",
    "for i in range (1,n+1):\n",
    "    p=prime(i)\n",
    "    if a**p%p!=a%p:\n",
    "        print(\"Fermat's Little Theorem fails for a=\",a,\"p =\",p)\n",
    "print(\"Fermat's Little Theorem satisfied for first\",n,\"primes, for a =\",a)"
   ]
  }
 ],
 "metadata": {
  "kernelspec": {
   "display_name": "Python 3.10.4 64-bit",
   "language": "python",
   "name": "python3"
  },
  "language_info": {
   "codemirror_mode": {
    "name": "ipython",
    "version": 3
   },
   "file_extension": ".py",
   "mimetype": "text/x-python",
   "name": "python",
   "nbconvert_exporter": "python",
   "pygments_lexer": "ipython3",
   "version": "3.10.4"
  },
  "orig_nbformat": 4,
  "vscode": {
   "interpreter": {
    "hash": "aee8b7b246df8f9039afb4144a1f6fd8d2ca17a180786b69acc140d282b71a49"
   }
  }
 },
 "nbformat": 4,
 "nbformat_minor": 2
}
