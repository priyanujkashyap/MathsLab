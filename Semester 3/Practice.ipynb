{
 "cells": [
  {
   "cell_type": "code",
   "execution_count": 45,
   "metadata": {},
   "outputs": [
    {
     "name": "stdout",
     "output_type": "stream",
     "text": [
      "Convergent to 5\n"
     ]
    }
   ],
   "source": [
    "from sympy import *\n",
    "from sympy.abc import n \n",
    "l = limit_seq((5*n**3+sin(pi/n))/n**3)\n",
    "if l==oo or l==-oo:\n",
    "    print('Divergent to',l)\n",
    "elif l.is_number:\n",
    "    print('Convergent to',l)\n",
    "else:\n",
    "    print('Oscillatory',l.rhs)"
   ]
  },
  {
   "cell_type": "code",
   "execution_count": 46,
   "metadata": {},
   "outputs": [
    {
     "name": "stdout",
     "output_type": "stream",
     "text": [
      "Divergent to oo\n"
     ]
    }
   ],
   "source": [
    "from sympy import *\n",
    "from sympy.abc import n \n",
    "l = limit_seq((8**(n+1))+(5**(n-1))/(2**(n+1))-(8**(n-1)))\n",
    "if l==oo or l==-oo:\n",
    "    print('Divergent to',l)\n",
    "elif l.is_number:\n",
    "    print('Convergent to',l)\n",
    "else:\n",
    "    print('Oscillatory',l.rhs)"
   ]
  },
  {
   "cell_type": "code",
   "execution_count": 47,
   "metadata": {},
   "outputs": [
    {
     "name": "stdout",
     "output_type": "stream",
     "text": [
      "Oscillatory AccumBounds(-oo, oo)\n"
     ]
    }
   ],
   "source": [
    "from sympy import *\n",
    "from sympy.abc import n \n",
    "l = limit_seq(1+(n*(-1)**n))\n",
    "if l==oo or l==-oo:\n",
    "    print('Divergent to',l)\n",
    "elif l.is_number:\n",
    "    print('Convergent to',l)\n",
    "else:\n",
    "    print('Oscillatory',l)"
   ]
  },
  {
   "cell_type": "code",
   "execution_count": 48,
   "metadata": {},
   "outputs": [
    {
     "name": "stdout",
     "output_type": "stream",
     "text": [
      "y= (C1 + x*(C2 + C3*x))*exp(-x)\n"
     ]
    }
   ],
   "source": [
    "from sympy import *\n",
    "x = Symbol('x')\n",
    "y = Function('y')(x)\n",
    "y1 = y.diff(x,1)\n",
    "y2 = y.diff(x,2)\n",
    "y3 = y.diff(x,3)\n",
    "y4 = y.diff(x,4)\n",
    "DE = y3+3*y2+3*y1+y\n",
    "Sol = dsolve(DE)\n",
    "print('y=',Sol.rhs)"
   ]
  },
  {
   "cell_type": "code",
   "execution_count": 49,
   "metadata": {},
   "outputs": [
    {
     "name": "stdout",
     "output_type": "stream",
     "text": [
      "y= C1*exp(x*(-2**(2/3)*(47 + 9*sqrt(93))**(1/3) - 8 + 22*2**(1/3)/(47 + 9*sqrt(93))**(1/3))/12)*sin(2**(1/3)*sqrt(3)*x*(22/(47 + 9*sqrt(93))**(1/3) + 2**(1/3)*(47 + 9*sqrt(93))**(1/3))/12) + C2*exp(x*(-2**(2/3)*(47 + 9*sqrt(93))**(1/3) - 8 + 22*2**(1/3)/(47 + 9*sqrt(93))**(1/3))/12)*cos(2**(1/3)*sqrt(3)*x*(22/(47 + 9*sqrt(93))**(1/3) + 2**(1/3)*(47 + 9*sqrt(93))**(1/3))/12) + C3*exp(x*(-22*2**(1/3)/(47 + 9*sqrt(93))**(1/3) - 4 + 2**(2/3)*(47 + 9*sqrt(93))**(1/3))/6)\n"
     ]
    }
   ],
   "source": [
    "from sympy import *\n",
    "from sympy.abc import x\n",
    "y = Function('y')(x)\n",
    "y1 = y.diff(x,1)\n",
    "y2 = y.diff(x,2)\n",
    "y3 = y.diff(x,3)\n",
    "de= y3+2*y2+5*y1+y\n",
    "sol = dsolve(de)\n",
    "print('y=',sol.rhs)"
   ]
  },
  {
   "cell_type": "code",
   "execution_count": 50,
   "metadata": {},
   "outputs": [
    {
     "name": "stdout",
     "output_type": "stream",
     "text": [
      "The integral of CF is = exp(-x)\n",
      "⎛        ⌠                         ⎞    \n",
      "⎜        ⎮       ⌠                 ⎟    \n",
      "⎜        ⎮       ⎮  -x             ⎟    \n",
      "⎜        ⎮       ⎮ ℯ  ⋅cot(x) dx   ⎟    \n",
      "⎜        ⎮  2⋅x  ⌡                 ⎟  -x\n",
      "⎜C₁ + C₂⋅⎮ ℯ   ⋅ℯ                dx⎟⋅ℯ  \n",
      "⎝        ⌡                         ⎠    \n"
     ]
    }
   ],
   "source": [
    "from sympy import *\n",
    "from sympy.abc import x,a \n",
    "v=Function('v')(x)\n",
    "p=cot(x)\n",
    "q=cot(x)-1\n",
    "r=0\n",
    "if 1+p+q==0:\n",
    "    u=exp(x)\n",
    "elif 1-p+q==0:\n",
    "    u=exp(-x)\n",
    "elif a**2+a*p+q==0:\n",
    "    u=exp(a*x)\n",
    "elif 2+2*p*x+q*x**2==0:\n",
    "    u=x**2\n",
    "elif expand(p+q*x)==0:\n",
    "    u=x\n",
    "if u:\n",
    "    print('The integral of CF is =',u)\n",
    "    eqn=diff(v,x,2)+(p+(2/u))*(diff(u,x,1))*diff(v,x,1)-(r/u)\n",
    "    sol=dsolve(eqn)\n",
    "    pprint(sol.rhs*u)\n",
    "else:\n",
    "    print('There is no integral of CF')"
   ]
  },
  {
   "cell_type": "code",
   "execution_count": 63,
   "metadata": {},
   "outputs": [
    {
     "name": "stdout",
     "output_type": "stream",
     "text": [
      "There is no integral of CF\n"
     ]
    }
   ],
   "source": [
    "from sympy import *\n",
    "from sympy.abc import x,a\n",
    "v = Function('v')(x)\n",
    "p = -(((2*x)-1)/x)\n",
    "q = (x-1)/x\n",
    "r = 0\n",
    "if 1+p+q==0:\n",
    "    u = exp(x)\n",
    "elif 1-p+q==0:\n",
    "    u = exp(-x)\n",
    "elif a**2+a*p+q==0:\n",
    "    u = exp(a*x)\n",
    "elif 2+2*p*x+q*x**2==0:\n",
    "    u = x**2\n",
    "elif expand(p+q*x)==0:\n",
    "    u = x\n",
    "if u:\n",
    "    print('The integral of CF is =',u)\n",
    "    eqn = diff(v,x,2)+(p+(2/u)*diff(u,x,1))*diff(v,x,1)-(r/u)\n",
    "    sol = dsolve(eqn)\n",
    "    pprint(sol.rhs*u)\n",
    "else:\n",
    "    print('There is no integral of CF')\n",
    "    \n"
   ]
  },
  {
   "cell_type": "code",
   "execution_count": null,
   "metadata": {},
   "outputs": [
    {
     "name": "stdout",
     "output_type": "stream",
     "text": [
      "cos(x)**(-1.0)\n",
      "6.00000000000000\n",
      "6\n",
      "6*v(x) + Derivative(v(x), (x, 2))\n",
      "C1*sin(sqrt(6)*x) + C2*cos(sqrt(6)*x)\n"
     ]
    },
    {
     "data": {
      "text/latex": [
       "$\\displaystyle \\frac{C_{1} \\sin{\\left(\\sqrt{6} x \\right)} + C_{2} \\cos{\\left(\\sqrt{6} x \\right)}}{\\cos^{1.0}{\\left(x \\right)}}$"
      ],
      "text/plain": [
       "(C1*sin(sqrt(6)*x) + C2*cos(sqrt(6)*x))/cos(x)**1.0"
      ]
     },
     "metadata": {},
     "output_type": "display_data"
    }
   ],
   "source": [
    "from sympy import *\n",
    "from sympy.abc import x\n",
    "v = Function('v')(x)\n",
    "p = (-2)*tan(x)\n",
    "q = 5\n",
    "r = 0\n",
    "u = exp((-1/2)*integrate(p,x))\n",
    "print(u)\n",
    "I = q-((1/4)*(p**2))-((1/2)*p.diff(x))\n",
    "S = r/u\n",
    "print(I)\n",
    "if I.is_real:\n",
    "    I = int(I)\n",
    "    print(I)\n",
    "eq = (v.diff(x,2)+I*v-S).simplify()\n",
    "print(eq)\n",
    "sol = dsolve(eq,v).rhs\n",
    "print(sol)\n",
    "display(u*sol)"
   ]
  },
  {
   "cell_type": "code",
   "execution_count": null,
   "metadata": {},
   "outputs": [
    {
     "name": "stdout",
     "output_type": "stream",
     "text": [
      "[]\n"
     ]
    }
   ],
   "source": [
    "G={}\n",
    "H={}\n",
    "F=[]\n",
    "x=len(G)\n",
    "for g in G:\n",
    "    c=[]\n",
    "    for h in H:\n",
    "        c.append((g+h)%x)\n",
    "        c.sort()\n",
    "    if c not in F:\n",
    "        F.append(c)\n",
    "print(F)"
   ]
  },
  {
   "cell_type": "code",
   "execution_count": null,
   "metadata": {},
   "outputs": [
    {
     "name": "stdout",
     "output_type": "stream",
     "text": [
      "Fermats Little Theorem is satisfied for first 100 primes for a = 2\n"
     ]
    }
   ],
   "source": [
    "a=2\n",
    "n=100\n",
    "for i in range (1,n+1):\n",
    "    p = prime(i)\n",
    "    if a**p%p!=a%p:\n",
    "        print(\"Fermat's Little Theorem Fails for a =\",a,\"p =\",p)\n",
    "\n",
    "print(\"Fermats Little Theorem is satisfied for first\",n,\"primes for a =\",a)"
   ]
  },
  {
   "cell_type": "code",
   "execution_count": null,
   "metadata": {},
   "outputs": [],
   "source": [
    "from sympy import *\n",
    "from sympy.abc import t,s \n",
    "laplace_transform(x,t,s,noconds=True)\n",
    "inverse_laplace_transform(x,s,t,noconds=True)"
   ]
  },
  {
   "cell_type": "code",
   "execution_count": null,
   "metadata": {},
   "outputs": [
    {
     "name": "stdout",
     "output_type": "stream",
     "text": [
      "C1 + sqrt(2)*sqrt(a)/(2*x**2)\n",
      "sqrt(2)*sqrt(a)/(2*x**2)\n",
      "0\n",
      "0\n",
      "1\n",
      "1\n",
      "1/(2*a*x**2)\n",
      "1/(2*a*x**2)\n",
      "                          1   \n",
      "C₁⋅sin(z) + C₂⋅cos(z) + ──────\n",
      "                             2\n",
      "                        2⋅a⋅x \n",
      "      ⎛√2⋅√a⎞         ⎛√2⋅√a⎞     1   \n",
      "C₁⋅sin⎜─────⎟ + C₂⋅cos⎜─────⎟ + ──────\n",
      "      ⎜    2⎟         ⎜    2⎟        2\n",
      "      ⎝ 2⋅x ⎠         ⎝ 2⋅x ⎠   2⋅a⋅x \n"
     ]
    }
   ],
   "source": [
    "from sympy import *\n",
    "from sympy.abc import x,a \n",
    "z = Function('z')(x)\n",
    "y = Function('y')(x)\n",
    "p = 3/x\n",
    "q = a*2/x**6\n",
    "r = 1/x**8\n",
    "solz = dsolve((z.diff(x)**2)-q)[0].rhs\n",
    "print(solz)\n",
    "solz = solz.subs('C1',0)\n",
    "print(solz)\n",
    "z = Symbol('z')\n",
    "p1 = ((solz.diff(x,2)+p*solz.diff(x))/(solz.diff(x)**2)).simplify()\n",
    "print(p1)\n",
    "p1 = p1.replace(solz,z).simplify()\n",
    "print(p1)\n",
    "q1 = (q/(solz.diff(x)**2)).simplify()\n",
    "print(q1)\n",
    "q1 = q1.replace(solz,z)\n",
    "print(q1)\n",
    "r1 = (r/(solz.diff(x)**2)).simplify()\n",
    "print(r1)\n",
    "r1 = r1.replace(solz,z)\n",
    "print(r1)\n",
    "y = Function('y')(z)\n",
    "neq = y.diff(z,2)+p1*y.diff(z)+q1*y-r1\n",
    "sol = dsolve(neq,y).rhs\n",
    "pprint(sol)\n",
    "pprint(sol.subs(z,solz))"
   ]
  },
  {
   "cell_type": "code",
   "execution_count": null,
   "metadata": {},
   "outputs": [
    {
     "data": {
      "text/latex": [
       "$\\displaystyle C_{1} \\cos{\\left(2 x \\right)} + C_{2} \\sin{\\left(2 x \\right)} + \\log{\\left(\\sin{\\left(2 x \\right)} - 1 \\right)} \\cos{\\left(2 x \\right)} - \\log{\\left(\\sin{\\left(2 x \\right)} + 1 \\right)} \\cos{\\left(2 x \\right)}$"
      ],
      "text/plain": [
       "C1*cos(2*x) + C2*sin(2*x) + log(sin(2*x) - 1)*cos(2*x) - log(sin(2*x) + 1)*cos(2*x)"
      ]
     },
     "execution_count": 17,
     "metadata": {},
     "output_type": "execute_result"
    }
   ],
   "source": [
    "from sympy import *\n",
    "x = Symbol('x')\n",
    "C1 = Symbol('C1')\n",
    "C2 = Symbol('C2')\n",
    "y = Function('y')(x)\n",
    "def VarOfPar(P,Q,R):\n",
    "    eq = y.diff(x,2)+P*y.diff(x)+Q*y-R\n",
    "    CF = dsolve(eq).rhs.expand()\n",
    "    u = CF.coeff(C1)\n",
    "    v = CF.coeff(C2)\n",
    "    W = wronskian([u,v],x).simplify()\n",
    "    f = -(v*R/W).integrate(x)\n",
    "    g = (u*R/W).integrate(x)\n",
    "    PI = (u*f+v*g).simplify()\n",
    "    sol = (CF+PI).simplify()\n",
    "    return sol\n",
    "VarOfPar(0,4,4*tan(2*x))"
   ]
  },
  {
   "cell_type": "code",
   "execution_count": null,
   "metadata": {},
   "outputs": [
    {
     "name": "stdout",
     "output_type": "stream",
     "text": [
      "{0, 2, 4, 6} is a subgroup of {0, 1, 2, 3, 4, 5, 6, 7}\n"
     ]
    }
   ],
   "source": [
    "n = len(G)\n",
    "def add_mod(a,b):\n",
    "    return(a+b)%n\n",
    "def Lagrange_Theorem(ordG,cardH):\n",
    "    if ordG%cardH==0:\n",
    "        return True\n",
    "    return False\n",
    "def Check_Closure(G,H):\n",
    "    Hy = {add_mod(a,b) for a in H for b in H}\n",
    "    if Hy==H:\n",
    "        return True\n",
    "    return False\n",
    "def Check_Subgroup(G,H):\n",
    "    if Lagrange_Theorem(len(G),len(H)):\n",
    "        if Check_Closure(G,H):\n",
    "            print(H,'is a subgroup of',G)\n",
    "        else:\n",
    "            print(\"Lagrange's Theoremsatisfies, but\",H,\"is not a subgroup of\",G)\n",
    "    else:\n",
    "        print(\"Lns\")\n",
    "G = {0,1,2,3,4,5,6,7}\n",
    "Hx = {0,2,4,6}\n",
    "Check_Subgroup(G,Hx)"
   ]
  },
  {
   "cell_type": "code",
   "execution_count": null,
   "metadata": {},
   "outputs": [
    {
     "name": "stdout",
     "output_type": "stream",
     "text": [
      "Lagrange's Theoremsatisfies, but {0, 2, 4, 7} is not a subgroup of {0, 1, 2, 3, 4, 5, 6, 7}\n"
     ]
    }
   ],
   "source": [
    "G = {0,1,2,3,4,5,6,7}\n",
    "Hx = {0,2,4,7}\n",
    "Check_Subgroup(G,Hx)"
   ]
  }
 ],
 "metadata": {
  "kernelspec": {
   "display_name": "Python 3.10.4 64-bit",
   "language": "python",
   "name": "python3"
  },
  "language_info": {
   "codemirror_mode": {
    "name": "ipython",
    "version": 3
   },
   "file_extension": ".py",
   "mimetype": "text/x-python",
   "name": "python",
   "nbconvert_exporter": "python",
   "pygments_lexer": "ipython3",
   "version": "3.10.4"
  },
  "orig_nbformat": 4,
  "vscode": {
   "interpreter": {
    "hash": "aee8b7b246df8f9039afb4144a1f6fd8d2ca17a180786b69acc140d282b71a49"
   }
  }
 },
 "nbformat": 4,
 "nbformat_minor": 2
}
